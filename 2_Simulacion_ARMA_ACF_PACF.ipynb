{
  "nbformat": 4,
  "nbformat_minor": 0,
  "metadata": {
    "colab": {
      "provenance": [],
      "collapsed_sections": [
        "ZC8-G5bhylNO",
        "c0JZB_vaStc-",
        "x_V-ELoe4vsx",
        "Mbb4qFOAS0Po"
      ],
      "include_colab_link": true
    },
    "kernelspec": {
      "name": "ir",
      "display_name": "R"
    },
    "language_info": {
      "name": "R"
    }
  },
  "cells": [
    {
      "cell_type": "markdown",
      "metadata": {
        "id": "view-in-github",
        "colab_type": "text"
      },
      "source": [
        "<a href=\"https://colab.research.google.com/github/duvancatan/Time_Series_UdeA/blob/main/2_Simulacion_ARMA_ACF_PACF.ipynb\" target=\"_parent\"><img src=\"https://colab.research.google.com/assets/colab-badge.svg\" alt=\"Open In Colab\"/></a>"
      ]
    },
    {
      "cell_type": "markdown",
      "source": [
        "# Simulación Distribuciones Muestrales de ACF y PACF, y Modelos ARMA(p,q)\n",
        "\n",
        "Esta simulación tiene como objetivo ilustrar empíricamente que, para una serie estacionaria como el ruido blanco, los estimadores muestrales de la función de autocorrelación (ACF) y de autocorrelación parcial (PACF) en rezagos fijos siguen aproximadamente una distribución normal\n",
        "\n",
        "$$\\hat{\\rho}(h),\\ \\hat{\\phi}_{hh} \\sim \\mathcal{N} \\left( 0, \\frac{1}{n} \\right)$$\n",
        "\n",
        "cuando el tamaño de muestra n es suficientemente grande.\n",
        "\n",
        "\n",
        "Adicionalmente, simulamos de modelos autorregresivos de media móvil (ARMA) es una herramienta fundamental en el análisis de Series de Tiempo. Los modelos ARMA(p,q) son una combinación de procesos autorregresivos (AR) y de media móvil (MA), donde \"p\" representa el orden del componente AR y \"q\" representa el orden del componente MA.\n",
        "\n",
        "En la simulación de un modelo ARMA(p,q), se generan datos siguiendo un proceso estocástico definido por una combinación lineal de los términos autorregresivos y de media móvil, los cuales son ampliamente utilizados en finanzas, economía, ingeniería, entre otros campos, para modelar y predecir valores futuros.\n",
        "\n",
        "La simulación de un modelo ARMA implica la generación de una secuencia de datos que reflejan el comportamiento estocástico de la serie temporal bajo consideración, siguiendo las especificaciones del modelo ARMA(p,q) dado. Este proceso de simulación es esencial para comprender el comportamiento del modelo, evaluar su validez y desempeño, así como para realizar análisis de sensibilidad y pruebas de hipótesis.\n",
        "\n",
        " En R el proceso ARMA(p,q) con media cero esta definido por:\n",
        "\n",
        " $$x_{t} = a_1x_{t-1} + \\ldots + a_p x_{t-p} + \\omega_t + b_1\\omega_{t-1} + \\ldots + b_q\\omega_{t-q}$$\n",
        "\n",
        "\n",
        "\n",
        "\n",
        "\n",
        "\n",
        "\n"
      ],
      "metadata": {
        "id": "k8mjDZIPxTqN"
      }
    },
    {
      "cell_type": "markdown",
      "source": [
        "# Librerías\n",
        "\n",
        "\n"
      ],
      "metadata": {
        "id": "ZC8-G5bhylNO"
      }
    },
    {
      "cell_type": "code",
      "source": [
        "# Instalar Librerías #\n",
        "install.packages(\"stats\")\n",
        "install.packages(\"astsa\")\n",
        "install.packages(\"forecast\")\n",
        "install.packages(\"TSA\")"
      ],
      "metadata": {
        "id": "ePEmUvEU0KyX"
      },
      "execution_count": null,
      "outputs": []
    },
    {
      "cell_type": "code",
      "source": [
        "# Cargar Librerías #\n",
        "library(stats)\n",
        "library(astsa)\n",
        "library(forecast)\n",
        "library(\"TSA\")"
      ],
      "metadata": {
        "id": "1qRiqIhG0Ywu"
      },
      "execution_count": null,
      "outputs": []
    },
    {
      "cell_type": "markdown",
      "source": [
        "# 1. Distribución Empírica de la ACF y PACF\n",
        "\n",
        "Se realiza una simulación Monte Carlo para analizar la distribución muestral de los estimadores de autocorrelación y autocorrelación parcial en series estacionarias. Los resultados confirman que, en rezagos fijos, estos estimadores se aproximan a una distribución normal con media cero y varianza $1/n.$"
      ],
      "metadata": {
        "id": "XzVuWwRVb3lM"
      }
    },
    {
      "cell_type": "code",
      "source": [
        "# Definición de Parámetros\n",
        "B <- 1000                   # Número de simulaciones\n",
        "n_values <- c(50, 100, 200, 500, 1000) # Tamaños muestrales\n",
        "max_lag <- 10               # Máximo rezago"
      ],
      "metadata": {
        "id": "bCjm5xRAcFZv"
      },
      "execution_count": null,
      "outputs": []
    },
    {
      "cell_type": "code",
      "source": [
        "# Simulación de Ruido Blanco Normal con sus ACF y PACF\n",
        "for (n in n_values) {\n",
        "  acf_mat <- matrix(NA, nrow = B, ncol = max_lag)\n",
        "  pacf_mat <- matrix(NA, nrow = B, ncol = max_lag)\n",
        "\n",
        "  for (b in 1:B) {\n",
        "    x <- rnorm(n)  # Serie de ruido blanco\n",
        "    acf_vals <- acf(x, lag.max = max_lag, plot = FALSE)$acf[-1]   # quitar lag 0\n",
        "    pacf_vals <- pacf(x, lag.max = max_lag, plot = FALSE)$acf\n",
        "\n",
        "    acf_mat[b, ] <- acf_vals\n",
        "    pacf_mat[b, ] <- pacf_vals\n",
        "  }\n",
        "\n",
        "  # Analizar un rezago fijo (por ejemplo h = 1)\n",
        "  h <- 1\n",
        "  acf_h <- acf_mat[, h]\n",
        "  pacf_h <- pacf_mat[, h]\n",
        "\n",
        "  var_teo <- 1 / n  # Varianza teórica\n",
        "\n",
        "  # Graficar histogramas\n",
        "  par(mfrow = c(1, 2))  # Dos gráficos lado a lado\n",
        "\n",
        "  hist(acf_h, probability = TRUE, col = \"lightblue\", main = paste(\"ACF en h =\", h, \" (n =\", n, \")\"),\n",
        "       xlab = \"Valor de ACF\", xlim = c(-0.3, 0.3), breaks = 20)\n",
        "  curve(dnorm(x, mean = 0, sd = sqrt(var_teo)), col = \"red\", lwd = 2, add = TRUE)\n",
        "\n",
        "  hist(pacf_h, probability = TRUE, col = \"gray\", main = paste(\"PACF en h =\", h, \" (n =\", n, \")\"),\n",
        "       xlab = \"Valor de PACF\", xlim = c(-0.3, 0.3), breaks = 20)\n",
        "  curve(dnorm(x, mean = 0, sd = sqrt(var_teo)), col = \"blue\", lwd = 2, add = TRUE)\n",
        "\n",
        "  # Mostrar medias y varianzas empíricas\n",
        "  cat(\"\\nResultados para n =\", n, \"y rezago h =\", h,\",\", \"Varianza Teórica=\",var_teo, \"\\n\")\n",
        "  cat(\"Media ACF:  \", round(mean(acf_h), 4), \"   Varianza ACF:  \", round(var(acf_h), 4), \"\\n\")\n",
        "  cat(\"Media PACF: \", round(mean(pacf_h), 4), \"   Varianza PACF: \", round(var(pacf_h), 4), \"\\n\")\n",
        "}"
      ],
      "metadata": {
        "id": "hFlzfAdpcFzq"
      },
      "execution_count": null,
      "outputs": []
    },
    {
      "cell_type": "markdown",
      "source": [
        "# 2. Procesos Autorregresivos"
      ],
      "metadata": {
        "id": "korDy5tq5C3v"
      }
    },
    {
      "cell_type": "markdown",
      "source": [
        "## AR(1)"
      ],
      "metadata": {
        "id": "c0JZB_vaStc-"
      }
    },
    {
      "cell_type": "code",
      "source": [
        "# Número de observaciones a simular #\n",
        "num_sim = 500"
      ],
      "metadata": {
        "id": "wsBmSrLizkmN"
      },
      "execution_count": null,
      "outputs": []
    },
    {
      "cell_type": "code",
      "source": [
        "# Definición de los parametros del proceso #\n",
        "theta0_ar1 = 5 # Media\n",
        "phi1_ar1 = 0.8 # Parámetro autorregresivo\n",
        "var_RB_ar1 = 2 # Varianza del Ruido Blanco"
      ],
      "metadata": {
        "id": "taL9MYGXys4B"
      },
      "execution_count": null,
      "outputs": []
    },
    {
      "cell_type": "code",
      "source": [
        "# Simulación de un proceso AR(1) con at Normal #\n",
        "z_ar1 = arima.sim(n = num_sim, list(ar = phi1_ar1), mean = theta0_ar1, sd = sqrt(var_RB_ar1), n.start = 50)"
      ],
      "metadata": {
        "id": "q9qmOVGIz-FO"
      },
      "execution_count": null,
      "outputs": []
    },
    {
      "cell_type": "code",
      "source": [
        "# Gráfico de la serie simulada #\n",
        "options(repr.plot.width=14, repr.plot.height=8)\n",
        "plot.ts(z_ar1, main = \"Simulación de Proceso AR(1)\");grid()"
      ],
      "metadata": {
        "id": "SFsqIeC-0SAt"
      },
      "execution_count": null,
      "outputs": []
    },
    {
      "cell_type": "code",
      "source": [
        "# Función para graficar el círculo unitario\n",
        "plot_unit_circle <- function() {\n",
        "  theta <- seq(0, 2 * pi, length.out = 100)\n",
        "  x <- cos(theta)\n",
        "  y <- sin(theta)\n",
        "  lines(x, y, type = \"l\", col = \"black\", lty = 2)\n",
        "}"
      ],
      "metadata": {
        "id": "uiLaYG6DbEU4"
      },
      "execution_count": null,
      "outputs": []
    },
    {
      "cell_type": "code",
      "source": [
        "# Calcular las raíces del polinomio característico #\n",
        "phi1 <- phi1_ar1  # Coeficiente de MA(1)\n",
        "polinomio <- c(1, -phi1) # Coeficientes del polinomio característico\n",
        "raices <- polyroot(polinomio) # Calcular las raíces"
      ],
      "metadata": {
        "id": "yMkryyyBbEMa"
      },
      "execution_count": null,
      "outputs": []
    },
    {
      "cell_type": "code",
      "source": [
        "# Graficar las raíces en el círculo unitario junto con el círculo unitario #\n",
        "plot(1, type=\"n\", xlim=c(-2.0, 2.0), ylim=c(-2.0, 2.0), xlab=\"\", ylab=\"\", main=\"Raíces en el círculo unitario\")\n",
        "plot_unit_circle() # Graficar el círculo unitario\n",
        "symbols(raices, rep(0, length(raices)), circles=rep(1, length(raices)), inches=0.05, add=TRUE)\n",
        "abline(h=0, v=0) # Agregar ejes"
      ],
      "metadata": {
        "id": "54g-XDHybECb"
      },
      "execution_count": null,
      "outputs": []
    },
    {
      "cell_type": "code",
      "source": [
        "# ACF y PACF individuales #\n",
        "par(mfrow=c(2,1))\n",
        "acf(z_ar1, main = \"ACF de Proceso AR(1)\", ci=0)\n",
        "pacf(z_ar1, lag.max=15, , main = \"PACF de Proceso AR(1)\")"
      ],
      "metadata": {
        "id": "VfhGXYqt3nxJ"
      },
      "execution_count": null,
      "outputs": []
    },
    {
      "cell_type": "code",
      "source": [
        "# Obtención de la ACF y PACF, presentacion en un solo gráfico y sus valores #\n",
        "acf2(z_ar1, main = \"ACF y PACF de Proceso AR(1)\") # Graficar simultaneamente ACF y PACF"
      ],
      "metadata": {
        "id": "8PlAEa-S3yNE"
      },
      "execution_count": null,
      "outputs": []
    },
    {
      "cell_type": "markdown",
      "source": [
        "## Estimación AR(1)"
      ],
      "metadata": {
        "id": "x_V-ELoe4vsx"
      }
    },
    {
      "cell_type": "code",
      "source": [
        "# Función ar() #\n",
        "?ar"
      ],
      "metadata": {
        "id": "fdMYr3kV5Vow"
      },
      "execution_count": null,
      "outputs": []
    },
    {
      "cell_type": "code",
      "source": [
        "# Selecciona orden y Estimación #\n",
        "mod_ar10 <- ar(z_ar1)\n",
        "(mod_ar10)"
      ],
      "metadata": {
        "id": "BIJqkwZx6Gl6"
      },
      "execution_count": null,
      "outputs": []
    },
    {
      "cell_type": "code",
      "source": [
        "# Salidas de la función #\n",
        "names(mod_ar10)"
      ],
      "metadata": {
        "id": "1AnIobHX6GdR"
      },
      "execution_count": null,
      "outputs": []
    },
    {
      "cell_type": "code",
      "source": [
        "# Media estimada #\n",
        "med1 <- mod_ar10$x.mean\n",
        "cat('Media Estimada:', med1)"
      ],
      "metadata": {
        "id": "x67EWc_e6GU3"
      },
      "execution_count": null,
      "outputs": []
    },
    {
      "cell_type": "code",
      "source": [
        "var1 <- mod_ar10$asy.var.coef # Var Asint Estimada de Parámetros\n",
        "cat('Varianza Estimada:', var1)"
      ],
      "metadata": {
        "id": "3g3p-OYA6GM-"
      },
      "execution_count": null,
      "outputs": []
    },
    {
      "cell_type": "code",
      "source": [
        "sd1 <- sqrt(var1) # DS Asint Estimada de Parámetros\n",
        "cat('Desviación Estándar Estimada:', sd1)"
      ],
      "metadata": {
        "id": "wJeLZHDw6GD-"
      },
      "execution_count": null,
      "outputs": []
    },
    {
      "cell_type": "code",
      "source": [
        "# Función arima() #\n",
        "?arima"
      ],
      "metadata": {
        "id": "KPlxsKVZ5hRj"
      },
      "execution_count": null,
      "outputs": []
    },
    {
      "cell_type": "code",
      "source": [
        "# Parámetros Estimados #\n",
        "mod_ar11 <- arima(z_ar1, order = c(1,0,0))\n",
        "(mod_ar11)"
      ],
      "metadata": {
        "id": "YX46yaP1QOyt"
      },
      "execution_count": null,
      "outputs": []
    },
    {
      "cell_type": "code",
      "source": [
        "# Salidas de la función #\n",
        "names(mod_ar11)"
      ],
      "metadata": {
        "id": "5yRVa9xWQOsX"
      },
      "execution_count": null,
      "outputs": []
    },
    {
      "cell_type": "code",
      "source": [
        "# Función sarima() #\n",
        "?sarima"
      ],
      "metadata": {
        "id": "bgNjur9Q5hG2"
      },
      "execution_count": null,
      "outputs": []
    },
    {
      "cell_type": "code",
      "source": [
        "# Estimación y diagnótico con SARIMA() #\n",
        "mod_ar12<-sarima(z_ar1, p=1,d=0,q=0);\n",
        "(mod_ar12)"
      ],
      "metadata": {
        "id": "g-3IZHX1R2_Y"
      },
      "execution_count": null,
      "outputs": []
    },
    {
      "cell_type": "code",
      "source": [
        "# Información general del modelo #\n",
        "summary(mod_ar12)"
      ],
      "metadata": {
        "id": "64X3euVFR28v"
      },
      "execution_count": null,
      "outputs": []
    },
    {
      "cell_type": "code",
      "source": [
        "# Modelo usando la función auto.arima() #\n",
        "mod_aut<-auto.arima(z_ar1)\n",
        "mod_aut"
      ],
      "metadata": {
        "id": "k0jO5pakZZaI"
      },
      "execution_count": null,
      "outputs": []
    },
    {
      "cell_type": "markdown",
      "source": [
        "## AR(2)"
      ],
      "metadata": {
        "id": "i6b8IJ_4S4M0"
      }
    },
    {
      "cell_type": "code",
      "source": [
        "# Número de observaciones a simular #\n",
        "num_sim = 500"
      ],
      "metadata": {
        "id": "KYSUKuj5TYrE"
      },
      "execution_count": null,
      "outputs": []
    },
    {
      "cell_type": "code",
      "source": [
        "# Definición de los parametros del proceso #\n",
        "theta0_ar2 = 3 # Intercepto\n",
        "phi1_ar2 = 1.2 # Parametro autorregresivo 1\n",
        "phi2_ar2 = -0.32 # Parametro autorregresivo 2\n",
        "var_RB_ar2 = 1 # Varianza del RB"
      ],
      "metadata": {
        "id": "-N4sDlGwTdR9"
      },
      "execution_count": null,
      "outputs": []
    },
    {
      "cell_type": "code",
      "source": [
        "# Simulacion de un proceso AR(2) con at Normal #\n",
        "z_ar2 = arima.sim(n = num_sim, list(ar = c(phi1_ar2, phi2_ar2)), mean = theta0_ar2, sd = sqrt(var_RB_ar2), n.start = 20)"
      ],
      "metadata": {
        "id": "QK1RcZl1WkGI"
      },
      "execution_count": null,
      "outputs": []
    },
    {
      "cell_type": "code",
      "source": [
        "# Gráfico de la serie simulada #\n",
        "ts.plot(z_ar2, main = \"Simulación de Proceso AR(2)\") ;grid()"
      ],
      "metadata": {
        "id": "NdOHszoFWzjd"
      },
      "execution_count": null,
      "outputs": []
    },
    {
      "cell_type": "code",
      "source": [
        "# Función para graficar el círculo unitario\n",
        "plot_unit_circle <- function() {\n",
        "  theta <- seq(0, 2 * pi, length.out = 100)\n",
        "  x <- cos(theta)\n",
        "  y <- sin(theta)\n",
        "  lines(x, y, type = \"l\", col = \"black\", lty = 2)\n",
        "}"
      ],
      "metadata": {
        "id": "jlbuiN1DUJHf"
      },
      "execution_count": null,
      "outputs": []
    },
    {
      "cell_type": "code",
      "source": [
        "# Calcular las raíces del polinomio característico #\n",
        "phi1 <- phi1_ar2  # Coeficiente de AR(1)\n",
        "phi2 <- phi2_ar2 # Coeficiente de AR(2)\n",
        "polinomio <- c(1, -phi1, -phi2) # Coeficientes del polinomio característico\n",
        "raices <- polyroot(polinomio) # Calcular las raíces"
      ],
      "metadata": {
        "id": "wzAK0MnbPcAs"
      },
      "execution_count": null,
      "outputs": []
    },
    {
      "cell_type": "code",
      "source": [
        "# Graficar las raíces en el círculo unitario junto con el círculo unitario #\n",
        "plot(1, type=\"n\", xlim=c(-2.7, 2.7), ylim=c(-2.7, 2.7), xlab=\"\", ylab=\"\", main=\"Raíces en el círculo unitario\")\n",
        "plot_unit_circle() # Graficar el círculo unitario\n",
        "symbols(raices, rep(0, length(raices)), circles=rep(1, length(raices)), inches=0.05, add=TRUE)\n",
        "abline(h=0, v=0) # Agregar ejes"
      ],
      "metadata": {
        "id": "zgJtCldsM7CE"
      },
      "execution_count": null,
      "outputs": []
    },
    {
      "cell_type": "code",
      "source": [
        "# ACF y PACF individuales #\n",
        "par(mfrow=c(2,1))\n",
        "acf(z_ar2, main = \"ACF de Proceso AR(2)\", ci=0)\n",
        "pacf(z_ar2, lag.max=15, , main = \"PACF de Proceso AR(2)\")"
      ],
      "metadata": {
        "id": "1hNRJH8VQ_5K"
      },
      "execution_count": null,
      "outputs": []
    },
    {
      "cell_type": "code",
      "source": [
        "# Obtención de la ACF y PACF, presentacion en un solo gráfico y sus valores #\n",
        "acf2(z_ar2, main = \"ACF y PACF de Proceso AR(2)\") # Graficar simultaneamente ACF y PACF"
      ],
      "metadata": {
        "id": "ccEThz6BRRCb"
      },
      "execution_count": null,
      "outputs": []
    },
    {
      "cell_type": "markdown",
      "source": [
        "## Estimación AR(2)"
      ],
      "metadata": {
        "id": "Mbb4qFOAS0Po"
      }
    },
    {
      "cell_type": "code",
      "source": [
        "# Función ar() #\n",
        "?ar"
      ],
      "metadata": {
        "id": "4leHgoNXSzNJ"
      },
      "execution_count": null,
      "outputs": []
    },
    {
      "cell_type": "code",
      "source": [
        "# Selecciona orden y Estimación #\n",
        "mod_ar20 <- ar(z_ar2)\n",
        "(mod_ar20)"
      ],
      "metadata": {
        "id": "mK3mphs8RQ_4"
      },
      "execution_count": null,
      "outputs": []
    },
    {
      "cell_type": "code",
      "source": [
        "# Salidas de la función #\n",
        "names(mod_ar20)"
      ],
      "metadata": {
        "id": "uGstf0R2SuSE"
      },
      "execution_count": null,
      "outputs": []
    },
    {
      "cell_type": "code",
      "source": [
        "# Media estimada #\n",
        "med2 <- mod_ar20$x.mean\n",
        "cat('Media Estimada:', med2)"
      ],
      "metadata": {
        "id": "lHGz3ctuTb6H"
      },
      "execution_count": null,
      "outputs": []
    },
    {
      "cell_type": "code",
      "source": [
        "var2 <- mod_ar20$asy.var.coef # Var Asint Estimada de Parámetros\n",
        "cat('Varianza Estimada:', var2)"
      ],
      "metadata": {
        "id": "dKaPHqyXTb24"
      },
      "execution_count": null,
      "outputs": []
    },
    {
      "cell_type": "code",
      "source": [
        "sd2 <- sqrt(var2) # DS Asint Estimada de Parámetros\n",
        "cat('Desviación Estándar Estimada:', sd2)"
      ],
      "metadata": {
        "id": "HTxN6ydBTbz5"
      },
      "execution_count": null,
      "outputs": []
    },
    {
      "cell_type": "code",
      "source": [
        "# Función arima() #\n",
        "?arima"
      ],
      "metadata": {
        "id": "r6XDTEMGTbxB"
      },
      "execution_count": null,
      "outputs": []
    },
    {
      "cell_type": "code",
      "source": [
        "# Parámetros Estimados\n",
        "mod_ar21 <- arima(z_ar2, order = c(2,0,0))\n",
        "(mod_ar21)"
      ],
      "metadata": {
        "id": "RZYklGCmTbuc"
      },
      "execution_count": null,
      "outputs": []
    },
    {
      "cell_type": "code",
      "source": [
        "# Salidas de la función #\n",
        "names(mod_ar21)"
      ],
      "metadata": {
        "id": "7_n3-kmzSuOM"
      },
      "execution_count": null,
      "outputs": []
    },
    {
      "cell_type": "code",
      "source": [
        "# Función sarima() #\n",
        "?sarima"
      ],
      "metadata": {
        "id": "5_Lh-YgKSuKS"
      },
      "execution_count": null,
      "outputs": []
    },
    {
      "cell_type": "code",
      "source": [
        "# Estimación y diagnótico con SARIMA() #\n",
        "mod_ar22<-sarima(z_ar2, p=2,d=0,q=0);\n",
        "(mod_ar22)"
      ],
      "metadata": {
        "id": "EvjiwG5wRQ6-"
      },
      "execution_count": null,
      "outputs": []
    },
    {
      "cell_type": "code",
      "source": [
        "# Información general del modelo #\n",
        "summary(mod_ar22)"
      ],
      "metadata": {
        "id": "slX9B1O0T7Ol"
      },
      "execution_count": null,
      "outputs": []
    },
    {
      "cell_type": "code",
      "source": [
        "# Modelo usando la función auto.arima() #\n",
        "mod_aut<-auto.arima(z_ar2)\n",
        "mod_aut"
      ],
      "metadata": {
        "id": "EaqddueyZ1CX"
      },
      "execution_count": null,
      "outputs": []
    },
    {
      "cell_type": "markdown",
      "source": [
        "# 3. Procesos de Medias Móviles"
      ],
      "metadata": {
        "id": "1nRnwxYwV7i4"
      }
    },
    {
      "cell_type": "markdown",
      "source": [
        "## MA(1)"
      ],
      "metadata": {
        "id": "vsUIiS-zXKwh"
      }
    },
    {
      "cell_type": "code",
      "source": [
        "# Número de observaciones a simular #\n",
        "num_sim = 500"
      ],
      "metadata": {
        "id": "szf26y0pW-w5"
      },
      "execution_count": null,
      "outputs": []
    },
    {
      "cell_type": "code",
      "source": [
        "# Definicion de los parametros del proceso #\n",
        "theta0_ma1 = 5\n",
        "theta1_ma1 = 0.7\n",
        "var_RB_ma1 = 2"
      ],
      "metadata": {
        "id": "u05WN8_BXURl"
      },
      "execution_count": null,
      "outputs": []
    },
    {
      "cell_type": "code",
      "source": [
        "# Simulacion de un proceso MA(1) Normal #\n",
        "z_ma1 = theta0_ma1 + arima.sim(n = num_sim, list(ma = theta1_ma1), sd = sqrt(var_RB_ma1), n.start=50)"
      ],
      "metadata": {
        "id": "ir3pP_PHXUP0"
      },
      "execution_count": null,
      "outputs": []
    },
    {
      "cell_type": "code",
      "source": [
        "# Gráfico de la serie simulada #\n",
        "ts.plot(z_ma1, main = \"Simulación de Proceso MA(1)\") ;grid()"
      ],
      "metadata": {
        "id": "foYvHkvgXUOA"
      },
      "execution_count": null,
      "outputs": []
    },
    {
      "cell_type": "code",
      "source": [
        "# Función para graficar el círculo unitario\n",
        "plot_unit_circle <- function() {\n",
        "  theta <- seq(0, 2 * pi, length.out = 100)\n",
        "  x <- cos(theta)\n",
        "  y <- sin(theta)\n",
        "  lines(x, y, type = \"l\", col = \"black\", lty = 2)\n",
        "}"
      ],
      "metadata": {
        "id": "Q4is29Z3XUIz"
      },
      "execution_count": null,
      "outputs": []
    },
    {
      "cell_type": "code",
      "source": [
        "# Calcular las raíces del polinomio característico #\n",
        "theta1 <- theta1_ma1  # Coeficiente de MA(1)\n",
        "polinomio <- c(1, -theta1) # Coeficientes del polinomio característico\n",
        "raices <- polyroot(polinomio) # Calcular las raíces\n",
        "raices"
      ],
      "metadata": {
        "id": "YTv1slRHXUEv"
      },
      "execution_count": null,
      "outputs": []
    },
    {
      "cell_type": "code",
      "source": [
        "# Graficar las raíces en el círculo unitario junto con el círculo unitario #\n",
        "plot(1, type=\"n\", xlim=c(-2.0, 2.0), ylim=c(-2.0, 2.0), xlab=\"\", ylab=\"\", main=\"Raíces en el círculo unitario\")\n",
        "plot_unit_circle() # Graficar el círculo unitario\n",
        "symbols(raices, rep(0, length(raices)), circles=rep(1, length(raices)), inches=0.05, add=TRUE)\n",
        "abline(h=0, v=0) # Agregar ejes"
      ],
      "metadata": {
        "id": "I9zEMoAyYany"
      },
      "execution_count": null,
      "outputs": []
    },
    {
      "cell_type": "code",
      "source": [
        "# ACF y PACF individuales #\n",
        "par(mfrow=c(2,1))\n",
        "acf(z_ma1, main = \"ACF de Proceso MA(1)\")\n",
        "pacf(z_ma1, lag.max=15, , main = \"PACF de Proceso MA(1)\", ci=0)"
      ],
      "metadata": {
        "id": "EKYopa_5Yak0"
      },
      "execution_count": null,
      "outputs": []
    },
    {
      "cell_type": "code",
      "source": [
        "# Obtención de la ACF y PACF, presentacion en un solo gráfico y sus valores #\n",
        "acf2(z_ma1, main = \"ACF y PACF de Proceso MA(1)\") # Graficar simultaneamente ACF y PACF"
      ],
      "metadata": {
        "id": "l-PJUZAqYaiD"
      },
      "execution_count": null,
      "outputs": []
    },
    {
      "cell_type": "markdown",
      "source": [
        "## Estimación MA(1)"
      ],
      "metadata": {
        "id": "2AWEcyysuagM"
      }
    },
    {
      "cell_type": "code",
      "source": [
        "# Función arima() #\n",
        "?arima"
      ],
      "metadata": {
        "id": "nb5_G_frYafd"
      },
      "execution_count": null,
      "outputs": []
    },
    {
      "cell_type": "code",
      "source": [
        "# Parámetro Estiamdos #\n",
        "mod_ma10 <- arima(z_ma1, order = c(0,0,1))\n",
        "(mod_ma10)"
      ],
      "metadata": {
        "id": "855ogbfSYacx"
      },
      "execution_count": null,
      "outputs": []
    },
    {
      "cell_type": "code",
      "source": [
        "# Salidas de la función #\n",
        "names(mod_ma10)"
      ],
      "metadata": {
        "id": "zWBGccyiXUBn"
      },
      "execution_count": null,
      "outputs": []
    },
    {
      "cell_type": "code",
      "source": [
        "# Función sarima() #\n",
        "?sarima"
      ],
      "metadata": {
        "id": "pnSuZUvoXT_D"
      },
      "execution_count": null,
      "outputs": []
    },
    {
      "cell_type": "code",
      "source": [
        "# Estimación y diagnótico con SARIMA() #\n",
        "mod_ma12<-sarima(z_ma1, p=0,d=0,q=1);\n",
        "(mod_ma12)"
      ],
      "metadata": {
        "id": "D2mNrym_W9ag"
      },
      "execution_count": null,
      "outputs": []
    },
    {
      "cell_type": "code",
      "source": [
        "# Información general del modelo #\n",
        "summary(mod_ma12)"
      ],
      "metadata": {
        "id": "gg8BzYCQup8E"
      },
      "execution_count": null,
      "outputs": []
    },
    {
      "cell_type": "code",
      "source": [
        "# Modelo usando la función auto.arima() #\n",
        "mod_aut<-auto.arima(z_ma1)\n",
        "mod_aut"
      ],
      "metadata": {
        "id": "FokHVzmAZ817"
      },
      "execution_count": null,
      "outputs": []
    },
    {
      "cell_type": "markdown",
      "source": [
        "## MA(2)"
      ],
      "metadata": {
        "id": "FGScWwbqv8XW"
      }
    },
    {
      "cell_type": "code",
      "source": [
        "# Número de observaciones a simular #\n",
        "num_sim = 500"
      ],
      "metadata": {
        "id": "ISOSumMIwFPc"
      },
      "execution_count": null,
      "outputs": []
    },
    {
      "cell_type": "code",
      "source": [
        "# Definicion de los parametros del proceso #\n",
        "theta0_ma2 = 0\n",
        "theta1_ma2 = 0.4\n",
        "theta2_ma2 =-0.3\n",
        "var_RB_ma2 = 2"
      ],
      "metadata": {
        "id": "gqBoMLxJwAKx"
      },
      "execution_count": null,
      "outputs": []
    },
    {
      "cell_type": "code",
      "source": [
        "# Simulacion de un proceso MA(2) Normal #\n",
        "z_ma2 = arima.sim(n = num_sim, list(ma = c(theta1_ma2, theta2_ma2)), sd = sqrt(var_RB_ma2), n.start=50)"
      ],
      "metadata": {
        "id": "SoqzhYQiwbpH"
      },
      "execution_count": null,
      "outputs": []
    },
    {
      "cell_type": "code",
      "source": [
        "# Gráfico de la serie simulada #\n",
        "ts.plot(z_ma2, main = \"Simulación de Proceso MA(2)\") ;grid()"
      ],
      "metadata": {
        "id": "IPLQXTH9wR0I"
      },
      "execution_count": null,
      "outputs": []
    },
    {
      "cell_type": "code",
      "source": [
        "# Función para graficar el círculo unitario\n",
        "plot_unit_circle <- function() {\n",
        "  theta <- seq(0, 2 * pi, length.out = 100)\n",
        "  x <- cos(theta)\n",
        "  y <- sin(theta)\n",
        "  lines(x, y, type = \"l\", col = \"black\", lty = 2)\n",
        "}"
      ],
      "metadata": {
        "id": "AHc6-IlZwnRV"
      },
      "execution_count": null,
      "outputs": []
    },
    {
      "cell_type": "code",
      "source": [
        "# Calcular las raíces del polinomio característico #\n",
        "theta1 <- theta1_ma2  # Coeficiente de MA(1)\n",
        "theta2 <- theta2_ma2  # Coeficiente de MA(2)\n",
        "polinomio <- c(1, -theta1, -theta2) # Coeficientes del polinomio característico\n",
        "raices <- polyroot(polinomio) # Calcular las raíces\n",
        "(raices=abs(raices))"
      ],
      "metadata": {
        "id": "1KmADow3xIDe"
      },
      "execution_count": null,
      "outputs": []
    },
    {
      "cell_type": "code",
      "source": [
        "# Graficar las raíces en el círculo unitario junto con el círculo unitario #\n",
        "plot(1, type=\"n\", xlim=c(-2.8, 2.8), ylim=c(-2.8, 2.8), xlab=\"\", ylab=\"\", main=\"Raíces en el círculo unitario\")\n",
        "plot_unit_circle() # Graficar el círculo unitario\n",
        "symbols(raices, rep(0, length(raices)), circles=rep(1, length(raices)), inches=0.05, add=TRUE)\n",
        "abline(h=0, v=0) # Agregar ejes"
      ],
      "metadata": {
        "id": "2WSz6vkjxIBB"
      },
      "execution_count": null,
      "outputs": []
    },
    {
      "cell_type": "code",
      "source": [
        "# ACF y PACF individuales #\n",
        "par(mfrow=c(2,1))\n",
        "acf(z_ma2, main = \"ACF de Proceso MA(2)\")\n",
        "pacf(z_ma2, lag.max=15, , main = \"PACF de Proceso MA(2)\", ci=0)"
      ],
      "metadata": {
        "id": "MGOP7L0qUfNH"
      },
      "execution_count": null,
      "outputs": []
    },
    {
      "cell_type": "code",
      "source": [
        "# Obtención de la ACF y PACF, presentacion en un solo gráfico y sus valores #\n",
        "acf2(z_ma2, main = \"ACF y PACF de Proceso MA(2)\") # Graficar simultaneamente ACF y PACF"
      ],
      "metadata": {
        "id": "yRY4QckpUfAn"
      },
      "execution_count": null,
      "outputs": []
    },
    {
      "cell_type": "markdown",
      "source": [
        "## Estimación MA(2)"
      ],
      "metadata": {
        "id": "0NbOyPZE8cRO"
      }
    },
    {
      "cell_type": "code",
      "source": [
        "# Función arima() #\n",
        "?arima"
      ],
      "metadata": {
        "id": "R5zJx6wpxH-k"
      },
      "execution_count": null,
      "outputs": []
    },
    {
      "cell_type": "code",
      "source": [
        "# Parámetros Estimados #\n",
        "mod_ma21 <- arima(z_ma2, order = c(0,0,2), method = c(\"CSS-ML\"))\n",
        "(mod_ma21)"
      ],
      "metadata": {
        "id": "ov_5nkmfxH75"
      },
      "execution_count": null,
      "outputs": []
    },
    {
      "cell_type": "code",
      "source": [
        "# Salidas de la función #\n",
        "names(mod_ma21)"
      ],
      "metadata": {
        "id": "E1Q77FKcxH5A"
      },
      "execution_count": null,
      "outputs": []
    },
    {
      "cell_type": "code",
      "source": [
        "# Información general del modelo #\n",
        "summary(mod_ma21)"
      ],
      "metadata": {
        "id": "i332NB6z9i6s"
      },
      "execution_count": null,
      "outputs": []
    },
    {
      "cell_type": "code",
      "source": [
        "# Función sarima() #\n",
        "?sarima"
      ],
      "metadata": {
        "id": "WNBpOxdaxHzK"
      },
      "execution_count": null,
      "outputs": []
    },
    {
      "cell_type": "code",
      "source": [
        "# Estimación alternativa con SARIMA() #\n",
        "mod_ma22<-sarima(z_ma2, p=0,d=0,q=2);\n",
        "(mod_ma22)"
      ],
      "metadata": {
        "id": "aX10TZ-F9Fpc"
      },
      "execution_count": null,
      "outputs": []
    },
    {
      "cell_type": "code",
      "source": [
        "# Modelo usando la función auto.arima() #\n",
        "mod_aut<-auto.arima(z_ma2)\n",
        "mod_aut"
      ],
      "metadata": {
        "id": "oCgOBcKjaC0o"
      },
      "execution_count": null,
      "outputs": []
    },
    {
      "cell_type": "markdown",
      "source": [
        "# 4. Procesos Autorregresivos y de Medias Móviles"
      ],
      "metadata": {
        "id": "xtR6vgPJ941t"
      }
    },
    {
      "cell_type": "markdown",
      "source": [
        "## ARMA(1,1)"
      ],
      "metadata": {
        "id": "mo1pweLa-DAR"
      }
    },
    {
      "cell_type": "code",
      "source": [
        "# Número de observaciones a simular #\n",
        "num_sim = 500"
      ],
      "metadata": {
        "id": "KrPgkaXF-mf1"
      },
      "execution_count": null,
      "outputs": []
    },
    {
      "cell_type": "code",
      "source": [
        "# Definicion de los parametros del proceso #\n",
        "theta0_arma11 = 0 # Intercepto\n",
        "phi1_arma11 = 0.5 # Parámetro AR\n",
        "theta1_arma11 = 0.7 # Parámetro MA\n",
        "var_RB_arma11 = 2 # Varianza Ruido Blanco"
      ],
      "metadata": {
        "id": "99Yg-1Zd-t0u"
      },
      "execution_count": null,
      "outputs": []
    },
    {
      "cell_type": "code",
      "source": [
        "# Simulacion de un proceso ARMA(1,1) con at N(0,2) #\n",
        "z_arma11 = arima.sim(n = num_sim, list(ar = phi1_arma11, ma = theta1_arma11), mean = theta0_arma11,  sd = sqrt(var_RB_arma11), n.start=50)"
      ],
      "metadata": {
        "id": "DIUjDggT-tyb"
      },
      "execution_count": null,
      "outputs": []
    },
    {
      "cell_type": "code",
      "source": [
        "# Gráfico de la serie simulada #\n",
        "ts.plot(z_arma11, main = \"Simulación de Proceso ARMA(1,1)\") ;grid()"
      ],
      "metadata": {
        "id": "vIai6DM--twB"
      },
      "execution_count": null,
      "outputs": []
    },
    {
      "cell_type": "code",
      "source": [
        "# ACF y PACF individuales #\n",
        "par(mfrow=c(2,1))\n",
        "acf(z_arma11, main = \"ACF de Proceso ARMA(1,1)\")\n",
        "pacf(z_arma11, lag.max=15, , main = \"PACF de Proceso ARMA(1,1)\")"
      ],
      "metadata": {
        "id": "2rjjHUuBU5aA"
      },
      "execution_count": null,
      "outputs": []
    },
    {
      "cell_type": "code",
      "source": [
        "# Obtención de la ACF y PACF, presentacion en un solo gráfico y sus valores #\n",
        "acf2(z_arma11, main = \"ACF y PACF de Proceso ARMA(1,1)\") # Graficar simultaneamente ACF y PACF"
      ],
      "metadata": {
        "id": "fNTXOufv_2M8"
      },
      "execution_count": null,
      "outputs": []
    },
    {
      "cell_type": "code",
      "source": [
        "# Función de Autocorrelación Extendida EACF #\n",
        "eacf(z_arma11)"
      ],
      "metadata": {
        "id": "BL91S14PtUXl"
      },
      "execution_count": null,
      "outputs": []
    },
    {
      "cell_type": "markdown",
      "source": [
        "## Estimación ARMA(1,1)"
      ],
      "metadata": {
        "id": "CIsC77YS_8AG"
      }
    },
    {
      "cell_type": "code",
      "source": [
        "# Función arima() #\n",
        "?arima"
      ],
      "metadata": {
        "id": "fjt7dR78_6MB"
      },
      "execution_count": null,
      "outputs": []
    },
    {
      "cell_type": "code",
      "source": [
        "# Parámetro Estimados #\n",
        "mod_arma1 <- arima(z_arma11, order = c(1,0,1))\n",
        "(mod_arma1)"
      ],
      "metadata": {
        "id": "xwJEjeqo-tqn"
      },
      "execution_count": null,
      "outputs": []
    },
    {
      "cell_type": "code",
      "source": [
        "# Salidas de la función #\n",
        "names(mod_arma1)"
      ],
      "metadata": {
        "id": "a5vC4opF-mUd"
      },
      "execution_count": null,
      "outputs": []
    },
    {
      "cell_type": "code",
      "source": [
        "# Información general del modelo #\n",
        "summary(mod_arma1)"
      ],
      "metadata": {
        "id": "4TuiCN4DVvkR"
      },
      "execution_count": null,
      "outputs": []
    },
    {
      "cell_type": "code",
      "source": [
        "# Función sarima() #\n",
        "?sarima"
      ],
      "metadata": {
        "id": "uP7HXXOiVvhA"
      },
      "execution_count": null,
      "outputs": []
    },
    {
      "cell_type": "code",
      "source": [
        "# Estimación alternativa con SARIMA() #\n",
        "mod_arma2<-sarima(z_arma11, p=1,d=0,q=1);"
      ],
      "metadata": {
        "id": "CT5Oq_3HVxn7"
      },
      "execution_count": null,
      "outputs": []
    },
    {
      "cell_type": "code",
      "source": [
        "# Modelo usando la función auto.arima() #\n",
        "mod_aut<-auto.arima(z_arma11)\n",
        "mod_aut"
      ],
      "metadata": {
        "id": "zJ19UkBMaOce"
      },
      "execution_count": null,
      "outputs": []
    },
    {
      "cell_type": "markdown",
      "source": [],
      "metadata": {
        "id": "iDhDvqCxY5jd"
      }
    },
    {
      "cell_type": "markdown",
      "source": [
        "# 5. Representación MA(infty) de un ARMA(p,q)"
      ],
      "metadata": {
        "id": "ZQkYMHVIajPT"
      }
    },
    {
      "cell_type": "code",
      "source": [
        "# Función ARMAtoMA() #\n",
        "?ARMAtoMA"
      ],
      "metadata": {
        "id": "QwF8vJhEa82y"
      },
      "execution_count": null,
      "outputs": []
    },
    {
      "cell_type": "code",
      "source": [
        "# 10 coeficientes de un AR(1) #\n",
        "ARMAtoMA(ar=0.7, ma=-0.4, lag.max=10)"
      ],
      "metadata": {
        "id": "jGeiSGX9az0q"
      },
      "execution_count": null,
      "outputs": []
    },
    {
      "cell_type": "code",
      "source": [
        "# 10 coeficientes de un ARMA(1,1) y 1.5 es el coeficiente del término de media móvil (MA) #\n",
        "ARMAtoMA(c(1.0, -0.25), 1.5, lag.max=10)"
      ],
      "metadata": {
        "id": "7W6CfR_QbQnW"
      },
      "execution_count": null,
      "outputs": []
    },
    {
      "cell_type": "code",
      "source": [
        "# 10 coeficientes de un ARMA(1,1) #\n",
        "ARMAtoMA(c(1.0, -0.25), lag.max=10)"
      ],
      "metadata": {
        "id": "ZTrYm5o6dOW7"
      },
      "execution_count": null,
      "outputs": []
    }
  ]
}