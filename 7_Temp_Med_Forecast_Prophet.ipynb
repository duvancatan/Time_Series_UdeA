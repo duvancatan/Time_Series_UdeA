{
  "nbformat": 4,
  "nbformat_minor": 0,
  "metadata": {
    "colab": {
      "provenance": [],
      "authorship_tag": "ABX9TyNOl+kMShQWq16w1k8uqiad",
      "include_colab_link": true
    },
    "kernelspec": {
      "name": "python3",
      "display_name": "Python 3"
    },
    "language_info": {
      "name": "python"
    }
  },
  "cells": [
    {
      "cell_type": "markdown",
      "metadata": {
        "id": "view-in-github",
        "colab_type": "text"
      },
      "source": [
        "<a href=\"https://colab.research.google.com/github/duvancatan/Time_Series_UdeA/blob/main/7_Temp_Med_Forecast_Prophet.ipynb\" target=\"_parent\"><img src=\"https://colab.research.google.com/assets/colab-badge.svg\" alt=\"Open In Colab\"/></a>"
      ]
    },
    {
      "cell_type": "markdown",
      "source": [
        "![prophet.png](data:image/png;base64,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)"
      ],
      "metadata": {
        "id": "10OeHt5tQFeC"
      }
    },
    {
      "cell_type": "markdown",
      "source": [
        "# **Metodología : PROPHET**\n",
        "Prophet es un procedimiento para pronosticar datos de series temporales basado en un modelo aditivo donde las tendencias no lineales se ajustan a la estacionalidad anual, semanal y diaria, además de los efectos de las vacaciones. Funciona mejor con series temporales que tienen fuertes efectos estacionales y varias temporadas de datos históricos. Prophet es resistente a los datos faltantes y a los cambios en la tendencia y, por lo general, maneja bien los valores atípicos.\n",
        "\n",
        "## **Características**:\n",
        "1. Preciso y rápido: Prophet es preciso y rápido. Se utiliza en muchas aplicaciones de Facebook para producir pronósticos confiables para la planificación y el establecimiento de objetivos.\n",
        "2. Completamente automático: Prophet es completamente automático. Obtendremos un pronóstico razonable sobre datos confusos sin esfuerzo manual.\n",
        "3. Pronósticos ajustables: Prophet produce pronósticos ajustables. Incluye muchas posibilidades para que los usuarios modifiquen y ajusten los pronósticos. Podemos utilizar parámetros interpretables por humanos para mejorar el pronóstico agregando nuestro conocimiento del dominio.\n",
        "4. Disponible en R o Python: podemos implementar el procedimiento Prophet en R o Python.\n",
        "5. Maneja bien las variaciones estacionales: Prophet se adapta a la estacionalidad con múltiples períodos.\n",
        "6. Robusto ante valores atípicos: es robusto ante valores atípicos. Maneja los valores atípicos eliminándolos.\n",
        "7. Robusto ante datos faltantes: Prophet es resistente a datos faltantes."
      ],
      "metadata": {
        "id": "8A94X-u_7-T5"
      }
    },
    {
      "cell_type": "markdown",
      "source": [
        "## **DATOS : METEOSTAT**\n",
        "La biblioteca Meteostat Python proporciona acceso sencillo a datos meteorológicos y climáticos abiertos mediante Pandas. Las observaciones y estadísticas históricas se obtienen de la interfaz de datos masivos de Meteostat y consisten en datos proporcionados por diferentes interfaces públicas, la mayoría de las cuales son gubernamentales. Entre las fuentes de datos se encuentran servicios meteorológicos nacionales como la Administración Nacional Oceánica y Atmosférica (NOAA) y el servicio meteorológico nacional de Alemania (DWD)."
      ],
      "metadata": {
        "id": "zQAjAiQ1_hVs"
      }
    },
    {
      "cell_type": "markdown",
      "source": [
        "## Instalación y carga de librerías"
      ],
      "metadata": {
        "id": "5RJy1kq7meTQ"
      }
    },
    {
      "cell_type": "code",
      "execution_count": null,
      "metadata": {
        "id": "w642vyBHzPuh"
      },
      "outputs": [],
      "source": [
        "!pip install meteostat\n",
        "!pip install prophet\n",
        "import pandas as pd\n",
        "import numpy as np\n",
        "import matplotlib.pyplot as plt\n",
        "\n",
        "from meteostat import Stations, Daily\n",
        "from datetime import datetime\n",
        "from prophet import Prophet\n",
        "from prophet.plot import add_changepoints_to_plot\n",
        "from prophet.diagnostics import cross_validation, performance_metrics\n",
        "from prophet.plot import plot_cross_validation_metric"
      ]
    },
    {
      "cell_type": "markdown",
      "source": [
        "# **Descripción :**\n",
        "\n",
        "La metodología Prophet es planteada originalmente por Taylor y Letham (2018) [1]. Se utilizan tres componentes en el modelo: tendencia, estacionalidad y efecto de vacaciones (*hollidays*).\n",
        "\n",
        "$$Y_t=g_t+s_t+ h_t+e_t$$\n",
        "\n",
        "*   $g_t$ es la función de tendencia que modela cambios no periódicos en el valor de la serie de tiempo.\n",
        "*   $s_t$ representa cambios periódicos (por ejemplo, estacionalidad semanal y anual).\n",
        "*  $h_t$ representa los efectos de las vacaciones.\n",
        "\n",
        "La especificacion Prophet es una clase de modelos de regresión con suavizadores (*smoothers*) potencialmente no lineales aplicados a la regresores\n",
        "\n",
        "[1] Taylor, S. & Letham, Benjamin (2018). Forecasting at Scale. *The American Statistician*. (72)1, 37-45. https://doi.org/10.1080/00031305.2017.1380080"
      ],
      "metadata": {
        "id": "x3Sj6dyyzjuC"
      }
    },
    {
      "cell_type": "markdown",
      "source": [
        "### ***Paso 1 :*** Obtener los datos de meteostat, llevarlos un dataframe y filtrar para obtener la información de Medellín."
      ],
      "metadata": {
        "id": "adgxyiGkzp3S"
      }
    },
    {
      "cell_type": "code",
      "source": [
        "# Buscar estaciones por nombre de ciudad\n",
        "stations = Stations()\n",
        "stations = stations.nearby(6.2518400, -75.5635900) # Coordenadas aproximadas de la Medellín (https://www.antipodas.net/coordenadaspais/colombia/medellin.php)\n",
        "station = stations.fetch(1) # Obtener la estación más cercana"
      ],
      "metadata": {
        "id": "IwLnaorgzsHh"
      },
      "execution_count": null,
      "outputs": []
    },
    {
      "cell_type": "code",
      "source": [
        "station\n",
        "#Longitud: -75.5635900\n",
        "#Latitud: 6.2518400"
      ],
      "metadata": {
        "id": "SxJeR8ZMz8z-"
      },
      "execution_count": null,
      "outputs": []
    },
    {
      "cell_type": "code",
      "source": [
        "# Obtener datos diarios para la estación más cercana a la Medellín\n",
        "#start = datetime(2020, 1, 1)\n",
        "start = datetime(2022, 1, 1)\n",
        "end = datetime(2024, 5, 6)\n",
        "data = Daily(station, start,end)\n",
        "data = data.fetch()"
      ],
      "metadata": {
        "id": "U4Icgcts1IkM"
      },
      "execution_count": null,
      "outputs": []
    },
    {
      "cell_type": "code",
      "source": [
        "# Mostrar todos los datos\n",
        "data"
      ],
      "metadata": {
        "id": "pHshEyuD1NLP"
      },
      "execution_count": null,
      "outputs": []
    },
    {
      "cell_type": "markdown",
      "source": [
        "## **Variables:**\n",
        "\n",
        "- ***tavg***: Temperatura media o promedio diaria.\n",
        "- ***tmin***: Temperatura mínima registrada en un día.\n",
        "- ***tmax***: Temperatura máxima registrada en un día.\n",
        "- ***prcp***: Precipitación total en milímetros o pulgadas para el día. Incluye lluvia, nieve, granizo, etc.\n",
        "- ***snow***: Cantidad de nieve caída, generalmente en milímetros o centímetros equivalentes de agua.\n",
        "- ***wdir***: Dirección promedio del viento en grados, donde 0 grados significa - viento soplando desde el norte.\n",
        "- ***wspd***: Velocidad promedio del viento en kilómetros por hora o millas por hora.\n",
        "- ***wpgt***: Racha de viento máxima, que es la velocidad más alta alcanzada por un golpe de viento.\n",
        "- ***pres***: Presión atmosférica al nivel de la estación.\n",
        "- ***tsun***: Duración de la insolación, que es el tiempo durante el cual un lugar recibe luz solar directa, medido en minutos u horas."
      ],
      "metadata": {
        "id": "E2IR5nXX1iPW"
      }
    },
    {
      "cell_type": "markdown",
      "source": [
        "### ***Paso 2 :*** Antes de suavizar los datos, es importante verificar la presencia de datos nulos y decidir cómo manejarlos."
      ],
      "metadata": {
        "id": "sAadY_Zt146_"
      }
    },
    {
      "cell_type": "code",
      "source": [
        "# Verificar datos nulos\n",
        "print(data.isnull().sum())\n",
        "# Suavizar los datos con un promedio móvil de 7 días\n",
        "data_suavizada = data.rolling(window=7).mean()\n",
        "# Suavizar los datos con un promedio móvil de 14 días\n",
        "data_suavizada2 = data.rolling(window=14).mean()"
      ],
      "metadata": {
        "id": "tng94cbJ1e9z"
      },
      "execution_count": null,
      "outputs": []
    },
    {
      "cell_type": "code",
      "source": [
        "# Configurando el tamaño del gráfico\n",
        "plt.figure(figsize=(15, 15))\n",
        "\n",
        "# Lista de variables para iterar y graficar\n",
        "variables = ['tavg', 'tmin', 'tmax', 'prcp']\n",
        "\n",
        "for i, var in enumerate(variables, 1):\n",
        "    plt.subplot(4, 1, i)\n",
        "    plt.plot(data.index, data[var], label=f'{var} Original', color='skyblue', alpha=0.6)\n",
        "    plt.plot(data_suavizada.index, data_suavizada[var], label=f'{var} 7 days rolling mean', color='navy', alpha=0.8)\n",
        "    plt.plot(data_suavizada2.index, data_suavizada2[var], label=f'{var} 14 days rolling mean', color='blue', alpha=0.8)\n",
        "    plt.title(var.upper())\n",
        "    plt.xlabel('Fecha')\n",
        "    plt.ylabel('Valor')\n",
        "    plt.legend()\n",
        "\n",
        "plt.tight_layout()\n",
        "plt.show()"
      ],
      "metadata": {
        "id": "gT9AMANR2EO4"
      },
      "execution_count": null,
      "outputs": []
    },
    {
      "cell_type": "markdown",
      "source": [
        "### ***Paso 3 :*** Preparar la información para el modelo. Se trabajan con dos columnas: **\"ds\"**, que indica la marca de tiempo, y la columna **\"y\"** que es la variable que se va a descomponer y pronosticar.\n",
        "\n",
        "**La estructura (nombres de las columnas) es necesaria para trabajar con Prophet.**"
      ],
      "metadata": {
        "id": "FMLQW3RO22JT"
      }
    },
    {
      "cell_type": "code",
      "source": [
        "# Estructurar las columnas\n",
        "df_prophet = data.reset_index().rename(columns={'time': 'ds', 'tavg': 'y'})\n",
        "\n",
        "# Limitar el pronóstico a umbrales\n",
        "df_prophet['cap'] = df_prophet['y'].max() + 2\n",
        "df_prophet['floor'] = df_prophet['y'].min() - 2"
      ],
      "metadata": {
        "id": "RsXe-0gT24Sx"
      },
      "execution_count": null,
      "outputs": []
    },
    {
      "cell_type": "code",
      "source": [
        "df_prophet"
      ],
      "metadata": {
        "id": "P6RnsWon3GC2"
      },
      "execution_count": null,
      "outputs": []
    },
    {
      "cell_type": "markdown",
      "source": [
        "### **Tipos de growth :**\n",
        "1. **Linear**: El crecimiento lineal es el tipo más básico de crecimiento y supone un aumento constante en la tendencia a lo largo del tiempo.\n",
        "\n",
        "2. **Logistic**: El crecimiento logístico modela situaciones en las que el crecimiento tiende a estabilizarse a medida que se alcanza un límite superior o inferior. Es útil para modelar fenómenos que exhiben un crecimiento inicial rápido seguido de una desaceleración.\n",
        "\n",
        "3. **Exponential**: El crecimiento exponencial es un tipo de crecimiento en el que la tasa de crecimiento aumenta o disminuye exponencialmente con el tiempo.\n",
        "\n",
        "4. **Saturating**: Similar al crecimiento logístico, el crecimiento saturante modela situaciones en las que una serie temporal alcanza un límite superior o inferior y se estabiliza a medida que se acerca a ese límite."
      ],
      "metadata": {
        "id": "glZ9talTtf-u"
      }
    },
    {
      "cell_type": "code",
      "source": [
        "# Inicializar el modelo de Prophet con tendencia de crecimiento logístico (linear, logistic, exponential, saturating)\n",
        "m = Prophet(growth='logistic', yearly_seasonality=True, daily_seasonality=False, weekly_seasonality=True,\n",
        "            changepoint_prior_scale=0.05)\n",
        "\n",
        "# Ajustar el modelo con los datos históricos\n",
        "m.fit(df_prophet)\n",
        "\n",
        "# Crear un DataFrame para las predicciones futuras, asumiendo 180 días hacia adelante\n",
        "future = m.make_future_dataframe(periods=180)\n",
        "future['cap'] = df_prophet['cap'].max()  # la capacidad sigue siendo la misma\n",
        "future['floor'] = df_prophet['floor'].min()  # el suelo sigue siendo el mismo\n",
        "\n",
        "# Realizar las predicciones\n",
        "forecast = m.predict(future)\n",
        "\n",
        "# Visualizar las predicciones\n",
        "fig1 = m.plot(forecast)"
      ],
      "metadata": {
        "id": "Aa-d4VKP3Ri4"
      },
      "execution_count": null,
      "outputs": []
    },
    {
      "cell_type": "markdown",
      "source": [
        "### **Añadir puntos de quiebre**\n",
        "\n",
        "Prophet por defecto seleccionará automáticamente 25 changepoints ubicados en los primeros 80% de la serie temporal. La selección de estos puntos se basa en cambios potenciales en la tendencia de los datos históricos. Esto significa que los últimos 20% de los datos no tendrán changepoints automáticamente."
      ],
      "metadata": {
        "id": "EBMmGeJU3bl5"
      }
    },
    {
      "cell_type": "code",
      "source": [
        "fig = m.plot(forecast)\n",
        "a = add_changepoints_to_plot(fig.gca(), m, forecast)"
      ],
      "metadata": {
        "id": "-jc9K-X63c7o"
      },
      "execution_count": null,
      "outputs": []
    },
    {
      "cell_type": "markdown",
      "source": [
        "### **Ajuste de *changepoint_prior_scale***\n",
        "\n",
        "El parámetro *changepoint_prior_scale* determina la flexibilidad de los changepoints seleccionados automáticamente:\n",
        "\n",
        "Un valor más alto significa que el modelo es más flexible y puede cambiar más rápidamente.\n",
        "\n",
        "Un valor más bajo significa que el modelo es más rígido y cambia más lentamente.\n",
        "Aquí te muestro cómo ajustar la escala del changepoint para controlar la flexibilidad de la tendencia:"
      ],
      "metadata": {
        "id": "ONE9Tf_O41pn"
      }
    },
    {
      "cell_type": "code",
      "source": [
        "# Modelo con mayor flexibilidad\n",
        "m_flexible = Prophet(changepoint_prior_scale=0.5)\n",
        "m_flexible.fit(df_prophet)\n",
        "\n",
        "# Modelo con menor flexibilidad\n",
        "m_rigid = Prophet(changepoint_prior_scale=0.01)\n",
        "m_rigid.fit(df_prophet)\n",
        "\n",
        "# Preparar futuro DataFrame y hacer predicciones para ambos modelos\n",
        "future = m_flexible.make_future_dataframe(periods=180)\n",
        "forecast_flexible = m_flexible.predict(future)\n",
        "forecast_rigid = m_rigid.predict(future)"
      ],
      "metadata": {
        "id": "zn1OBM1G4srJ"
      },
      "execution_count": null,
      "outputs": []
    },
    {
      "cell_type": "code",
      "source": [
        "# Fechas en el eje x para ambos forecast\n",
        "dates = future['ds']\n",
        "\n",
        "# Extraer las predicciones de yhat para ambas versiones del modelo\n",
        "y_flexible = forecast_flexible['yhat']\n",
        "y_rigid = forecast_rigid['yhat']\n",
        "\n",
        "plt.figure(figsize=(15, 5))\n",
        "plt.plot(dates, y_flexible, label='Flexible Forecast', color='blue')\n",
        "plt.plot(dates, y_rigid, label='Rigid Forecast', color='red')\n",
        "plt.fill_between(dates, forecast_flexible['yhat_lower'], forecast_flexible['yhat_upper'], color='blue', alpha=0.2)\n",
        "plt.fill_between(dates, forecast_rigid['yhat_lower'], forecast_rigid['yhat_upper'], color='red', alpha=0.2)\n",
        "\n",
        "# Añadir los datos reales al gráfico para referencia\n",
        "plt.scatter(df_prophet['ds'], df_prophet['y'], color='black', s=10, label='Real Data')\n",
        "\n",
        "plt.title('Comparison of Flexible vs Rigid Forecast for Average Temperature Mexico City')\n",
        "plt.xlabel('Date')\n",
        "plt.ylabel('Temperature (tavg)')\n",
        "plt.legend()\n",
        "plt.tight_layout()\n",
        "plt.show()"
      ],
      "metadata": {
        "id": "N2CTCs3n5E11"
      },
      "execution_count": null,
      "outputs": []
    },
    {
      "cell_type": "markdown",
      "source": [
        "### **Ajuste de *hollidays***\n",
        "\n",
        "Para incluir el efecto *hollidays* o vacacional, primero debes crear un DataFrame que contenga estas fechas específicas. En este ejemplo usaremos las fechas de Semana Santa y las vacaciones de verano."
      ],
      "metadata": {
        "id": "mh67T-ps5Y6F"
      }
    },
    {
      "cell_type": "code",
      "source": [
        "# Ejemplo de fechas de Semana Santa y vacaciones de mitad de año para varios años\n",
        "# Nota: Reemplaza estas fechas con las fechas exactas relevantes para tu análisis\n",
        "holidays_data = {\n",
        "  'holiday': ['Semana Santa', 'Semana Santa', 'Semana Santa','Semana Santa','Vacaciones Mitad Ano', 'Vacaciones Mitad Ano', 'Vacaciones Mitad Ano'],\n",
        "  'ds': pd.to_datetime(['2021-04-04', '2022-04-17','2023-04-15','2024-04-15', '2021-06-15', '2022-06-15','2023-06-15']),\n",
        "  'lower_window': -2, # La ventana alrededor de la festividad (e.g., Semana Santa comienza antes)\n",
        "  'upper_window': 2,\n",
        "}\n",
        "\n",
        "holidays = pd.DataFrame(holidays_data)"
      ],
      "metadata": {
        "id": "1g1KTJ2u5fLE"
      },
      "execution_count": null,
      "outputs": []
    },
    {
      "cell_type": "code",
      "source": [
        "# Instanciar el modelo con el DataFrame de festividades\n",
        "m = Prophet(holidays=holidays)"
      ],
      "metadata": {
        "id": "po5THX9G6UGK"
      },
      "execution_count": null,
      "outputs": []
    },
    {
      "cell_type": "markdown",
      "source": [
        "Además, se pueden añadir estacionalidades personalizadas, como una estacionalidad mensual, si crees que hay patrones recurrentes a lo largo del mes que podrían afectar a tu variable objetivo"
      ],
      "metadata": {
        "id": "G8jSzWXZ5Y2H"
      }
    },
    {
      "cell_type": "code",
      "source": [
        "# Agregar estacionalidad mensual al modelo\n",
        "m.add_seasonality(name='monthly', period = 30.5, fourier_order = 5)"
      ],
      "metadata": {
        "id": "ZIdN9ctg6ZRg"
      },
      "execution_count": null,
      "outputs": []
    },
    {
      "cell_type": "markdown",
      "source": [
        "El period se establece en 30.5 para reflejar la duración promedio de un mes, y el fourier_order controla la flexibilidad de la estacionalidad. Un fourier_order más alto permitirá que la estacionalidad capture cambios más rápidos."
      ],
      "metadata": {
        "id": "XJdNff5t6jXX"
      }
    },
    {
      "cell_type": "code",
      "source": [
        "# Ajustar el modelo con los datos históricos\n",
        "m.fit(df_prophet)\n",
        "\n",
        "# Crear un DataFrame para las predicciones futuras\n",
        "future = m.make_future_dataframe(periods=30)\n",
        "\n",
        "# Realizar las predicciones\n",
        "forecast = m.predict(future)\n",
        "\n",
        "plt.figure(figsize=(15, 5))\n",
        "# Visualizar las predicciones\n",
        "fig1 = m.plot(forecast)\n",
        "#fig2 = m.plot_components(forecast)"
      ],
      "metadata": {
        "id": "KVXTsstz6l0g"
      },
      "execution_count": null,
      "outputs": []
    },
    {
      "cell_type": "code",
      "source": [
        "# Imprimir las primeras filas del DataFrame de predicciones\n",
        "forecast[['ds', 'yhat', 'yhat_lower', 'yhat_upper']].tail(30)"
      ],
      "metadata": {
        "id": "IJwY9r2W6yPB"
      },
      "execution_count": null,
      "outputs": []
    },
    {
      "cell_type": "markdown",
      "source": [
        "### **Validación cruzada**\n",
        "\n",
        "La validación cruzada en Prophet es una herramienta poderosa para entender cómo el modelo se desempeña a lo largo del tiempo, especialmente para series temporales donde las condiciones pueden cambiar.\n",
        "\n",
        "La validación cruzada en Prophet se realiza generando predicciones para una secuencia de cortes en los datos históricos. Esto te permite evaluar cómo habría funcionado el modelo si se hubiera utilizado para predecir el futuro.\n",
        "\n",
        "- ***initial***: La cantidad de datos iniciales utilizados para ajustar el modelo.\n",
        "- ***period***: La distancia entre los puntos de inicio de corte sucesivos.\n",
        "- ***horizon***: La longitud del periodo que se predice en cada corte."
      ],
      "metadata": {
        "id": "Vsc5PR0M6-aI"
      }
    },
    {
      "cell_type": "code",
      "source": [
        "# Realizar validación cruzada\n",
        "#df_cv = cross_validation(m, initial='1095 days', period='180 days', horizon='365 days')\n",
        "df_cv = cross_validation(m, initial='300 days', period='40 days', horizon='90 days')\n",
        "# Obtener métricas de rendimiento\n",
        "df_p = performance_metrics(df_cv)\n",
        "df_p"
      ],
      "metadata": {
        "id": "SLmpcbH37kop"
      },
      "execution_count": null,
      "outputs": []
    },
    {
      "cell_type": "code",
      "source": [
        "# Obtener métricas de rendimiento\n",
        "#df_p = performance_metrics(df_cv)\n",
        "#print(df_p.head())\n",
        "\n",
        "plt.figure(figsize=(15, 5))\n",
        "# Visualizar el rendimiento usando MAPE\n",
        "fig = plot_cross_validation_metric(df_cv, metric='mape')"
      ],
      "metadata": {
        "id": "tyz73zca7xtq"
      },
      "execution_count": null,
      "outputs": []
    }
  ]
}