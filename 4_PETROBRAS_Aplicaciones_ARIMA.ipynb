{
  "nbformat": 4,
  "nbformat_minor": 0,
  "metadata": {
    "colab": {
      "provenance": [],
      "mount_file_id": "1-sNhr6MQR40EY3M65Tt6qgjx-ElyKwKO",
      "authorship_tag": "ABX9TyNpaNBKKvZ5rz3h71HSELob",
      "include_colab_link": true
    },
    "kernelspec": {
      "name": "ir",
      "display_name": "R"
    },
    "language_info": {
      "name": "R"
    }
  },
  "cells": [
    {
      "cell_type": "markdown",
      "metadata": {
        "id": "view-in-github",
        "colab_type": "text"
      },
      "source": [
        "<a href=\"https://colab.research.google.com/github/duvancatan/Time_Series_UdeA/blob/main/4_PETROBRAS_Aplicaciones_ARIMA.ipynb\" target=\"_parent\"><img src=\"https://colab.research.google.com/assets/colab-badge.svg\" alt=\"Open In Colab\"/></a>"
      ]
    },
    {
      "cell_type": "markdown",
      "source": [
        "![petrobras.png](data:image/png;base64,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)\n",
        "\n",
        "# ***PRECIO DE LA ACCIONES DE PETROBRAS***\n",
        "Petrobras, oficialmente conocida como Petróleo Brasileiro S.A., es una empresa energética brasileña de gran importancia a nivel nacional e internacional. Sus acciones abarcan una amplia gama de actividades en el sector de la energía, incluyendo exploración, producción, refinación, distribución y comercialización de petróleo y gas natural, así como también en la generación de energía eléctrica y otras áreas relacionadas.\n",
        "\n",
        "A continuación presentamos T=624 observaciones que constan de los retornos de precios diarios de las acciones de Petrobras medidos hasta 23 de abril de 2024.  \n"
      ],
      "metadata": {
        "id": "aPRW7e54efWw"
      }
    },
    {
      "cell_type": "markdown",
      "source": [
        "# Librerías y Carga de los Datos\n"
      ],
      "metadata": {
        "id": "I2tEFtYD0Jtj"
      }
    },
    {
      "cell_type": "code",
      "source": [
        "# NOTA : Se recomienda ejecutar la rutina en R-Studio, ya que Colab presenta algunos #\n",
        "# problemas de compatibilidad entre algunas librerías #"
      ],
      "metadata": {
        "id": "GE5eD39CzQzD"
      },
      "execution_count": null,
      "outputs": []
    },
    {
      "cell_type": "code",
      "source": [
        "# Primero se debe ejecutar este comando con entorno de Python para conectar con Drive #\n",
        "# posteriormente cambiar el entorno para R. #\n",
        "from google.colab import drive\n",
        "drive.mount('/content/drive')"
      ],
      "metadata": {
        "id": "r4kM9dL2shQ8"
      },
      "execution_count": null,
      "outputs": []
    },
    {
      "cell_type": "code",
      "source": [
        "from google.colab import drive\n",
        "drive.mount('/content/drive')"
      ],
      "metadata": {
        "id": "Kts6ZcbOXZjF"
      },
      "execution_count": null,
      "outputs": []
    },
    {
      "cell_type": "code",
      "source": [
        "# Instalar Librerías #\n",
        "# Se sugiere cargar previo a la presentación, es demorado en Colab #\n",
        "install.packages(\"stats\")\n",
        "install.packages(\"astsa\")\n",
        "install.packages(\"forecast\")\n",
        "install.packages(\"tseries\")\n",
        "install.packages(\"nortest\")\n",
        "install.packages(\"fBasics\")\n",
        "install.packages(\"car\")\n",
        "install.packages(\"MLmetrics\")\n",
        "install.packages(\"matrixcalc\")"
      ],
      "metadata": {
        "id": "NgHlCB1v6H8f"
      },
      "execution_count": null,
      "outputs": []
    },
    {
      "cell_type": "code",
      "source": [
        "# Cargar Librerías #\n",
        "library(stats)\n",
        "library(astsa)\n",
        "library(forecast)\n",
        "library(tseries)\n",
        "library(nortest)\n",
        "library(fBasics)\n",
        "library(car)\n",
        "library(MLmetrics)\n",
        "library(matrixcalc)"
      ],
      "metadata": {
        "id": "B0_tzCfA6H6N"
      },
      "execution_count": null,
      "outputs": []
    },
    {
      "cell_type": "code",
      "source": [
        "# El paquete \"googledrive\" es una herramienta específica para interactuar con Google Drive desde R.\n",
        "# Permite a los usuarios realizar una variedad de acciones relacionadas con Google Drive, como autenticarse\n",
        "# en sus cuentas de Google, acceder a archivos y carpetas, cargar archivos en Google Drive y descargar archivos de Google Drive.\n",
        "install.packages(\"googledrive\")\n",
        "library(googledrive)"
      ],
      "metadata": {
        "id": "EHWW0ybKeMIW"
      },
      "execution_count": null,
      "outputs": []
    },
    {
      "cell_type": "code",
      "source": [
        "# Leer el archivo .txt desde mi Drive como un objeto ts() #\n",
        "#rtn_ptbras <- ts(vec(t(as.matrix(read.table(\"/content/drive/MyDrive/Colab Notebooks/4_rtn_petrobras.txt\", dec=\".\", sep=\"\")))))\n",
        "rtn_ptbras <- ts(vec(t(as.matrix(read.table(\"TU_RUTA/4_rtn_petrobras.txt\", dec=\".\", sep=\"\")))))"
      ],
      "metadata": {
        "id": "Sh15HYnHeMUX"
      },
      "execution_count": null,
      "outputs": []
    },
    {
      "cell_type": "markdown",
      "source": [
        "# Análisis Exploratorio"
      ],
      "metadata": {
        "id": "FzVGEEpV0VXM"
      }
    },
    {
      "cell_type": "code",
      "source": [
        "# Gráfica de la Serie de Retornos Diarios de Petrobras #\n",
        "plot.ts(rtn_ptbras, main = \"Serie de Retornos Diarios de Petrobras\", ylab=\"Retorno\"); grid()"
      ],
      "metadata": {
        "id": "S7m6T_Wqo01h"
      },
      "execution_count": null,
      "outputs": []
    },
    {
      "cell_type": "markdown",
      "source": [
        "### La prueba de Dickey-Fuller es una prueba de raíz unitaria que se utiliza comúnmente para determinar si una serie de tiempo es estacionaria o no.                                                          \n",
        "$H_0$ : No Estacionaria   $vs$    $H_a$ : Estacionaria"
      ],
      "metadata": {
        "id": "PvsFGnHrrbj7"
      }
    },
    {
      "cell_type": "code",
      "source": [
        "# Aplicar la prueba de Dickey-Fuller de Estacionaridad #\n",
        "adf.test(rtn_ptbras)"
      ],
      "metadata": {
        "id": "ay_9RCc6JhOV"
      },
      "execution_count": null,
      "outputs": []
    },
    {
      "cell_type": "markdown",
      "source": [
        "### Funciones de Autocorrelación y Autocorrelación Parcial"
      ],
      "metadata": {
        "id": "_y0BS4W1JIGM"
      }
    },
    {
      "cell_type": "code",
      "source": [
        "# Gráfica de la ACF y PACF #\n",
        "par(mfrow=c(2,1))\n",
        "acf(rtn_ptbras, main=\"Función de Autocorrelación\")\n",
        "pacf(rtn_ptbras, main=\"Función de Autocorrelación Parcial\", lag.max = 30)"
      ],
      "metadata": {
        "id": "WC2UyjGyJJsl"
      },
      "execution_count": null,
      "outputs": []
    },
    {
      "cell_type": "code",
      "source": [
        "# Función de Autocorrelación Extendida. Se recomienda no instalar TSA al inicio por que trae incompatibildades con forecast()\n",
        "#install.packages(\"TSA\")\n",
        "#library(TSA) #\n",
        "eacf(rtn_ptbras, ar.max = 7, ma.max = 15)"
      ],
      "metadata": {
        "id": "TA8AroUNf_Gi"
      },
      "execution_count": null,
      "outputs": []
    },
    {
      "cell_type": "code",
      "source": [
        "# Función que busca modelos según los criterios de información AIC Y BIC #\n",
        "sarima.list = function(datos, p, d = 0, q, P = 0, D = 0, Q = 0, S = NA, include.mean = F, criterio = \"\"){\n",
        "  M <- matrix(ncol = 10,nrow = (p+1)*(q+1)*(P+1)*(Q+1),dimnames=list(NULL,c(\"p\",\"d\",\"q\",\"P\",\"D\",\"Q\",\"S\",\"converge\",\"AIC\", \"BIC\")))\n",
        "  k <- 1\n",
        "  n <- length(datos)\n",
        "  for(i in 0:p){\n",
        "    for(j in 0:q){\n",
        "      for(l in 0:P){\n",
        "        for(m in 0:Q){\n",
        "          if ((i==0)&&(j==0)&&(l==0)&&(m==0)) next #Continua con la siguiente iteracion\n",
        "          fit <- arima(datos, order = c(i, d, j),seasonal = list(order = c(l, D, m), period = S), include.mean = include.mean)\n",
        "          M[k,1]  <- i\n",
        "          M[k,2]  <- d\n",
        "          M[k,3]  <- j\n",
        "          M[k,4]  <- l\n",
        "          M[k,5]  <- D\n",
        "          M[k,6]  <- m\n",
        "          M[k,7]  <- S\n",
        "          M[k,8]  <- fit$code  # 0: Convergencia, 1: No Convergencia\n",
        "          M[k,9]  <- AIC(fit)  # AIC\n",
        "          M[k,10] <- AIC(fit, k = log(length(datos)))  # BIC\n",
        "          k <- k+1\n",
        "        }\n",
        "      }\n",
        "    }\n",
        "  }\n",
        "  if(criterio == \"AIC\"){\n",
        "    M <- M[order(M[,9]),]\n",
        "  }\n",
        "  if(criterio == \"BIC\"){\n",
        "    M <- M[order(M[,10]),]\n",
        "  }\n",
        "  if(criterio == \"\"){\n",
        "    M <- M\n",
        "  }\n",
        "  rownames(M) = rep(\"\", (p+1)*(q+1)*(P+1)*(Q+1))\n",
        "  return(M[1:((p+1)*(q+1)*(P+1)*(Q+1)-1),])\n",
        "}"
      ],
      "metadata": {
        "id": "3f2cKmTrgMHL"
      },
      "execution_count": null,
      "outputs": []
    },
    {
      "cell_type": "code",
      "source": [
        "# Aplicar función que arroja los criterios de información #\n",
        "select_model = data.frame(sarima.list(rtn_ptbras, p=3, d = 0, q=3, P = 0, D = 0, Q = 0, S = NA, include.mean = F, criterio = \"\"))"
      ],
      "metadata": {
        "id": "O0MMLInSgMC_"
      },
      "execution_count": null,
      "outputs": []
    },
    {
      "cell_type": "code",
      "source": [
        "# Ordenar por AIC #\n",
        "(aic_order <- select_model[order(select_model$AIC), ])"
      ],
      "metadata": {
        "id": "7SgRhkV2unFZ"
      },
      "execution_count": null,
      "outputs": []
    },
    {
      "cell_type": "code",
      "source": [
        "# Ordenar por BIC #\n",
        "(bic_order <- select_model[order(select_model$BIC), ])"
      ],
      "metadata": {
        "id": "pGht59CwunCl"
      },
      "execution_count": null,
      "outputs": []
    },
    {
      "cell_type": "markdown",
      "source": [
        "# Estimación de parámetros para un ARIMA(2,0,2)"
      ],
      "metadata": {
        "id": "O88p24wpz13u"
      }
    },
    {
      "cell_type": "code",
      "source": [
        "# Estimacion ML exacta con valores iniciales dados por la estimacion de Suma de Cuadrados Condicionales library(forecast) #\n",
        "(mod_1 = arima(rtn_ptbras, c(2, 0, 2), method = c(\"CSS-ML\")))\n",
        "res_1 = residuals(mod_1)"
      ],
      "metadata": {
        "id": "5ISF2vm2gMBD"
      },
      "execution_count": null,
      "outputs": []
    },
    {
      "cell_type": "code",
      "source": [
        "# Usando la función SARIMA() library(astsa) #\n",
        "(mod_2 = sarima(rtn_ptbras, p=2, d=0, q=2))\n",
        "mod_2$ttable # Para establecer la significancia de las estimativas\n",
        "res_2 = mod_2$fit$residuals"
      ],
      "metadata": {
        "id": "rYmS52NQgL9t"
      },
      "execution_count": null,
      "outputs": []
    },
    {
      "cell_type": "markdown",
      "source": [
        "# Diagnóstico Residual para el modelo ARIMA(2,0,2)"
      ],
      "metadata": {
        "id": "d3z8EwDa5ADq"
      }
    },
    {
      "cell_type": "code",
      "source": [
        "# MODELO 1 arima() #\n",
        "# Pruebas de Dianóstico - Análisis de Residuales arima() #\n",
        "par(mfrow=c(3,2))\n",
        "plot.ts(res_1, main=\"Residuales\", ylab=\"\")\n",
        "hist(res_1, main=\"Histograma de Residuales\")\n",
        "acf(res_1, lag.max=25, main=\"ACF de Residuales\")\n",
        "pacf(res_1, lag.max=25, main=\"PACF de Residuales\")\n",
        "\n",
        "# Prueba de LJUNG-BOX para Independencia de los Residuales #\n",
        "Box.Test = function(x, lag = 25, main = \"p values for Ljung-Box statistic\"){\n",
        "  B<-vector(\"numeric\")\n",
        "  for(i in 1:lag){\n",
        "    B[i]<-Box.test(x, lag = i, type = \"Ljung-Box\")$p.value\n",
        "  }\n",
        "  A<-matrix(cbind(c(1:lag),B), nrow = lag, ncol = 2, byrow=F, dimnames = list(NULL, c(\"lag\", \"p.value\")))\n",
        "  plot(A[,1], A[,2], ylim = c(0, max(0.051,(max(A[,2])+.01))),\n",
        "       ylab = \"p-value\", xlab = \"Lag\", main = main, lwd = 2)\n",
        "  abline(0.05, 0, col = 4, lty = 2)\n",
        "}\n",
        "Box.Test(res_1)\n",
        "\n",
        "# Gráfico del Q-Q Plot #\n",
        "qqPlot(res_1, envelope = 0.95, main = \"Q-Q Plot de Residuos con Intervalo\") #library(car)"
      ],
      "metadata": {
        "id": "e-wgnWn15JcH"
      },
      "execution_count": null,
      "outputs": []
    },
    {
      "cell_type": "code",
      "source": [
        "# MODELO 2 SARIMA() #\n",
        "# Pruebas de Dianóstico - Análisis de Residuales arima()#\n",
        "par(mfrow=c(3,2))\n",
        "plot.ts(res_2, main=\"Residuales\", ylab=\"\")\n",
        "hist(res_2, main=\"Histograma de Residuales\")\n",
        "acf(res_2, lag.max=25, main=\"ACF de Residuales\")\n",
        "pacf(res_2, lag.max=25, main=\"PACF de Residuales\")\n",
        "\n",
        "# Prueba de LJUNG-BOX para Independencia de los Residuales #\n",
        "Box.Test = function(x, lag = 25, main = \"p values for Ljung-Box statistic\"){\n",
        "  B<-vector(\"numeric\")\n",
        "  for(i in 1:lag){\n",
        "    B[i]<-Box.test(x, lag = i, type = \"Ljung-Box\")$p.value\n",
        "  }\n",
        "  A<-matrix(cbind(c(1:lag),B), nrow = lag, ncol = 2, byrow=F, dimnames = list(NULL, c(\"lag\", \"p.value\")))\n",
        "  plot(A[,1], A[,2], ylim = c(0, max(0.051,(max(A[,2])+.01))),\n",
        "       ylab = \"p-value\", xlab = \"Lag\", main = main, lwd = 2)\n",
        "  abline(0.05, 0, col = 4, lty = 2)\n",
        "}\n",
        "Box.Test(res_2)\n",
        "\n",
        "# Gráfico del Q-Q Plot #\n",
        "qqPlot(res_2, envelope = 0.95, main = \"Q-Q Plot de Residuos con Intervalo\") #library(car)"
      ],
      "metadata": {
        "id": "zmrjkhCHmYoj"
      },
      "execution_count": null,
      "outputs": []
    },
    {
      "cell_type": "markdown",
      "source": [
        "### Algunas metodologías para probar normalidad\n",
        "Aquí podemos chequear los residuales del modelo 1 (arima) o modelo 2 (sarima), en particualar analizaremos para el modelo 1."
      ],
      "metadata": {
        "id": "3EBe2sjP-irt"
      }
    },
    {
      "cell_type": "code",
      "source": [
        "# Shapiro Wilk: Prueba de Hipótesis para contrastar normalidad #\n",
        "shapiro.test(res_1)"
      ],
      "metadata": {
        "id": "IDgPfkV--pAK"
      },
      "execution_count": null,
      "outputs": []
    },
    {
      "cell_type": "code",
      "source": [
        "# Kolmogorov-Smirnov: Prueba no paramétrica basada en Bondad Ajuste #\n",
        "lillie.test(res_1)"
      ],
      "metadata": {
        "id": "OZUqvrMD-o6e"
      },
      "execution_count": null,
      "outputs": []
    },
    {
      "cell_type": "code",
      "source": [
        "# Jarque Bera: Basado en la Asimetría y Curtosis de una Normal #\n",
        "jarqueberaTest(res_1)"
      ],
      "metadata": {
        "id": "1IDOCNyx-o1H"
      },
      "execution_count": null,
      "outputs": []
    },
    {
      "cell_type": "code",
      "source": [
        "# Gráfico del Q-Q Plot #\n",
        "qqPlot(res_1, envelope = 0.95, main = \"Q-Q Plot de Residuos con Intervalo\") #library(car)"
      ],
      "metadata": {
        "id": "1srrSYIpzOMN"
      },
      "execution_count": null,
      "outputs": []
    },
    {
      "cell_type": "markdown",
      "source": [
        "### Función alternativa para encontrar modelos preliminares"
      ],
      "metadata": {
        "id": "riLkwUI6B1Nn"
      }
    },
    {
      "cell_type": "code",
      "source": [
        "# Función que busca automáticamente el mejor modelo : autoarima() #\n",
        "mod_auto = auto.arima(rtn_ptbras)\n",
        "mod_auto"
      ],
      "metadata": {
        "id": "yGejPVfBB6Jo"
      },
      "execution_count": null,
      "outputs": []
    },
    {
      "cell_type": "code",
      "source": [
        " # Diagnóstico Residual Autoarima #\n",
        "res_auto<-auto.arima(rtn_ptbras)$residuals\n",
        "par(mfrow = c(3,2))\n",
        "ts.plot(res_auto)\n",
        "shapiro.test(res_auto)\n",
        "Box.test(res_auto, type = c(\"Box-Pierce\", \"Ljung-Box\"))\n",
        "Box.Test(res_auto)\n",
        "acf(res_auto, main=\"ACF de Ventas\")\n",
        "pacf(res_auto, main=\"PACF de Ventas\")\n",
        "\n",
        "# Gráfico del Q-Q Plot #\n",
        "qqPlot(res_auto, envelope = 0.95, main = \"Q-Q Plot de Residuos con Intervalo\")\n",
        "\n",
        "# Histograma con densidad aproximada #\n",
        "hist(res_auto, freq = FALSE, main=\"Distribución de los residuales\")\n",
        "dens <- density(res_auto)\n",
        "lines(dens, col = \"red\", lwd = 2)"
      ],
      "metadata": {
        "id": "5HoB-njXB6Gg"
      },
      "execution_count": null,
      "outputs": []
    },
    {
      "cell_type": "markdown",
      "source": [
        "# Pronóstico\n",
        "La función \"forecast\" toma como entrada un modelo ajustado a datos históricos y produce estimaciones para períodos futuros. Estas estimaciones pueden ser útiles en una variedad de contextos, como la planificación empresarial, la gestión de inventarios, el análisis financiero y la predicción de tendencias en datos económicos, climáticos, entre otros."
      ],
      "metadata": {
        "id": "uTVezk0UDElx"
      }
    },
    {
      "cell_type": "code",
      "source": [
        "# Modelo a ser empleado en el pronóstico (Modelo 1) #\n",
        "mod_arma = arima(rtn_ptbras, c(2, 0, 2), method = c(\"CSS-ML\"))\n",
        "mod_arma"
      ],
      "metadata": {
        "id": "9x5no2q5nFUE"
      },
      "execution_count": null,
      "outputs": []
    },
    {
      "cell_type": "code",
      "source": [
        "# Podemos analizar las diferentes métricas para medir pronósticos, en particular el MAPE #\n",
        "summary(mod_arma, )"
      ],
      "metadata": {
        "id": "-ouDlfxq0zyE"
      },
      "execution_count": null,
      "outputs": []
    },
    {
      "cell_type": "code",
      "source": [
        "# Pronósticos para la serie de ventas con horizonte 30 (1 mes) #\n",
        "fc_arma = forecast(rtn_ptbras, model = mod_arma, h = 30)\n",
        "fc_arma"
      ],
      "metadata": {
        "id": "vA1WQUj61v5q"
      },
      "execution_count": null,
      "outputs": []
    },
    {
      "cell_type": "code",
      "source": [
        "# Gráfico de la series de ventas con sus respectivos pronósticos #\n",
        "plot(fc_arma, ylab=\"Retornos Diarios\", xlab=\"Día\", main=\"Pronósticos de los Retornos Diarios\")"
      ],
      "metadata": {
        "id": "qCHO8cCOnQvp"
      },
      "execution_count": null,
      "outputs": []
    }
  ]
}