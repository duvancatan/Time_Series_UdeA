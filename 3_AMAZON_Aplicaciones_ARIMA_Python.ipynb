{
  "nbformat": 4,
  "nbformat_minor": 0,
  "metadata": {
    "colab": {
      "provenance": [],
      "authorship_tag": "ABX9TyPCsQ22XIMtdGFm9SPyy3T5",
      "include_colab_link": true
    },
    "kernelspec": {
      "name": "python3",
      "display_name": "Python 3"
    },
    "language_info": {
      "name": "python"
    }
  },
  "cells": [
    {
      "cell_type": "markdown",
      "metadata": {
        "id": "view-in-github",
        "colab_type": "text"
      },
      "source": [
        "<a href=\"https://colab.research.google.com/github/duvancatan/Time_Series_UdeA/blob/main/3_AMAZON_Aplicaciones_ARIMA_Python.ipynb\" target=\"_parent\"><img src=\"https://colab.research.google.com/assets/colab-badge.svg\" alt=\"Open In Colab\"/></a>"
      ]
    },
    {
      "cell_type": "markdown",
      "source": [
        "#PRONÓSTICO DE VENTAS DE AMAZON\n",
        "Los siguientes datos representan las ventas promedio mensual de un artefacto electrónico de Amazon. Se tienen 150 datos disponibles. El gerente de ventas está interesado en conocer cuánto serán las ventas mensuales en el próximo año dada la información disponible."
      ],
      "metadata": {
        "id": "ugWqvf40sFV9"
      }
    },
    {
      "cell_type": "markdown",
      "source": [
        "## Instalación y carga de librerías  "
      ],
      "metadata": {
        "id": "qoMpZa5csayo"
      }
    },
    {
      "cell_type": "code",
      "source": [
        "# Instalación de la librería statsmodels #\n",
        "!pip install statsmodels"
      ],
      "metadata": {
        "id": "rHMQ_Y_3sF31"
      },
      "execution_count": null,
      "outputs": []
    },
    {
      "cell_type": "code",
      "source": [
        "# Carga de librerías #\n",
        "import pandas as pd\n",
        "import numpy as np\n",
        "import matplotlib.pyplot as plt\n",
        "from statsmodels.tsa.arima.model import ARIMA\n",
        "from statsmodels.tsa.stattools import adfuller\n",
        "from sklearn.metrics import mean_absolute_error, mean_squared_error"
      ],
      "metadata": {
        "id": "k9PFXTH1Wcvz"
      },
      "execution_count": null,
      "outputs": []
    },
    {
      "cell_type": "markdown",
      "source": [
        "## Lectura de datos"
      ],
      "metadata": {
        "id": "T-t3_HPpsbTM"
      }
    },
    {
      "cell_type": "code",
      "source": [
        "# Carga de datos #\n",
        "sales =  (10.01 ,10.07\t,10.32\t,9.75\t,10.33 ,10.13\t,10.36\t,10.32\t,10.13\t,10.16\t,10.58\t,10.62\t,10.86\t,11.2,\n",
        "          10.74 ,10.56\t,10.48\t,10.77\t,11.33\t,10.96\t,11.16\t,11.7\t,11.39\t,11.42\t,11.94\t,11.24\t,11.59\t,10.96,\n",
        "          11.4\t,11.02\t,11.01\t,11.23\t,11.33\t,10.83\t,10.84\t,11.14\t,10.38\t,10.9\t,11.05\t,11.11\t,11.01\t,11.22,\n",
        "          11.21 ,11.91\t,11.69\t,10.93\t,10.99\t,11.01\t,10.84\t,10.76\t,10.77\t,10.88\t,10.49\t,10.5\t,11\t,10.98,\n",
        "          10.61 ,10.48\t,10.53\t,11.07\t,10.61\t,10.86\t,10.34\t,10.78\t,10.8\t,10.33\t,10.44\t,10.5\t,10.75\t,10.4\t,10.4,\n",
        "          10.34 ,10.55\t,10.46\t,10.82\t,10.91\t,10.87\t,10.67\t,11.11\t,10.88\t,11.28\t,11.27\t,11.44\t,11.52\t,12.1,\n",
        "          11.83 ,12.62, 12.41\t,12.43\t,12.73\t,13.01\t,12.74\t,12.73\t,12.76\t,12.92\t,12.64\t,12.79\t,13.05\t,12.69,\n",
        "          13.01 ,12.9\t,13.12, 12.47\t,12.47 ,12.94\t,13.1\t,12.91 ,13.39\t,13.13\t,13.34\t,13.34\t,13.14\t,13.49\t,13.87,\n",
        "          13.39 ,13.59\t,13.27, 13.7\t,13.2\t,13.32\t,13.15\t,13.3\t,12.94\t,13.29\t,13.26\t,13.08\t,13.24\t,13.31\t,13.52,\n",
        "          13.02 ,13.25\t,13.12\t,13.26, 13.11\t,13.3\t,13.06\t,13.32\t,13.1\t,13.27\t,13.64\t,13.58\t,13.87\t,13.53\t,13.41,\n",
        "          13.25 ,13.5\t,13.58\t,13.51\t,13.77\t,13.4\t)"
      ],
      "metadata": {
        "id": "UwU8VivCWcsF"
      },
      "execution_count": null,
      "outputs": []
    },
    {
      "cell_type": "markdown",
      "source": [
        "## Formato y Visualización"
      ],
      "metadata": {
        "id": "0w-sb7vRsjLV"
      }
    },
    {
      "cell_type": "code",
      "source": [
        "# Formato y rango temporal #\n",
        "date_range = pd.date_range(start='2011-12-01', periods=150, freq='M')\n",
        "series = pd.Series(sales, index=date_range)"
      ],
      "metadata": {
        "id": "rjKL7D8lWcVM"
      },
      "execution_count": null,
      "outputs": []
    },
    {
      "cell_type": "code",
      "source": [
        "# Visualizar la serie de tiempo #\n",
        "plt.figure(figsize=(8, 4))\n",
        "plt.plot(series)\n",
        "plt.title('Serie de tiempo de Ventas de Amazon')\n",
        "plt.show()"
      ],
      "metadata": {
        "id": "_jermTBTWcJl"
      },
      "execution_count": null,
      "outputs": []
    },
    {
      "cell_type": "markdown",
      "source": [
        "## Tranformaciones y Gráficos"
      ],
      "metadata": {
        "id": "atXQeQA3swCH"
      }
    },
    {
      "cell_type": "code",
      "source": [
        "# Diferenciar la serie #\n",
        "diff_series = series.diff().dropna()"
      ],
      "metadata": {
        "id": "8dyU9caeWcGW"
      },
      "execution_count": null,
      "outputs": []
    },
    {
      "cell_type": "code",
      "source": [
        "# Visualizar la serie diferenciada #\n",
        "plt.figure(figsize=(8, 4))\n",
        "plt.plot(diff_series)\n",
        "plt.title('Serie de Ventas Diferenciada')\n",
        "plt.show()"
      ],
      "metadata": {
        "id": "Cmc6VDxpumZU"
      },
      "execution_count": null,
      "outputs": []
    },
    {
      "cell_type": "markdown",
      "source": [
        "## Ajuste y Estimación"
      ],
      "metadata": {
        "id": "iVD9yqujs3bV"
      }
    },
    {
      "cell_type": "code",
      "source": [
        "# Ajustar el modelo ARIMA(0,1,1) #\n",
        "model = ARIMA(series, order=(0, 1, 1))\n",
        "model_fit = model.fit()"
      ],
      "metadata": {
        "id": "P_dqw2e9W7CM"
      },
      "execution_count": null,
      "outputs": []
    },
    {
      "cell_type": "code",
      "source": [
        "# Resumen del modelo ajustado #\n",
        "print(model_fit.summary())"
      ],
      "metadata": {
        "id": "p7JelQqVurQi"
      },
      "execution_count": null,
      "outputs": []
    },
    {
      "cell_type": "markdown",
      "source": [
        "## Pronósticos"
      ],
      "metadata": {
        "id": "MzVp9HRjs9GC"
      }
    },
    {
      "cell_type": "code",
      "source": [
        "# Realizar predicciones con intervalos de confianza #\n",
        "forecast_steps = 24\n",
        "forecast = model_fit.get_forecast(steps=forecast_steps)\n",
        "forecast_mean = forecast.predicted_mean\n",
        "forecast_conf_int = forecast.conf_int()"
      ],
      "metadata": {
        "id": "CtEBmHXKuwXa"
      },
      "execution_count": null,
      "outputs": []
    },
    {
      "cell_type": "code",
      "source": [
        "print(forecast_mean)"
      ],
      "metadata": {
        "id": "8nZomWhzvUVp"
      },
      "execution_count": null,
      "outputs": []
    },
    {
      "cell_type": "code",
      "source": [
        "# Visualizar predicciones junto con la serie original y los intervalos de predicción #\n",
        "plt.figure(figsize=(8, 4))\n",
        "plt.plot(series, label='Serie original')\n",
        "plt.plot(pd.date_range(start=series.index[-1], periods=forecast_steps, freq='D'), forecast_mean, label='Predicción', color='red')\n",
        "plt.fill_between(pd.date_range(start=series.index[-1], periods=forecast_steps, freq='D'),\n",
        "                 forecast_conf_int.iloc[:, 0], forecast_conf_int.iloc[:, 1], color='pink', alpha=0.3)\n",
        "plt.title('Predicción con ARIMA(0,1,1) e intervalos de confianza')\n",
        "plt.legend()\n",
        "plt.show()"
      ],
      "metadata": {
        "id": "VCfGnyoVuwUj"
      },
      "execution_count": null,
      "outputs": []
    },
    {
      "cell_type": "markdown",
      "source": [
        "## Evaluación de Pronósticos"
      ],
      "metadata": {
        "id": "4d988-xarHbt"
      }
    },
    {
      "cell_type": "code",
      "source": [
        "# Función para calcular el MAPE\n",
        "def mean_absolute_percentage_error(y_true, y_pred):\n",
        "    return np.mean(np.abs((y_true - y_pred) / y_true)) * 100\n",
        "\n",
        "# Generar predicciones en el conjunto de entrenamiento\n",
        "train_predictions = model_fit.predict(start=1, end=len(series)-1, dynamic=False)\n",
        "train_truth = series[1:]\n",
        "\n",
        "# Calcular el MAE, RMSE y MAPE\n",
        "mae = mean_absolute_error(train_truth, train_predictions)\n",
        "rmse = np.sqrt(mean_squared_error(train_truth, train_predictions))\n",
        "mape = mean_absolute_percentage_error(train_truth, train_predictions)\n",
        "\n",
        "print(f'MAE: {mae}')\n",
        "print(f'RMSE: {rmse}')\n",
        "print(f'MAPE: {mape:.2f}%')"
      ],
      "metadata": {
        "id": "Ga_T30BqW67U"
      },
      "execution_count": null,
      "outputs": []
    }
  ]
}