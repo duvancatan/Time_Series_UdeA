{
  "cells": [
    {
      "cell_type": "markdown",
      "metadata": {
        "id": "view-in-github",
        "colab_type": "text"
      },
      "source": [
        "<a href=\"https://colab.research.google.com/github/duvancatan/Time_Series_UdeA/blob/main/1_Tendencia_Suavizacion_R.ipynb\" target=\"_parent\"><img src=\"https://colab.research.google.com/assets/colab-badge.svg\" alt=\"Open In Colab\"/></a>"
      ]
    },
    {
      "cell_type": "markdown",
      "source": [
        "# 1. Método de Descomposición\n",
        "\n",
        "El método de descomposición en series de tiempo, es una técnica analítica utilizada para entender la estructura y los patrones presentes en una serie temporal. Una serie temporal es una secuencia de datos recopilados o registrados en intervalos de tiempo sucesivos. La descomposición de series temporales ayuda a separar la serie en componentes fundamentales, lo que facilita el análisis y la comprensión de las tendencias, estacionalidades y patrones cíclicos presentes en los datos.\n",
        "\n",
        "La descomposición de series temporales generalmente se realiza mediante un enfoque aditivo o multiplicativo:\n",
        "\n",
        "Descomposición Aditiva:\n",
        "\n",
        "Tendencia (T): Representa la dirección general de los datos a lo largo del tiempo, identificando si la serie muestra una tendencia creciente o decreciente.\n",
        "Estacionalidad (S): Refleja patrones estacionales o cíclicos que se repiten a intervalos fijos de tiempo, como estacionalidades mensuales o anuales.\n",
        "Residuo (R): Es la parte restante de la serie que no puede explicarse mediante la tendencia y la estacionalidad. Incluye variaciones aleatorias o errores.\n",
        "La serie temporal original (O) se puede expresar como la suma de estos componentes: X(t) = T(t) + S(t) + R(t).\n",
        "\n",
        "Descomposición Multiplicativa:\n",
        "\n",
        "En lugar de sumar los componentes, se multiplican. La serie temporal original se expresa como: X(t) = T(t) * S(t) * R(t).\n",
        "\n"
      ],
      "metadata": {
        "id": "XO9Vv7DWuyjC"
      }
    },
    {
      "cell_type": "markdown",
      "source": [
        "# Análisis con **R - Project**"
      ],
      "metadata": {
        "id": "txPTlbNG6dvS"
      }
    },
    {
      "cell_type": "code",
      "source": [
        "# Instalar Librerías #\n",
        "install.packages(\"astsa\")\n",
        "install.packages(\"stats\")"
      ],
      "metadata": {
        "id": "R3ZB6VbytGoB"
      },
      "execution_count": null,
      "outputs": []
    },
    {
      "cell_type": "code",
      "source": [
        "# Cargar Librerías #\n",
        "library(astsa)\n",
        "library(stats)"
      ],
      "metadata": {
        "id": "EmU29QattO9u"
      },
      "execution_count": null,
      "outputs": []
    },
    {
      "cell_type": "code",
      "source": [
        "# Gráfica de la Serie de la ganancias trimestrales de Johnson & Johnson #\n",
        "# Ajustar el tamaño del gráfico (más ancho)\n",
        "options(repr.plot.width=16, repr.plot.height=8)\n",
        "plot.ts(jj, main=\"Johnson & Johnson\", ylab=\"Ganancias\", lwd = 2); grid(lwd = 2, col = \"gray\")"
      ],
      "metadata": {
        "id": "xSKPqecbtUS4"
      },
      "execution_count": null,
      "outputs": []
    },
    {
      "cell_type": "code",
      "source": [
        "# Descomposición Aditiva #\n",
        "desc_adit <- decompose(jj, type=\"additive\")\n",
        "plot(desc_adit)"
      ],
      "metadata": {
        "id": "00u5zfh-txnD"
      },
      "execution_count": null,
      "outputs": []
    },
    {
      "cell_type": "code",
      "source": [
        "# Descomposición Multiplicativa #\n",
        "desc_mult <- decompose(jj, type=\"multiplicative\")\n",
        "plot(desc_mult)"
      ],
      "metadata": {
        "id": "vxcGMpVEt21e"
      },
      "execution_count": null,
      "outputs": []
    },
    {
      "cell_type": "markdown",
      "source": [
        "# 2. Regresión Lineal en Series de Tiempo\n",
        "\n",
        "La regresión lineal para series de tiempo es un método que busca modelar la relación lineal entre una variable dependiente y el tiempo. Utiliza datos históricos para encontrar una línea de mejor ajuste que represente la tendencia a lo largo del tiempo. Este modelo lineal permite prever futuros valores basados en la relación identificada. Sin embargo, la regresión lineal asume que la relación entre la variable y el tiempo es constante, lo que puede ser limitante para capturar patrones más complejos en series temporales. Otros métodos, como modelos autoregresivos o de suavizado exponencial, son a menudo preferidos para abordar la dinámica temporal más efectivamente."
      ],
      "metadata": {
        "id": "B6RYsjZMwF38"
      }
    },
    {
      "cell_type": "code",
      "source": [
        "# Instalar Librerías #\n",
        "install.packages(\"astsa\")"
      ],
      "metadata": {
        "id": "24jPRaZxxT_c"
      },
      "execution_count": null,
      "outputs": []
    },
    {
      "cell_type": "code",
      "source": [
        "# Cargar Librerías #\n",
        "library(astsa)"
      ],
      "metadata": {
        "id": "eiZt-1H2xk9i"
      },
      "execution_count": null,
      "outputs": []
    },
    {
      "cell_type": "code",
      "source": [
        "# Cargar datos de Johnson & Johnson #\n",
        "ts.plot(jj, ylab=\"Quarterly Earnings per Share\")"
      ],
      "metadata": {
        "id": "n2j_gRQ4x4ny"
      },
      "execution_count": null,
      "outputs": []
    },
    {
      "cell_type": "code",
      "source": [
        "# Definici ́on de los Tiempos #\n",
        "t = as.vector(time(jj)); t2 <- t^2"
      ],
      "metadata": {
        "id": "lehRmrPEx-RG"
      },
      "execution_count": null,
      "outputs": []
    },
    {
      "cell_type": "code",
      "source": [
        "# Modelo Lineal names(mod.lin) con resumen #\n",
        "mod.lin = lm(jj~t);\n",
        "summary(mod.lin)"
      ],
      "metadata": {
        "id": "xb2i26-Kx-N5"
      },
      "execution_count": null,
      "outputs": []
    },
    {
      "cell_type": "code",
      "source": [
        "# Modelo Cuadratico #\n",
        "mod.cuad = lm(jj~t+t2);\n",
        "summary(mod.cuad)"
      ],
      "metadata": {
        "id": "yyqfsHb-x-L1"
      },
      "execution_count": null,
      "outputs": []
    },
    {
      "cell_type": "code",
      "source": [
        "# Modelo Log-Lineal #\n",
        "mod.log.lin = lm(log(jj)~t); summary(mod.log.lin)"
      ],
      "metadata": {
        "id": "w4rg9A3Ix-JV"
      },
      "execution_count": null,
      "outputs": []
    },
    {
      "cell_type": "code",
      "source": [
        "# Modelo Exponencial #\n",
        "Ds = data.frame(jj,t)\n",
        "beta0 = mod.log.lin$coefficient[1]\n",
        "beta1 = mod.log.lin$coefficient[2]\n",
        "mod.exp = nls(jj~exp(beta0+beta1*t),data=Ds,\n",
        "start=list(beta0=beta0, beta1=beta1)); summary(mod.exp)"
      ],
      "metadata": {
        "id": "MRI09zaxx-Es"
      },
      "execution_count": null,
      "outputs": []
    },
    {
      "cell_type": "code",
      "source": [
        "# Gr ́afica de la serie con Tendencias Estimadas #\n",
        "ts.plot(jj, type=\"o\", ylab=\"Quarterly Earnings per Share\", ylim=c(-2,17),\n",
        "lwd=2, main=\"Johnson & Johnson\");grid(col = \"black\")\n",
        "\n",
        "# Modelo Lineal #\n",
        "abline(mod.lin, col=\"red\", lwd=2)\n",
        "\n",
        "# Modelo Cuadrático #\n",
        "lines(t, as.numeric(mod.cuad$coefficients[1]) +\n",
        "as.numeric(mod.cuad$coefficients[2])*t +\n",
        "as.numeric(mod.cuad$coefficients[3])*t2, col=\"blue\", lwd=2)\n",
        "\n",
        "# Coeficientes iniciales para Mod Exp #\n",
        "lines(t, exp(mod.log.lin$coefficient[1]+\n",
        "mod.log.lin$coefficient[2]*t), col=\"green\", lwd=2)\n",
        "\n",
        "# Coeficientes iterados para Mod Exp #\n",
        "lines(t, exp(summary(mod.exp)$coefficients[1]+\n",
        "summary(mod.exp)$coefficients[2]*t), col=\"yellow\", lwd=2)\n",
        "legend(\"topleft\", legend=c(\"Lineal\", \"Cuadrático\", \"Exponencial\", \"Exponencial Iterado\"), col=c(\"red\",\"blue\",\"green\", \"yellow\"), pch = \"_\", lwd=2)"
      ],
      "metadata": {
        "id": "kVzJfHT7x-A-"
      },
      "execution_count": null,
      "outputs": []
    },
    {
      "cell_type": "code",
      "source": [
        "# Criterios de Informaci ́on AIC y BIC #\n",
        "AIC.tot = c(AIC(mod.lin),\n",
        "            AIC(mod.cuad),\n",
        "            AIC(mod.exp))\n",
        "BIC.tot = c(AIC(mod.lin,k=log(length(jj))),\n",
        "            AIC(mod.cuad,k=log(length(jj))),\n",
        "            AIC(mod.exp,k=log(length(jj))))"
      ],
      "metadata": {
        "id": "x-zZ01qQ1MQS"
      },
      "execution_count": null,
      "outputs": []
    },
    {
      "cell_type": "code",
      "source": [
        "# Comparaci ́on de valores de AIC y BIC para cada modelo #\n",
        "medidas = rbind(AIC.tot, BIC.tot)\n",
        "colnames(medidas) = c(\"lin\",\"cuad\",\"exp_ite\")\n",
        "rownames(medidas) = c(\"AIC\",\"BIC\")\n",
        "(medidas)"
      ],
      "metadata": {
        "id": "WWEnXPUf1MNs"
      },
      "execution_count": null,
      "outputs": []
    },
    {
      "cell_type": "code",
      "source": [
        "# Chequeo de Residuales #\n",
        "r2 = mod.cuad$residuals\n",
        "par(mfrow=c(2,2))\n",
        "qqnorm(r2)\n",
        "qqline(r2, col=\"red\")\n",
        "hist(r2,40)\n",
        "acf(r2, lag.max = 25)\n",
        "pacf(r2, lag.max = 25)"
      ],
      "metadata": {
        "id": "AwqlbTrA1MLD"
      },
      "execution_count": null,
      "outputs": []
    },
    {
      "cell_type": "code",
      "source": [
        "# Pronósticos #\n",
        "pr2 = predict(mod.cuad,data.frame(\n",
        "t=seq(1978,1980.75,0.25),\n",
        "t2=seq(1978,1980.75,0.25)^2))\n",
        "tt=seq(1978,1980.75,0.25)\n",
        "plot(tt,jj[73:84],type=\"b\")\n",
        "lines(tt,pr2,col=\"red\")"
      ],
      "metadata": {
        "id": "eNQIZZy11L9l"
      },
      "execution_count": null,
      "outputs": []
    },
    {
      "cell_type": "code",
      "source": [
        "# Errores de Pronósticos #\n",
        "h<-1:12\n",
        "Xt<-jj[73:84]\n",
        "hatXt<-pr2\n",
        "hatet<-Xt-hatXt\n",
        "(tabla<-data.frame(h,Xt,hatXt,hatet))"
      ],
      "metadata": {
        "id": "_n9EE7-S1L6y"
      },
      "execution_count": null,
      "outputs": []
    },
    {
      "cell_type": "code",
      "source": [
        "# Instalando Librería #\n",
        "install.packages(\"MLmetrics\")"
      ],
      "metadata": {
        "id": "f8ezDNQpNXa1"
      },
      "execution_count": null,
      "outputs": []
    },
    {
      "cell_type": "code",
      "source": [
        "# Midiendo la Capacidad de Pron ́ostico MAPE #\n",
        "library(MLmetrics)\n",
        "print(paste(\"MAPE =\", MAPE(hatXt, Xt)*100, \"%\"))"
      ],
      "metadata": {
        "id": "WUVYSL0C1L4Q"
      },
      "execution_count": null,
      "outputs": []
    },
    {
      "cell_type": "markdown",
      "source": [
        "# Media Móvil (Filtros)\n",
        "La media móvil para series de tiempo es un método que calcula el promedio de un conjunto de observaciones sucesivas a lo largo del tiempo. Consiste en tomar un número fijo de puntos de datos (la ventana de la media móvil) y calcular el promedio en cada paso, desplazando la ventana a medida que avanzan los datos. Esto suaviza la serie temporal, eliminando el ruido aleatorio y resaltando las tendencias subyacentes. La elección del tamaño de la ventana afecta la sensibilidad del método: una ventana más grande suaviza la serie más agresivamente, mientras que una ventana más pequeña captura variaciones más rápidas. La media móvil es una técnica simple pero útil para identificar patrones y tendencias en los datos temporales."
      ],
      "metadata": {
        "id": "Was8-xyE6y_w"
      }
    },
    {
      "cell_type": "code",
      "source": [
        "# Instalar Librerías #\n",
        "install.packages(\"fTrading\")"
      ],
      "metadata": {
        "id": "5TLBpEp07TsA"
      },
      "execution_count": null,
      "outputs": []
    },
    {
      "cell_type": "code",
      "source": [
        "# Cargar Librería #\n",
        "library(fTrading)"
      ],
      "metadata": {
        "id": "CdXDsg8O848L"
      },
      "execution_count": null,
      "outputs": []
    },
    {
      "cell_type": "code",
      "source": [
        "# Conjunto de Datos de MSFT #\n",
        "data(MSFT)"
      ],
      "metadata": {
        "id": "Q5MWm1sI9CT9"
      },
      "execution_count": null,
      "outputs": []
    },
    {
      "cell_type": "code",
      "source": [
        "# Gr ́aficos Simult ́aneos\n",
        "plot(MSFT[, 1:4], type = \"l\", main=\"Precios Acciones Microsoft\")"
      ],
      "metadata": {
        "id": "-aBRpdFx9JKx"
      },
      "execution_count": null,
      "outputs": []
    },
    {
      "cell_type": "code",
      "source": [
        "# Carga precio de cierre de Microsoft #\n",
        "x = MSFT[, 4]"
      ],
      "metadata": {
        "id": "i2sz3Cqm9MSH"
      },
      "execution_count": null,
      "outputs": []
    },
    {
      "cell_type": "code",
      "source": [
        "# Ancho de ventana #\n",
        "m = 13"
      ],
      "metadata": {
        "id": "gRohRHVp9dpa"
      },
      "execution_count": null,
      "outputs": []
    },
    {
      "cell_type": "code",
      "source": [
        "# Suavizamiento #\n",
        "z = filter(x, rep(1/(m+1),m+1), \"conv\",1 ,T , NULL)"
      ],
      "metadata": {
        "id": "tnsuzLgw9g82"
      },
      "execution_count": null,
      "outputs": []
    },
    {
      "cell_type": "code",
      "source": [
        "# Serie Original y Suavizada #\n",
        "plot(x, main=\"Media Móvil - Close Microsoft\");grid()\n",
        "lines(z, col=\"blue\")"
      ],
      "metadata": {
        "id": "0SjE7rK59kFk"
      },
      "execution_count": null,
      "outputs": []
    },
    {
      "cell_type": "markdown",
      "source": [
        "# Suavización Exponencial Simple (SES)\n",
        "Pondera todos los datos pasados con ponderaciones que disminuyen exponencialmente al ir hacia el pasado. Es decir, normalmente los datos más reciente tienen una mayor ponderaci ́on. La ponderación de esta forma supera en gran medida las limitaciones de promedios m ́oviles o m ́etodos de cambio de porcentaje.\n",
        "Este método, cuyo resultado es una previsión plana, recta, es el mejor para datos volátiles sin tendencia ni estacionalidad.\n",
        "La constante funciona como un factor de ponderación y su variación se hace de acuerdo a nuestra necesidad de darle más peso a datos recientes (α más elevado) o a datos pasados (α más bajo). Si α = 1, nuestro pronóstico del próximo periodo será exactamente igual al del periodo actual."
      ],
      "metadata": {
        "id": "BwE4Z40f9-6u"
      }
    },
    {
      "cell_type": "markdown",
      "source": [
        "## Suavización Descriptiva"
      ],
      "metadata": {
        "id": "rAa-LeAKANbP"
      }
    },
    {
      "cell_type": "code",
      "source": [
        "# Instalar Librerías #\n",
        "install.packages(\"fTrading\")"
      ],
      "metadata": {
        "id": "gCn10CWJ_Ik-"
      },
      "execution_count": null,
      "outputs": []
    },
    {
      "cell_type": "code",
      "source": [
        "# Cargar Librería #\n",
        "library(fTrading)"
      ],
      "metadata": {
        "id": "U-3l7rjB_Osm"
      },
      "execution_count": null,
      "outputs": []
    },
    {
      "cell_type": "code",
      "source": [
        "# Conjunto de Datos de MSFT #\n",
        "data(MSFT)"
      ],
      "metadata": {
        "id": "rQUBgq2K_S7E"
      },
      "execution_count": null,
      "outputs": []
    },
    {
      "cell_type": "code",
      "source": [
        "# Gra ́ficos Simultáneos #\n",
        "plot(MSFT[, 1:4], type = \"l\", main=\"Precios Microsoft\")"
      ],
      "metadata": {
        "id": "Gbe_FhI6_s8g"
      },
      "execution_count": null,
      "outputs": []
    },
    {
      "cell_type": "code",
      "source": [
        "# Carga precio de cierre de Microsoft #\n",
        "x = MSFT[, 4]"
      ],
      "metadata": {
        "id": "DVki7WbD_s6M"
      },
      "execution_count": null,
      "outputs": []
    },
    {
      "cell_type": "code",
      "source": [
        "# Definición del parámetro de suavización #\n",
        "alfa=0.29"
      ],
      "metadata": {
        "id": "1w1AcFBH_s3E"
      },
      "execution_count": null,
      "outputs": []
    },
    {
      "cell_type": "code",
      "source": [
        "# Serie suavizada #\n",
        "y = emaTA(MSFT[, 4], lambda = alfa)"
      ],
      "metadata": {
        "id": "RdrZuGPy_s0Z"
      },
      "execution_count": null,
      "outputs": []
    },
    {
      "cell_type": "code",
      "source": [
        "# Gráficas de la series original y suavizada #\n",
        "plot(x, type = \"l\", main=\"Suavización Exponencial - Close Microsoft\");grid()\n",
        "lines(y, col=\"red\")"
      ],
      "metadata": {
        "id": "ihtBJHzK_sx1"
      },
      "execution_count": null,
      "outputs": []
    },
    {
      "cell_type": "markdown",
      "source": [
        "## Suavización con Pronóstico"
      ],
      "metadata": {
        "id": "NXbR1md7AXve"
      }
    },
    {
      "cell_type": "code",
      "source": [
        "# Instalar Librerías #\n",
        "install.packages(\"fpp2\")\n",
        "install.packages(\"forecast\")\n",
        "install.packages(\"ggplot2\")"
      ],
      "metadata": {
        "id": "Sye0iHwx_svB"
      },
      "execution_count": null,
      "outputs": []
    },
    {
      "cell_type": "code",
      "source": [
        "# Cargar Librerías #\n",
        "library(fpp2)\n",
        "library(forecast)\n",
        "library(ggplot2)"
      ],
      "metadata": {
        "id": "N-_d6Gzl_ssD"
      },
      "execution_count": null,
      "outputs": []
    },
    {
      "cell_type": "code",
      "source": [
        "# Conjunto de Datos de MSFT #\n",
        "data(MSFT)"
      ],
      "metadata": {
        "id": "w6z5pNBz_sjP"
      },
      "execution_count": null,
      "outputs": []
    },
    {
      "cell_type": "code",
      "source": [
        "# Grá́ficos Simultáneos #\n",
        "plot(MSFT[, 1:4], type = \"l\", main=\"Precios Microsoft\")"
      ],
      "metadata": {
        "id": "N9r2mIhQJHqj"
      },
      "execution_count": null,
      "outputs": []
    },
    {
      "cell_type": "code",
      "source": [
        "# Carga precio de cierre de Microsoft #\n",
        "close = MSFT[, 4]#, start=1, frequency=1)"
      ],
      "metadata": {
        "id": "SIJl65zPJHoV"
      },
      "execution_count": null,
      "outputs": []
    },
    {
      "cell_type": "code",
      "source": [
        "# Gráfica de la serie #\n",
        "plot(close, main=\"Precios de Cierre Microsoft\")"
      ],
      "metadata": {
        "id": "d0HCZlPxJHlB"
      },
      "execution_count": null,
      "outputs": []
    },
    {
      "cell_type": "code",
      "source": [
        "# Ajuste con Suavización Exponencial #\n",
        "fit_close<-ses(close, h=5, initial = \"simple\", alpha = 0.3)"
      ],
      "metadata": {
        "id": "gT1MIx92JHil"
      },
      "execution_count": null,
      "outputs": []
    },
    {
      "cell_type": "code",
      "source": [
        "# Valores de los Pronósticos #\n",
        "fit_close"
      ],
      "metadata": {
        "id": "Yenm-L2-JHf4"
      },
      "execution_count": null,
      "outputs": []
    },
    {
      "cell_type": "code",
      "source": [
        "# Resumen del modelo y desempeño #\n",
        "summary(fit_close)"
      ],
      "metadata": {
        "id": "UbtBd25YJHdm"
      },
      "execution_count": null,
      "outputs": []
    },
    {
      "cell_type": "code",
      "source": [
        "# Gráfico de la serie y pronóstico #\n",
        "plot(fit_close, main=\"Pron ́osticos de Precios de Cierre Microsoft\")"
      ],
      "metadata": {
        "id": "mjpHzXBAJHYX"
      },
      "execution_count": null,
      "outputs": []
    },
    {
      "cell_type": "markdown",
      "source": [
        "# Suavización Holt-Winters\n",
        "El método de Holt-Winters es una técnica de suavizado exponencial triple utilizada para modelar y predecir series de tiempo con patrones de tendencia y estacionalidad. Este enfoque toma en cuenta tres componentes principales: nivel, tendencia y estacionalidad. Utiliza algoritmos de suavizado exponencial para actualizar y pronosticar estos componentes en cada paso de tiempo. El método de Holt-Winters es útil para series temporales que exhiben tanto tendencias de crecimiento o declive como patrones estacionales regulares. Ayuda a capturar y prever estos patrones de manera más precisa que los métodos de suavizado exponencial simple o doble."
      ],
      "metadata": {
        "id": "qvBlp4JyJ8lI"
      }
    },
    {
      "cell_type": "code",
      "source": [
        "# Instalar Librerías #\n",
        "install.packages(\"forecast\")\n",
        "install.packages(\"astsa\")\n",
        "install.packages(\"stats\")"
      ],
      "metadata": {
        "id": "2w_-OmXeKMMR"
      },
      "execution_count": null,
      "outputs": []
    },
    {
      "cell_type": "code",
      "source": [
        "# Cargar librerías #\n",
        "library(forecast)\n",
        "library(astsa)\n",
        "library(stats)"
      ],
      "metadata": {
        "id": "aDEKqYKqKaoX"
      },
      "execution_count": null,
      "outputs": []
    },
    {
      "cell_type": "code",
      "source": [
        "# Cargar datos de Johnson & Johnson #\n",
        "ts.plot(jj, ylab=\"Quarterly Earnings per Share\", main=\"Ganancias Trimestrales\", lwd=2); grid(col = \"black\")"
      ],
      "metadata": {
        "id": "smkN_TwoKeTN"
      },
      "execution_count": null,
      "outputs": []
    },
    {
      "cell_type": "code",
      "source": [
        "# Ajuste del modelo aditivo #\n",
        "mod_hw = HoltWinters(jj, seasonal = \"additive\")\n",
        "plot(mod_hw, lwd=2); grid(col = \"black\")"
      ],
      "metadata": {
        "id": "AUfZ6Fm5KeQE"
      },
      "execution_count": null,
      "outputs": []
    },
    {
      "cell_type": "code",
      "source": [
        "# Descomposición #\n",
        "plot(fitted(mod_hw), main=\"Descomposición Holt-Winters\", lwd=2); grid(col = \"black\")"
      ],
      "metadata": {
        "id": "IN-XsvAeKeNh"
      },
      "execution_count": null,
      "outputs": []
    },
    {
      "cell_type": "code",
      "source": [
        "# Predicción #\n",
        "pred_hw = predict(mod_hw, 4, prediction.interval = TRUE)\n",
        "pred_hw"
      ],
      "metadata": {
        "id": "pHHT2apcKeK1"
      },
      "execution_count": null,
      "outputs": []
    },
    {
      "cell_type": "code",
      "source": [
        "# Graficar Serie con Predicción #\n",
        "plot(mod_hw, pred_hw, main= \"Pronóstico de Ganancias\", lwd=2); grid(col = \"gray\")"
      ],
      "metadata": {
        "id": "izfMlfTdKeH-"
      },
      "execution_count": null,
      "outputs": []
    }
  ],
  "metadata": {
    "kernelspec": {
      "display_name": "R",
      "name": "ir"
    },
    "language_info": {
      "name": "R"
    },
    "colab": {
      "provenance": [],
      "gpuType": "T4",
      "include_colab_link": true
    },
    "accelerator": "GPU"
  },
  "nbformat": 4,
  "nbformat_minor": 0
}