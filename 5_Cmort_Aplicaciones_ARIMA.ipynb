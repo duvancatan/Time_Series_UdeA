{
  "nbformat": 4,
  "nbformat_minor": 0,
  "metadata": {
    "colab": {
      "provenance": [],
      "authorship_tag": "ABX9TyNLs+yqGR3O9cKjYOsXTnfB",
      "include_colab_link": true
    },
    "kernelspec": {
      "name": "ir",
      "display_name": "R"
    },
    "language_info": {
      "name": "R"
    }
  },
  "cells": [
    {
      "cell_type": "markdown",
      "metadata": {
        "id": "view-in-github",
        "colab_type": "text"
      },
      "source": [
        "<a href=\"https://colab.research.google.com/github/duvancatan/Time_Series_UdeA/blob/main/5_Cmort_Aplicaciones_ARIMA.ipynb\" target=\"_parent\"><img src=\"https://colab.research.google.com/assets/colab-badge.svg\" alt=\"Open In Colab\"/></a>"
      ]
    },
    {
      "cell_type": "markdown",
      "source": [
        "![cardio.jpg](data:image/jpeg;base64,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)\n",
        "\n",
        "# ***MORTALIDAD CARDIOVASCULAR SEMANAL PROMEDIO***\n",
        "\n",
        "Los datos descritos en **cmort**, de la librería **astsa**, son series extraídas de un estudio de Shumway sobre los posibles efectos de la contaminación en la mortalidad cardiovascular semanal promedio en el condado de Los Ángeles a lo largo de los 10 años.Hay 508 promedios suavizados de seis días obtenidos al filtrar los valores diarios durante el período de 10 años 1970 - 1979."
      ],
      "metadata": {
        "id": "iKjW4cnpK2gv"
      }
    },
    {
      "cell_type": "markdown",
      "source": [
        "# Librerías y Carga de los Datos"
      ],
      "metadata": {
        "id": "Ty0BKW8KNK7i"
      }
    },
    {
      "cell_type": "code",
      "source": [
        "# Instalar Librerías #\n",
        "# Se sugiere cargar previo a la presentación, es demorado en Colab #\n",
        "install.packages(\"astsa\")\n",
        "install.packages(\"quantmod\")\n",
        "install.packages(\"tseries\")\n",
        "install.packages(\"timeSeries\")\n",
        "install.packages(\"forecast\")\n",
        "install.packages(\"xts\")\n",
        "install.packages(\"TSA\")\n",
        "install.packages(\"lmtest\")\n",
        "install.packages(\"nortest\")\n",
        "install.packages(\"car\")\n",
        "install.packages(\"urca\")\n",
        "install.packages(\"dynlm\")\n",
        "install.packages(\"MLmetrics\")"
      ],
      "metadata": {
        "id": "EPchWGeNNXn5"
      },
      "execution_count": null,
      "outputs": []
    },
    {
      "cell_type": "code",
      "source": [
        "# Cargar Librerías #\n",
        "library(astsa)\n",
        "library(quantmod)\n",
        "library(tseries)\n",
        "library(timeSeries)\n",
        "library(forecast)\n",
        "library(xts)\n",
        "library(TSA)\n",
        "library(lmtest)\n",
        "library(nortest)\n",
        "library(car)\n",
        "library(urca)\n",
        "library(dynlm)\n",
        "library(MLmetrics)"
      ],
      "metadata": {
        "id": "k5FJx9gMNoBy"
      },
      "execution_count": null,
      "outputs": []
    },
    {
      "cell_type": "markdown",
      "source": [
        "# Análisis Exploratorio"
      ],
      "metadata": {
        "id": "NtOM42E-P_BD"
      }
    },
    {
      "cell_type": "code",
      "source": [
        "# Cargar los datos #\n",
        "ts.plot(cmort, main= \"Serie de mortalidad cardiovascular semanal promedio\"); grid()\n",
        "abline(v=c(seq(1971,1979)), col=\"blue\")"
      ],
      "metadata": {
        "id": "9Pq_oE-qPW0I"
      },
      "execution_count": null,
      "outputs": []
    },
    {
      "cell_type": "markdown",
      "source": [
        "### La prueba de Dickey-Fuller es una prueba de raíz unitaria que se utiliza comúnmente para determinar si una serie de tiempo es estacionaria o no.                                                          \n",
        "$H_0$ : No Estacionaria   $vs$    $H_a$ : Estacionaria"
      ],
      "metadata": {
        "id": "qP7mgJLJRJ6Q"
      }
    },
    {
      "cell_type": "code",
      "source": [
        "# Aplicar la prueba de Dickey-Fuller de Estacionaridad #\n",
        "df = adf.test(cmort)\n",
        "df$p.value"
      ],
      "metadata": {
        "id": "3miDKG68RJaO"
      },
      "execution_count": null,
      "outputs": []
    },
    {
      "cell_type": "markdown",
      "source": [
        "### Funciones de Autocorrelación y Autocorrelación Parcial"
      ],
      "metadata": {
        "id": "4q10nCiyR2xE"
      }
    },
    {
      "cell_type": "code",
      "source": [
        "# Gráfica de la ACF y PACF #\n",
        "par(mfrow=c(2,1))\n",
        "acf(cmort, main=\"Función de Autocorrelación\")\n",
        "pacf(cmort, main=\"Función de Autocorrelación Parcial\", lag.max = 30)"
      ],
      "metadata": {
        "id": "4ogrPO7XRDf-"
      },
      "execution_count": null,
      "outputs": []
    },
    {
      "cell_type": "code",
      "source": [
        "# Presencia de Estacionalidad - Suavizamiento #\n",
        "fma_cmort <- filter(cmort, sides=2, filter = (c(1, 1, 1)/3))\n",
        "par(mfrow=c(2,1))\n",
        "plot(cmort, ylab = \"Mortalidad Cardiovascular\", main = \"Original\")\n",
        "abline(v=c(seq(1971,1979)), col=\"red\")\n",
        "plot(fma_cmort, ylab = \"Mortalidad Cardiovascular\", main = \"Suavizada\")\n",
        "abline(v=c(seq(1971,1979)), col=\"green\")"
      ],
      "metadata": {
        "id": "mWZK2gNLRDdW"
      },
      "execution_count": null,
      "outputs": []
    },
    {
      "cell_type": "code",
      "source": [
        "# Descomposición muestra una tendencia general decreciente #\n",
        "descomp <- decompose(fma_cmort)\n",
        "plot(descomp)"
      ],
      "metadata": {
        "id": "7MLY76nIRDah"
      },
      "execution_count": null,
      "outputs": []
    },
    {
      "cell_type": "code",
      "source": [
        "# El perfil estacional, evidencia una correlación entre periodos #\n",
        "par(mfrow=c(2,1))\n",
        "monthplot(cmort, main=\"Promedio de mortalidad semanal\")\n",
        "seasonplot(cmort, main=\"Perfil estacional\")"
      ],
      "metadata": {
        "id": "ZLKnl9MIRDYA"
      },
      "execution_count": null,
      "outputs": []
    },
    {
      "cell_type": "markdown",
      "source": [
        "### Funciones de Autocorrelación y Autocorrelación Parcial"
      ],
      "metadata": {
        "id": "4cipln09XbMP"
      }
    },
    {
      "cell_type": "code",
      "source": [
        "# Análisis de la ACF y PACF #\n",
        "par(mfrow=c(2,1))\n",
        "acf(cmort, lag.max=200)\n",
        "pacf(cmort, lag.max=200)"
      ],
      "metadata": {
        "id": "3eG5GeloRDVN"
      },
      "execution_count": null,
      "outputs": []
    },
    {
      "cell_type": "code",
      "source": [
        "# Análisis de la ACF y PACF de la primera diferencia #\n",
        "par(mfrow=c(2,1))\n",
        "acf(diff(cmort), lag.max=200)\n",
        "pacf(diff(cmort), lag.max=200)"
      ],
      "metadata": {
        "id": "iLa0j-WnRDSl"
      },
      "execution_count": null,
      "outputs": []
    },
    {
      "cell_type": "code",
      "source": [
        "# Parece que aplicar una sola diferencia es adecuado, sin embargo,  #\n",
        "# se considera una diferencia ordinaria y una diferencia estacional #\n",
        "# de rezago 52 es decir, (1-B)(1-B^{52}).                           #\n",
        "par(mfrow=c(2,1))\n",
        "acf(diff(diff(cmort),lag=52), lag.max=200)\n",
        "pacf(diff(diff(cmort),lag=52), lag.max=200)"
      ],
      "metadata": {
        "id": "7tuUKIRvRDP4"
      },
      "execution_count": null,
      "outputs": []
    },
    {
      "cell_type": "code",
      "source": [
        "# La ACF y PACF de la serie con diferencia ordinaria y una diferencia              #\n",
        "# estacional de rezago 52, indican que un modelo                                   #\n",
        "# $ARIMA(2,1,2)$x$(1,1,1)52$ podría ser adecuado para predecir la                  #\n",
        "# cantidad de muertes por enfermedad cardiaca debido a la contaminación ambiental  #\n",
        "par(mfrow=c(2,1))\n",
        "plot(diff(cmort), main=\"Diferencia Ordinaria\")\n",
        "plot(diff(diff(cmort),lag=52), main=\"Diferencia Ordinaria y Estacional\")"
      ],
      "metadata": {
        "id": "k1hvugHNRDNM"
      },
      "execution_count": null,
      "outputs": []
    },
    {
      "cell_type": "markdown",
      "source": [
        "### División en Train y Test"
      ],
      "metadata": {
        "id": "XbuOpoIuXhts"
      }
    },
    {
      "cell_type": "code",
      "source": [
        "# Para analizar el desempeño el modelo, se dividirá la base en datos de   #\n",
        "# entrenamiento (90%) y de prueba (10%), pues se sabe que entre más datos #\n",
        "# tenga el modelo podemos obtener mejores predicciones.                   #\n",
        "cmort_train <- ts(cmort[1:457], frequency=52, start = c(1970, 1))\n",
        "cmort_test <- cmort[458:508]"
      ],
      "metadata": {
        "id": "_Hg-JEDERDKh"
      },
      "execution_count": null,
      "outputs": []
    },
    {
      "cell_type": "code",
      "source": [
        "############################################\n",
        "# EJECUTAR DIRECTAMENTE EN LA CONSOLA DE R #\n",
        "############################################\n",
        "\n",
        "# Adicionalmente, seguiendo las sugerencias gráficas de la ACF y PACF,      #\n",
        "# consideraré para la componente no estacional los ordenes: $p=2,q=2,d=1$ y #\n",
        "# la componente estacional $P=1,Q=1,D=1$.                                   #\n",
        "p=2; q=2; P=1 ;Q=1; d=1;\n",
        "\n",
        "maxfilas=(p+1)*(q+1)*(P+1)*(Q+1)\n",
        "ic_mod=matrix(rep(-99, times=(maxfilas-18)*6), nrow=maxfilas-18, ncol=6)\n",
        "\n",
        "k=1\n",
        "for(i in 0:p) {\n",
        "  for(j in 0:q) {\n",
        "    for(s in 0:P) {\n",
        "      for(m in 0:Q) {\n",
        "        modelo = Arima(cmort_train, order = c(i, d, j),\n",
        "                     seasonal = list(order = c(s, D, m)), method = c(\"CSS-ML\"))\n",
        "\n",
        "        numpar=length(coef(modelo))\n",
        "        L=length(residuals(modelo))\n",
        "        ic_mod[k,1]=i\n",
        "        ic_mod[k,2]=j\n",
        "        ic_mod[k,3]=s\n",
        "        ic_mod[k,4]=m\n",
        "        ic_mod[k,5]=-2*(modelo$loglik/L)+(2*numpar)/L      # AIC\n",
        "        ic_mod[k,6]=-2*(modelo$loglik/L)+(numpar*log(L))/L  # BIC\n",
        "        k=k+1\n",
        "      }\n",
        "    }\n",
        "  }\n",
        "}\n",
        "p_=ic_mod[,1]\n",
        "q_=ic_mod[,2]\n",
        "P_=ic_mod[,3]\n",
        "Q_=ic_mod[,4]\n",
        "AIC=ic_mod[,5]\n",
        "BIC=ic_mod[,6]"
      ],
      "metadata": {
        "id": "6SQpPyhdRDHt"
      },
      "execution_count": null,
      "outputs": []
    },
    {
      "cell_type": "code",
      "source": [
        "############################################\n",
        "# EJECUTAR DIRECTAMENTE EN LA CONSOLA DE R #\n",
        "############################################\n",
        "\n",
        "# Tabla con órdenes de los modelos ajustados y los criterios de información #\n",
        "Crit_Inf=cbind(p_, q_, P_, Q_, AIC, BIC)"
      ],
      "metadata": {
        "id": "h3sa4mH8ZhHU"
      },
      "execution_count": null,
      "outputs": []
    },
    {
      "cell_type": "code",
      "source": [
        "############################################\n",
        "# EJECUTAR DIRECTAMENTE EN LA CONSOLA DE R #\n",
        "############################################\n",
        "\n",
        "# Criterios de información de menor a mayor #\n",
        "(Crit_Inf=data.frame(Crit_Inf))\n",
        "(aic=Crit_Inf[order(Crit_Inf$AIC),])\n",
        "(bic=Crit_Inf[order(Crit_Inf$BIC),])\n",
        "# Ambos criterios de información coinciden en que el mejor modelo es un #\n",
        "# $ARIMA(0,1,1)$x$(1,1,1)52$. #"
      ],
      "metadata": {
        "id": "y1-8VgVYZhEm"
      },
      "execution_count": null,
      "outputs": []
    },
    {
      "cell_type": "markdown",
      "source": [
        "### Usando la función auto.arima()"
      ],
      "metadata": {
        "id": "Zcaru_Xcidau"
      }
    },
    {
      "cell_type": "code",
      "source": [
        "# Ahora vamos a utilizar la función $auto.arima para calcular el modelo      #\n",
        "# de forma automática usando el criterio AIC y sin considerar estacionalidad #\n",
        "# para enfatizar la importancia de identificar S=52                          #\n",
        "#?auto.arima\n",
        "auto.arima(cmort_train, ic = \"aic\", seasonal = F)\n",
        "# Como resultado, obtenemos que el mejor modelo es un $ARIMA(2,1,0)$, #\n",
        "# por ende, vamos a ajustar ambos modelos propuestos. #"
      ],
      "metadata": {
        "id": "OzOv7hLiZg_k"
      },
      "execution_count": null,
      "outputs": []
    },
    {
      "cell_type": "markdown",
      "source": [
        "# Estimación de parámetros para dos modelos tentativos"
      ],
      "metadata": {
        "id": "sHk2e2Aci3LJ"
      }
    },
    {
      "cell_type": "markdown",
      "source": [
        "### Modelo 1 : Usando los criterios y componente estacional"
      ],
      "metadata": {
        "id": "YBopUSnFjDFm"
      }
    },
    {
      "cell_type": "code",
      "source": [
        "# Usando criterios #\n",
        "mod1 = arima(cmort_train, order = c(0, 1, 1), seasonal = list(order = c(1, 1, 1), period = 52),\n",
        "           method = c(\"CSS-ML\"))"
      ],
      "metadata": {
        "id": "NrcyJBt0Zg9M"
      },
      "execution_count": null,
      "outputs": []
    },
    {
      "cell_type": "markdown",
      "source": [
        "### Modelo 2 : Usando la recomentación de auto.arima()"
      ],
      "metadata": {
        "id": "R2hMwcLIjPg7"
      }
    },
    {
      "cell_type": "code",
      "source": [
        "# Usando auto.arima() #\n",
        "mod2 = arima(cmort_train, order = c(2, 1, 0), method = c(\"CSS-ML\"))"
      ],
      "metadata": {
        "id": "GEL5ghtvZg6e"
      },
      "execution_count": null,
      "outputs": []
    },
    {
      "cell_type": "markdown",
      "source": [
        "# Diagnóstico Residual"
      ],
      "metadata": {
        "id": "reziLA6Ej2Eh"
      }
    },
    {
      "cell_type": "code",
      "source": [
        "# Ahora nos disponemos a evaluar el ajuste de los modelos #\n",
        "resmod1=residuals(mod1)\n",
        "resmod2=residuals(mod2)"
      ],
      "metadata": {
        "id": "0mSFLFtvZg3l"
      },
      "execution_count": null,
      "outputs": []
    },
    {
      "cell_type": "code",
      "source": [
        "# Valores ajustados #\n",
        "ajust1=cmort_train-resmod1\n",
        "ajust2=cmort_train-resmod2"
      ],
      "metadata": {
        "id": "pz3cLyqjkKFs"
      },
      "execution_count": null,
      "outputs": []
    },
    {
      "cell_type": "code",
      "source": [
        "# Gráfico para los valores ajustados #\n",
        "par(mfrow=c(2,1))\n",
        "# Modelo 1 #\n",
        "ts.plot(cmort_train, ajust1 , main = \"Valores ajustados con arima()\")\n",
        "lines(cmort_train, col=\"red\")\n",
        "# Modelo 2 #\n",
        "ts.plot(cmort_train, ajust2 , main = \"Valores ajustados con auto.arima()\")\n",
        "lines(cmort_train, col=\"green\")"
      ],
      "metadata": {
        "id": "DFFtK38HkO_d"
      },
      "execution_count": null,
      "outputs": []
    },
    {
      "cell_type": "markdown",
      "source": [
        "## Observación:\n",
        "El Modelo 2 ,$ARIMA(2,1,0)$, parece tener mejor ajuste que el Modelo 1,\n",
        "$SARIMA(0,1,1)$x$(1,1,1)_{52}$, si embargo, puede el modelo realmente esté\n",
        "sobreajustado y las predicciones no sean eficientes. Con el fin de escoger\n",
        "el mejor modelo, tenemos que acudir a herramientas estadísticas que nos\n",
        "permitan medir el ajuste. Empezamos con los criterios de información, es decir,\n",
        "el AIC y BIC."
      ],
      "metadata": {
        "id": "1ugQab5Fkosy"
      }
    },
    {
      "cell_type": "markdown",
      "source": [
        "### Construyendo los Criterios de Información"
      ],
      "metadata": {
        "id": "KEZcnzIBm-BE"
      }
    },
    {
      "cell_type": "code",
      "source": [
        "# Longitud de Residuales #\n",
        "n1=length(residuals(mod1))\n",
        "n2=length(residuals(mod2))"
      ],
      "metadata": {
        "id": "pDmzHR_PnIXg"
      },
      "execution_count": null,
      "outputs": []
    },
    {
      "cell_type": "code",
      "source": [
        "# Número de Parámetros #\n",
        "p1=length(coef(mod1))\n",
        "p2=length(coef(mod2))"
      ],
      "metadata": {
        "id": "5NdVeevxnIVp"
      },
      "execution_count": null,
      "outputs": []
    },
    {
      "cell_type": "code",
      "source": [
        "# AIC #\n",
        "AIC1 = -2*(mod1$loglik/n1)+(2*p1)/n1\n",
        "AIC2 = -2*(mod2$loglik/n2)+(2*p2)/n2"
      ],
      "metadata": {
        "id": "oglqGFP0nITG"
      },
      "execution_count": null,
      "outputs": []
    },
    {
      "cell_type": "code",
      "source": [
        "# BIC #\n",
        "BIC1 = -2*(mod1$loglik/n1)+(log(n1)*p1)/n1\n",
        "BIC2 = -2*(mod2$loglik/n2)+(log(n2)*p2)/n2"
      ],
      "metadata": {
        "id": "h5-SpTMYnIQ1"
      },
      "execution_count": null,
      "outputs": []
    },
    {
      "cell_type": "code",
      "source": [
        "# Criterios de Información para ambos modelos #\n",
        "c_f = data.frame(\"Criterios\" = c(\"Modelo_1\", \"Modelo_2\"),\n",
        "                 \"AIC\" = c(AIC1, AIC2),\n",
        "                 \"BIC\" = c(BIC1, BIC2))\n",
        "print(c_f)"
      ],
      "metadata": {
        "id": "LoaLHVm5kxMn"
      },
      "execution_count": null,
      "outputs": []
    },
    {
      "cell_type": "markdown",
      "source": [
        "### Observación :\n",
        "El modelo $ARIMA(0,1,1)$x$(1,1,1)_{52}$ parece ser el mejor modelo por el momento, no obstante, la diferencia entre ambos criterios de información no parece significativa. Dados los resultados de los criterios de información se\n",
        "presenta el modelo 1 como el que minimiza los criterios de información y como\n",
        "uno de los más parsimoniosos."
      ],
      "metadata": {
        "id": "HmyVf01QnmAK"
      }
    },
    {
      "cell_type": "markdown",
      "source": [
        "### Análisis Residual"
      ],
      "metadata": {
        "id": "RFVD-6KZn6A5"
      }
    },
    {
      "cell_type": "code",
      "source": [
        "# Presentamos las gráficas residuales #\n",
        "resmod1=residuals(mod1)\n",
        "resmod2=residuals(mod2)\n",
        "\n",
        "# Para el modelo 1 #\n",
        "res_est1=resmod1/(mod1$sigma2^.5)\n",
        "res_est1=mod1$residuals\n",
        "\n",
        "# Para el modelo 2 #\n",
        "res_est2=resmod2/(mod2$sigma2^.5)\n",
        "res_est2=mod2$residuals\n",
        "\n",
        "# Gráfico de los resudiales #\n",
        "par(mfrow=c(2,1))\n",
        "plot.ts(res_est1, main=\"Residuales Modelo 1\")\n",
        "plot.ts(res_est2, main=\"Residuales Modelo 2\")\n",
        "\n",
        "# No se encuentra evidencia contra de varianza constante y falta de ajuste #\n",
        "# en el modelo $Arima(2,1,1)$. Vamos a calcular las ACF y PACF residuales. #"
      ],
      "metadata": {
        "id": "p-UJZttHn0tJ"
      },
      "execution_count": null,
      "outputs": []
    },
    {
      "cell_type": "code",
      "source": [
        "# ACF y PACF de residuales de ambos modelos #\n",
        "par(mfrow=c(2,2))\n",
        "acf(resmod1, main='SARIMA(0,1,1)x(1,1,1)');acf(resmod2,main='ARIMA(2,1,1)')\n",
        "pacf(resmod1, main=\"\");pacf(resmod2, main=\"\")\n",
        "\n",
        "# Prueba de Ljung-Box #\n",
        "Box.test(resmod1, type = \"Ljung-Box\")\n",
        "Box.test(resmod2, type = \"Ljung-Box\")\n",
        "\n",
        "# En ambos modelos se encuentra evidencia para concluir que los residuales no #\n",
        "# están correlacionados. #"
      ],
      "metadata": {
        "id": "Ox4FO8VrDjjY"
      },
      "execution_count": null,
      "outputs": []
    },
    {
      "cell_type": "code",
      "source": [
        "# Para el Modelo 1 #\n",
        "res_est1=resmod1/(mod1$sigma2^.5)\n",
        "res_est1=mod1$residuals"
      ],
      "metadata": {
        "id": "c7WmbVTkoLBI"
      },
      "execution_count": null,
      "outputs": []
    },
    {
      "cell_type": "code",
      "source": [
        "# Para el Modelo 2 #\n",
        "res_est2=resmod2/(mod2$sigma2^.5)\n",
        "res_est2=mod2$residuals"
      ],
      "metadata": {
        "id": "Khvrvf-4oK-w"
      },
      "execution_count": null,
      "outputs": []
    },
    {
      "cell_type": "code",
      "source": [
        "# Gráfico de los resudiales #\n",
        "par(mfrow=c(2,1))\n",
        "plot.ts(res_est1)\n",
        "plot.ts(res_est2)"
      ],
      "metadata": {
        "id": "ggKxR1IFoK5l"
      },
      "execution_count": null,
      "outputs": []
    },
    {
      "cell_type": "markdown",
      "source": [
        "### Chequeo de Normalidad"
      ],
      "metadata": {
        "id": "14TQX_XyojYp"
      }
    },
    {
      "cell_type": "code",
      "source": [
        "par(mfrow=c(1,2))\n",
        "# Modelo 1 #\n",
        "qqnorm(res_est1,  xlab = \"Cuantiles Teóreticos\", ylab = \"Cuantiles Muestrales\",\n",
        "       main = \"\")\n",
        "qqline(res_est1)\n",
        "legend(\"topleft\", legend = \"ARIMA011x111\", cex = 1)\n",
        "legend(\"bottomright\", bg = \"white\",\n",
        "       legend = paste(\"p-(Shapiro-W):\", round(shapiro.test(res_est1)[2]$p.value, 4)),cex = 1)\n",
        "\n",
        "\n",
        "# Modelo 2 #\n",
        "qqnorm(res_est2,  xlab = \"Cuantiles Teóreticos\", ylab = \"Cuantiles Muestrales\")\n",
        "qqline(res_est2)\n",
        "legend(\"topleft\", legend = \"ARIMA211\", cex = 1)\n",
        "legend(\"bottomright\", bg = \"white\",\n",
        "       legend = paste(\"p-(Shapiro-W):\", round(shapiro.test(res_est2)[2]$p.value, 4)),cex = 1)"
      ],
      "metadata": {
        "id": "El5s7ldfoKvf"
      },
      "execution_count": null,
      "outputs": []
    },
    {
      "cell_type": "markdown",
      "source": [
        "### Conclusión :\n",
        "De aquí concluimos que el error del modelo $Arima(2,1,1)$ está distribuido\n",
        "normalmente. Sobre el modelo $ARIMA(0,1,1)$x$(1,1,1)_{52}$ concluimos que tenemos errores que son ruidos blancos. Sin embargo, la distribución de los residuos es aproximadamente simétrica, por lo que podría ser flexible y concluir que los residuos tienen una distribución normal."
      ],
      "metadata": {
        "id": "p9--bvN4otvI"
      }
    },
    {
      "cell_type": "markdown",
      "source": [
        "# Pronóstico"
      ],
      "metadata": {
        "id": "2Ua_TWA9o99t"
      }
    },
    {
      "cell_type": "code",
      "source": [
        "# Cálculo de Pronósticos con ambos modelos #\n",
        "cmort1.pred=predict(mod1, n.ahead = 51)\n",
        "cmort2.pred=predict(mod2, n.ahead = 51)"
      ],
      "metadata": {
        "id": "zRY9XcDIoKs_"
      },
      "execution_count": null,
      "outputs": []
    },
    {
      "cell_type": "code",
      "source": [
        "# Gráfico #\n",
        "plot(cmort_train,xlim=c(1970,1981),main=\"ARIMA011x111\")\n",
        "lines(cmort1.pred$pred,col=\"blue\")\n",
        "lines(cmort1.pred$pred+2*cmort1.pred$se,col=\"red\",lty=3)\n",
        "lines(cmort1.pred$pred-2*cmort1.pred$se,col=\"red\",lty=3)\n",
        "\n",
        "plot(cmort_train,xlim=c(1970,1981),main=\"ARIMA211\")\n",
        "lines(cmort2.pred$pred,col=\"blue\")\n",
        "lines(cmort2.pred$pred+2*cmort2.pred$se,col=\"red\",lty=3)\n",
        "lines(cmort2.pred$pred-2*cmort2.pred$se,col=\"red\",lty=3)"
      ],
      "metadata": {
        "id": "Kqzgu7BIoKqK"
      },
      "execution_count": null,
      "outputs": []
    },
    {
      "cell_type": "markdown",
      "source": [
        "### Conclusión :\n",
        "Evidentemente las predicciones del modelo $ARIMA(0,1,1)$x$(1,1,1)_{52}$\n",
        "son mejores y menos sesgadas. Los intervalos de predicción crecen con\n",
        "respecto al horizonte, sin embargo el modelo $ARIMA(0,1,1)$x$(1,1,1)_{52}$\n",
        "controla dicho fenómeno.\n",
        "\n",
        "Concluimos que el modelo $ARIMA(0,1,1)$x$(1,1,1)_{52}$ es adecuado para\n",
        "precedir la mortalidad cardiovascular semanal promedio en el condado\n",
        "de Los Ángeles."
      ],
      "metadata": {
        "id": "EtwMBBewpP5L"
      }
    },
    {
      "cell_type": "code",
      "source": [
        "# Intervalos de Predicción #\n",
        "pronostico=cmort1.pred$pred\n",
        "stdev=cmort1.pred$se\n",
        "liminft=pronostico-2*stdev\n",
        "limsupt=pronostico+2*stdev\n",
        "error = cmort_test-pronostico"
      ],
      "metadata": {
        "id": "bCNrWs9AoKnm"
      },
      "execution_count": null,
      "outputs": []
    },
    {
      "cell_type": "code",
      "source": [
        "# Listado de los pron?sticos e intervalos de predicción #\n",
        "pronosticos=cbind(cmort_test,pronostico,error, liminft, limsupt)\n",
        "pronosticos[1:10,]\n",
        "mean(error)"
      ],
      "metadata": {
        "id": "4bxsKaLaoKlG"
      },
      "execution_count": null,
      "outputs": []
    },
    {
      "cell_type": "markdown",
      "source": [
        "### Conclusión :\n",
        "\n",
        "La tabla de pronósticos muestra que las diferencias entre los valores\n",
        "predichos y los orginales es considerablemente pequeña, pues en media se\n",
        "comete un error de aproximadamente $2,74$."
      ],
      "metadata": {
        "id": "_fd7C1PCp7Bw"
      }
    },
    {
      "cell_type": "markdown",
      "source": [
        "## MAPE : Desempeño de los Pronónticos"
      ],
      "metadata": {
        "id": "VpyK7hrmqDZH"
      }
    },
    {
      "cell_type": "code",
      "source": [
        "library(MLmetrics)"
      ],
      "metadata": {
        "id": "kyh0xcIPHOGs"
      },
      "execution_count": null,
      "outputs": []
    },
    {
      "cell_type": "code",
      "source": [
        "# Cálculo del MAPE #\n",
        "mp = as.character(MAPE(pronostico,cmort_test)*100)\n",
        "paste(\"El MAPE para el Modelo 1 es :\",mp,\"%\")\n",
        "cmort_test = ts(cmort_test,start = c(1978, 42),frequency = 52 )\n",
        "plot(cmort_train,xlim=c(1970,1981),main=\"predicción vs real - ARIMA011x111\")\n",
        "lines(cmort1.pred$pred,col=\"blue\")\n",
        "lines(cmort_test,col=\"green\")\n",
        "lines(cmort1.pred$pred+2*cmort1.pred$se,col=\"red\",lty=5)\n",
        "lines(cmort1.pred$pred-2*cmort1.pred$se,col=\"red\",lty=5)"
      ],
      "metadata": {
        "id": "7bqVOuMDoKim"
      },
      "execution_count": null,
      "outputs": []
    },
    {
      "cell_type": "markdown",
      "source": [
        "### **Selección Final del Modelo:**\n",
        "\n",
        "La curva verde representa los valores reales del promedio de la mortalidad\n",
        "cardiovascular en los Angeles desde la semana $42$ del año $1978$ hasta la\n",
        "semana $40$ del año $1979$, mientras que la curva azul representa las\n",
        "predicciones realizadas por el modelo en ese mismo periodo de tiempo.\n",
        "\n",
        "El error porcentual absoluto medio (MAPE) indica que el error cometido por el modelo es del $0.06%$\n",
        "\n",
        "**Por lo que el modelo $ARIMA(0,1,1)$x$(1,1,1)_{52}$, tiene un buen ajuste.**"
      ],
      "metadata": {
        "id": "Gkd0Q9ZPq6y3"
      }
    }
  ]
}