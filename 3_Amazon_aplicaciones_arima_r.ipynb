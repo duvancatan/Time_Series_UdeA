{
  "nbformat": 4,
  "nbformat_minor": 0,
  "metadata": {
    "colab": {
      "provenance": [],
      "include_colab_link": true
    },
    "kernelspec": {
      "name": "ir",
      "display_name": "R"
    },
    "language_info": {
      "name": "R"
    }
  },
  "cells": [
    {
      "cell_type": "markdown",
      "metadata": {
        "id": "view-in-github",
        "colab_type": "text"
      },
      "source": [
        "<a href=\"https://colab.research.google.com/github/duvancatan/Time_Series_UdeA/blob/main/3_Amazon_aplicaciones_arima_r.ipynb\" target=\"_parent\"><img src=\"https://colab.research.google.com/assets/colab-badge.svg\" alt=\"Open In Colab\"/></a>"
      ]
    },
    {
      "cell_type": "markdown",
      "source": [
        "![amazon.jpeg](data:image/jpeg;base64,/9j/4AAQSkZJRgABAQAAAQABAAD/2wCEAAkGBxIQEBUPEhAQDxAVFRUVFRAVFRUVFRUXFRUWFxUVFRUYHSggGBolHRUVITEhJSkrLi4uFx8zODUtNygtLisBCgoKDg0OGhAQGislHSUtKy0tLTYtKystLS0tLS0rLS0tLy8tNystLS0tLS0tLS0tLTQtLS0tLS0tLS0rLS0tLf/AABEIALcBFAMBIgACEQEDEQH/xAAcAAABBQEBAQAAAAAAAAAAAAACAAEDBQYEBwj/xABAEAABAwEFBAYGBwkAAwAAAAABAAIDEQQFEiExBkFRYRMycYGRoSJSkrHB0QcUI0JigrIkMzRDcqLC4fBjs/H/xAAaAQACAwEBAAAAAAAAAAAAAAAAAQIEBQMG/8QAMREAAgEDAgMFBwQDAAAAAAAAAAECAwQRITEFElEyQZGh0TNhcYGx4fAGFCLBExVC/9oADAMBAAIRAxEAPwDlSKKiai3cGWChKkohITAAoaIyExCAAQlSEISExMAoSpCEJCkIjKZGQhogAUyIpqIECUxRUTIEAUJRkISEDAQlGQmTwGSMoSFIQmISGRlMjITUQABCFSEJqIAjomopKJBqAI0xUohJNAC7szXRHdrjqQ3zKq17yhQ9pNL6+G5Zo2tat2It/nXY4EmsJNACTyFVcR3ewa1cefyC6AAMgABwCxa/6hpR0pRb+Oi9TXo8CqPWpJLzZTx3c860b25nwC6Y7uYNau7ch4BdwzOEAl25oFSewDMrvs9x2iT+X0Y4vOHyFT4hZk+I31zpHRe7Tz+5oxsbK21lq/f6fYqmxtGQaB2AJLTR7KZelMa/hbl5lJcP2Vy9X9Tr+/tlovoV2FLCpKJiF7s8WREJqKQhNRAEZCEhSEJqJiyRUTUUhCYhAskRCYhS0TUTAhLUJCmwoSExERCEhTFqHCgCKiYhSEJiEARUTEKUhCQgRFRMQpaIcKYERCEhTEISEARUTUXTHZnu0ae3QeJXTHdh+84DkPmqNxxG2oe0ms9N34IuULG4rdiDx12XmVZCKOBzuqCf+4q6ZY2N+7Xmc1I4ga0AWJX/AFLHajDPvfovU16PAJb1Z4+HqVcd2O+8QOQzK6WWFjd2I88/LRWtmu2aXqRPI9YjC3tq6le6qtLNsq85yShv4WDEfadQeRWdO64jdd7S938V6l6NDh9t3Jvx+xnKU5ckUEL5DSNjpP6QSO86DvW1s9wWdn8vpDxf6Xkch3BWIbQUAAHBKnwpvWpLwCpxVLSnHxMZZ9mp35vLIhzOJ3g3LzVpZtmIW5vL5TzOFvg34kq+KAq/TsqMNo+OpQqXtapvLw0IILMyMUYxrBwaAPciKMhMQrRVeoCSeiSBGOolRHRNRbpmAYU1FJRNRMCItTFqlIQlqBYIiExClIQkJoREQmopCExCkIiomIUpCEhAiIhMQpSEJagCKiYhS4U2DvSbwNakOFNhXbHY3ndTtU7LA3eSezJZlxxmzoaSmm+i1+mhfocMua20cLq9CqwqRlke77tOZyVw2JrdABz/ANqaCzvk/dxvfzAy9o5eaxav6lqVHy21Px18l6mrT4HCC5q9Tw0836FSy7fWd3D5roZZmN0aO3U+a0Fn2bldm9zIhw67vAUHmVZWfZuFubscp/EaD2W0B76qnNcSu/azwum3kv7LUZ2Ft7OOX1383/RkAanCKud6rQXO9kZrvs9x2iT+X0Y4yHD/AGirvEBbSCBkYwsY1jeDQAPAI1KlwinHWbb8iFTitR9hJeZm7Nsq0ZySuf8AhYMA8TU+FFbWW7IYs2RNafWpV3tGp812lCVo0relT7EUihUuKlTtSbBKYoihou5xBKEhGmKAAKEoyhKiABCFGUxTGAUk6SAMjRNRSUSotzJlkdE1FJhTUTyBGWpqKSiaiYEVExClomogWCEhMWqWidsZOgqlKcYLMnhBGMpPCWWc9Exau1tjJ1IHmpW2Vo3V7VlXHHbSjopcz92vnsaNHhNzU3WF7/zJWNYToCVM2xuOtArSGFz8mNLv6QTTtporCC4ZXdbDGOZxHwGXmsqpxy8r6W9LC6vX0Rfjwq2pa1p5fTb7lCyxtGtSpWtAyAA5DUrUwbPxDrl8h7cI8Bn5qygszI8mMazsAFe071TnZXlzrcVfl9tEWY3VtQ0o0/n+amSguqd+kZaOL/RHgc/JWNn2a3yS9zB/k7XwWhT0Vilwm3p7rPxOFTiNeezx8Cvs9zwR5iNrj6zvTPdi07l3IqJloRhGCxFYRTlJyeW8jJkSZTIjJkSZIACmKJVe0F/2ewx9LaJRGDk1ur3ngxozPuG9AFimXlVu+mZodSGxOczc6SUNJ/K1pp4lW+y/0pWa1yNhmjNkkcaNcXB0ZO4F1AWk8xTmngDekISmkma3IuaO0gJBwOhB7M0gBTURFMUmAKEoimIQMApkSSAMqQmopcKai28mYR0SopA2uQzK6o7skOrcA4uy8tVGdWEFmTwShTlN4isnBRNRXLLqaOs4u5Ny81IyztGTWVdwALnfEhZ1XitKOkE5Mu0+HVJayaSKZlmc7Rp7dFILFxPcFei7ZXfdDBxcfgK+dF0xXI3773O5D0R8T5qlUvb6rpBKK8/z5FuFtaU+03J/n5uZvoGt3DtK64bDK/qxupxIwj+6le5aaCyRs6rGtPGmftHNTKo+HyqvNeo5HdXqgsUoJFDBcDj15A3k0VPtH5KwguiFv3MZ4v8AS8tPJd6Ss07OjT7MV9SvO6qz3kM0ACgyHAJJ0lZOAySSSAEkoLZbIoRilljhHF72s95QXZeUFpaXwTRztBoSxwdQ8DTRAHWkqzaO/YbBAbRMTQZNYOs9x0Y0ccj2AErwzaTbW2W5xBldDETlBE4tbT8RGbz25cgmo5Bs+ghK0nCC0nhUV8ES+VKUNRk4ZhwyIPGuq3OyP0l2izfY2h31iKnoSSEl7ORdq5vbUhNwFk9xK8i+kH6RLZZrZLY7P0cLI8I6TCHyEuY1xPpeiOtSlNy1tm2zLgCYmEHg4j5rxv6QLV015WiUDDiczKtaUiYNe5NQfeLmTOm6dubay1xzy2ydzMTekaTVhjxDGBH1a0roKqp2qv6S32p9pkJzNGM3RsB9Fg+PEklVRVjdV0mYY3HBGDSu8nl803hDRVFJd972EQuGEktIyJ1qNR7lwKIzc7N3y6SKj3Fz2mhJzJG4k+XctBFNvBp2Lz/Zp9HOHIHwJ+a2VjdULpBnOSNfcV/PY4MkcXxk0qTUt5g8OS2a8ujK9GuibpII36ktFe0ZH3KNWONRwZ1oSiQlcSYKSdJAHBHcEmry2McCanwHzXRFdMTdcUh9keAz81oxYm6ucXchkPn5qZuFvVaG89/jqnOtXn34XuJRp0Yd2SkhsTwKMjDBxADfM6qRt2n7zwOQz8zSnmrOSSqiJXH9vFvMtWdf88sYjoc4sEY1Bd/UcvZGXkpWtAFAABwAoEVUJK7Rilsji5N7sRQEokJUhDJKgvPbCyWeTo3Pc9wNHYG4g3jU6eFVaXZecNpZ0kMjZGg0NMiDStHA5g570YYjrUNrtkULcUskcTfWe4NHmqHbXaYWGMNZR1okBwA6NG97h7hv7ivHrwtskzzJK90jz95xqewcByCnGGROWD3mwXvZ5zhhnhlcNWse1x8AartXzcJC1wc0lrgahwNCDxBGi2mzu3Frkj9KYucxxYataa4dCcuFEOGAUjv2q+kieC0S2aCKJojeWdI/E8ktyJDQQBnXisXeO2dvmrjtcrR6sZEQ/sAPiV1Wu4J7VaXyh0TWyyueXucQG43kmoDScq8FBtds427zHEZxNM9pc5rW0DGg0BqTU1OLd91S0WgstmbleXOxOJc4/eJqfE5rV/Rvfj7IbUWBvp9CKuBPUEmmf4lkZnUGWZOQHEnRX1kg+rwU+9QuJ4up/wAO5Rl0Guo22O0E1tm+0fiZHVrGgAAV6xoN5IGfABV9w3U+1zFjXiJkbDLJMRiwNFAKDe4uLQBzXHIaZrQ7JyhtmmLdZJmh39MTKtHeZCfyhObwsIIlffl2Mia0sLnbnF1MydDlpocuaopAtjfEVbLI/eCynttB96yLk1sBqNmLcTBhrnG7COzVvy7lRbSOxWqQ8S39DV17Lmj5BxDD4Ej4rj2gbS0P/J5xsKUX3BgqnLX2VmGJjBuaPE5nzWReMltbHDVjXEjOlBv7+CUtx9xW7URYYWf1/wCJWXW120Z+zsP/AJR+h/yWObGShoFsWuzArI4fgr/cPmthYBl3rIbLtpOR/wCM/qatndw17UQFI742rd7LOrZmjgXDzr8Vio1sdkXVhcODz5tapVNhR3LopkRQlcCYKSeiSALwvQOchqhTAclcVvvWGD948NOuHMupxoM0N82/oITJ97Ro/Ef+J7l5labw6ed8eJz5GtxyOqKNFMgXE9Y7mipoNFJLqRbPTbvvmCc4Y5WudQnAatdQanCcyFX7SX+bKWsawOc4E1NaAVoMhroV5HtBOY+hkaS1wnYARkaEODh3iqtm2ouY0kkmm88ypKOos6FveO09pljDHmOOpJPRFwq0n0A6pqDSlQN55KsZfloiLsE7gwxuYYzVwLnEUc2vUcBizH/ynsU75QZ3Etic97Im4esI6YpC/fUkig0ouG/3Pc1sMYcXyyBgDetQ1rT/ALemsconnIUxzqDlxUN13i6K0vZiIY+NrnNqaFzXENJHY4prGwNYGgUA0CC77CZJLRMCAIRC0jeekcaU8CnKX8UwitTtve04pHVfjDcganRvAHOmp7123ZdIgscVsl/ibSXuDXDNkQq0NGeQcCDpnUd52S3iAE0q4igHxJ4Livm+5bRh6VzQGgMY0UaBoKV1JNAiUXLAJpFTOMzTifeurZ2FzYTJ9188oH5BHX9fkuV4XbcNrxWWOLDTC+V2LiZHN8KYQlPdDiau7ZQyFz3GjRUk8gKlYi+bxfapnTyGrnUy4NaA1rR2ABXF9W6kQgbvNXdg6o7yK9yzvQPkeyGMVllcGMHNxpU8ANa7lNvCyRS1LbZKxVL7a7qx1ih5yuHpvH9DT4vYdy6b1ZSF5poGjsq9vwqrO1YImMs0RrFE3A0+sa1fIebnEnsIG5c9+NpZHCnqE+0B8VygsvLJvRYMY4K62UjrC6m+V1PBqzFpttcm5cStfsG0Os76kCkjjmQNWs/2iUk2NI77+jDbDIBnmyp59IzRYUhbXaScCyFu98jWjuOM+TfMLGFtVMiiy2XbWSQ8GtHif9Llv3+If+T/ANbQrrZeyFsD5z/MeWt5tjGo73EflVJfX79/aP0hQi9STKyQZLYWI/Zs7G+5ZCTQrXWD9zGfwt9yb3DuJNrx+zsGv2rf0SLHvJC2G2H8M08JG/peFjuk705IUXoWGzDv2j8jvh8lsrCcz3fFYrZ80tLOYcP7SfgtrYT6R7ko7gyzjctdsa/0JBzafEH5LIsC1GxhzlHJh/UpT7Io7mnKYp0JVYmMUkkkxlsmqkUykIr75usWlrWl5YGknIAg9qxFrsMNjhls0U5nfLOZpn0HABsYIyoKcTvVxtve+H7AOwtAxSHzDeymfgsZZonvsrbbI7omyuIs8AHpOYDQyyOOlaZAcRmVNJaZIt9DgeGPttkjkw4OldIcVKUiYXZ1RzyYIa+qwnwbVVFvq+2MABPRxPeaAmgJwk9i6b/eWwP5scPEU+Kku02LuRZRQiOw2Fg3WcyHtmkc5ct3PreVj0o0zvP5IXOHuK7b9HR/V4a5sgssXeI6n3qtsUTTbDiAd0dkneKitHO9Bp7alQXsx/8AZE9gAAHAKbZ9gFmtknr2iCPujZI4+9KVmZoEN11F2ycX26YjmGRxj/MqUtkhLds5bznFHy4Q0ZkNGgA0aK+CuLDZWWSyseQHW2eMSySkVMMb21jijB6hIoSdc1Q3hGXwOYOsRl3Z0Xfbby6XE5wc0vDQ1tR6IAAo7iaNpTv4JzTbS7gi0k2U7xQLpuKAx2eJxIo9j5BTc0SSNNef2Z8kJbXcue75jhkhrVkZo07gHOxFvcS7xRPdCjswp5S5xcd//BDZpzFJ0rDhkDXMDqA0DgQ6ldCQSKjOhQWhwbqRU6Deewb0D4JHtNGOFRkTQeIKJSS3HFN7EA2ilZJUhsjQdCKHxC112W6G2wSNcXQ1je0ZYqSYax6bqkHuXn9pu6WPNzCB62o8Qr7ZOuBw/H7gFzUibiZdwoaEUO8cFdbNXu2zl7X1wOANRnRzeXMH3Ls2guF5JnibiBzewag73Abwf+5ZkimRFDwKjsxl1eV6G0yDDVsbK4QdanUnnkPBQxQvke2KJpdK9waxo1LjkOxKzRehVrHOJpkAde1XF0WExnpXH7WhApowEUIB4kGh7VPm0Fg014Rshjjs0ZDmQsEYeNHuBc6R45F7nnsosRfrMNoeOGH9DStvY7MSGuPcFy27ZN1onxseAXlowYSTUANyz5BSisIi3qefyaFbC7m/s8f9Lf0rVM+iKPLHapKnUMY2g45lUwu8xt6ENdRhwjFrRuWfNR5svQljCOHa4fsnY9h94+Kwy9Y+rhzcD2tc06tcKg9xXfstcVm+st/Z4uq7VoO7muktskIs8muP+Ij7XfpK29jPpHsXpG0FwiWAxwsijdVpFGhuhzFQFjjs3PCauieeYGIf21XODyyUgIitPsc77R4/APIj5qkguqY6QyeyfitFszdssT3Pe3AC2gqRUmoOg7F0ljlIrc0aYp0JVfBMZJJJMC1qkCoHT50UoQB5Ttm4yi1BoJe7pGtHHVoHgKKO2WvHHBGGlrY4IYww5kYY2gg031qtBfdyTNmeWwvlY5xcHNAd1jWhGoIrRYW/7FahKelbJZmgDo465mpBxuLcq5af7UuZZyRUWVVnvPBbJKD97G6z09UB8b6kc8JHeoNqLUXuMINOqKf1OC7rt2ftMjjaHtJkd1cszTQNGW4VqrK69hJbVIx75i01aTQCrWsOVXV14dyM7jxsc+3F4t+tBzHBzeloKZghkbWZeKGwEfWbQ8Go+qxs732iN1PBrl23vcHT2l3TNew9LI7Who91css8gFqIthmfVg+zgtle5pkLiXFzGYw0AEgDUHml3D0yZMSUNarmu4uNgs9aUe60SDWvpSYTi9hbu59jy14MsQkGJpJe0UABzyJKt772QZM5r2UY1jcIibRjQMRPo0GXW0UpPVEY955eLJlUu10HFVV6QveRG1rox955yoPwg6kr2+5rhdA5nVDGVoKknMH5qe/NnbPaqOkZ6YFBIMnU4HiEpTY4xR4bJBLIBFCyrnZdJXqje4rsFyuiAgaDycBqSet2r1Gy7HhmTXtDeTM+/NWkl1iKIsij6RzsnOOGtNcq5a0XKrU5I82rx0OlOHNLl2yeY2PZXBH6IxSnN0z9TyB3DkF1w7NUFXFrjwqae5bplyyOHpFjBw1Pll5qrtzWseY2v6QjrHDQA8K1zKwLi8vVmfIox8X9f6NmhbWrxDmyymujZ8TyOi6SOMtAcWgEuLTlUDIEbtVpIdirMBQ9ITxBa33BYa8bZIy2OMb3MpE1ri0lpzOKlR3LqsN7Tg1E8oPNxI8DkVsWdSdalGUt2Z13SjSqOMdjU2vYlmsMhH4X5j2hp4Fdtw3CIo3Nmjie4vJFQHUFANSOSDZu+5JnGOQNJDahwFDkQMxpvWhqrUs7MqLqZy9tjLPaDjFYX7ywDCe1unhRUjthHxmrcMvOtD4HLzXoASLkk8DepirNstMaAhrBxJB8hVaS67mjgFR6T97z7gNysgUk3NsSikRlq5rTYIpOvGx/MgV8dV1lMojKtlxWZv8AJHeXH3ldUFjjj6kbGcwAD4rpKEp5YsEZCaiMoSgYBTIihQIYoSiKAlMBJIapkDJxICaldTJ1VAqWN+aiPBbNeCoLVZWSCjmg89COwoonAhPIRRAjOXvYDE9k0LsL2AgBxJY8HrRvG6uocMxzFQQdf8cbgRFhxD7QCgeHDiB1hzrmri0RB7S06Hf8VjbzspY/BIK72u4ji0rLr16lrU5mswfkzTt6MLmHKnia80bSCVrwHtIcDo4LsicsDddtfAfRdVp1Y7Q940POi19gvFkgqDhPqkiv+1bpXdGp2ZepWrWtWl2o+haAJ6IGDvTmvBWclXAajehfO1vWc0dpC5Jr2jbpV55ZeZXCrc0qfbkkdqdCpPsxZ2NCC02lkQ9N2fqjMnuVHaL7e7JtIxy18VSXlerY8s5JXaRg+kebieqOZWVV4upPkoRyzRpcNa/lVeEWl8bQua0lp6MaNAoXOceqBxPJctugLYoTI0NtD2l0tMs65VboDnnTfVVVivBkR+sPHTWqno1yigruY3VzuLj3c4b7vKR0WJzi6WQYW7qYuA3UB8VxqwrKlipLMptL3ItUZUnUXIsRjl58gtkjZJDPNaMGOSWkeOuHo2ANbnprXXgua92MbapQxoawOADQKAUaAad9Vz3dcrn1a0lkUbavkNS0UFTQcTwUsEeLM6nM9pXoLamoJR6IxLmpzycupotioqyPfuDAPaNf8SteqjZexiODFvea9wyHxPercLpN6nBbDhJNVNVRGEE5KEFMSgByUkFUTSgBFCU5QpgJCU5QkoAYoCkShJSAcoCnJQkoAYpkqpIAiCkaVE1SBAzoZLRE6WooucIwgAwVHbLKyVuF4y3Eag8QUYRAqE4KSxJaE4zcWpRepk7ddMkOdMbPXA/UNyCzvHFbBclou2J+ZYAeIyPlqsO54PnWm/kzYo8V0xVXzRUxSEDInxTutXEkprfdU7M4CyQeo+od3OGR76LM3hb7XHk+ziPmQ4juNaFUv9bd7L6nf97bPVvyNS2YLkt14Rxj03hvAauPY0ZlYyW87Q7LGWjg2jfMZ+a5o4nVrv3nee0qxT4LUl7SXgcp8SprsIv7Te7n5M+yb65oXnsbo3vr2LhbIG1w1qdXE1c7m52pQWWxPkNGtc88Ggn3LQXfsnO/N9Im/izPsj40W1b2NKgv4r1M2teTq7spWCuua0l17OvneJpaxx/dbSjqcgdO0rQXXs/DBR1Okf67s6dg0HvVsu0qUJSUsarY4qtNRcU9HuZ3aTDDZeiY0NDyGADhq4ntAp3rP3RYTLI2Mb8yeDRqV6A+MOGFwDgdQRUeBUNksMcVcDAzFrr8dByXaMuVHGSydDGgANAoAAAOAGidMkogJMnTIASZIpkAIlNVIpkAOShJSKZAD1TOTApymBGUBRuQJAMUJTlCUAMnQlOgCJqlCSSBhBEEkkkMIIgkkmA9USSSQCT0SSSA55Lvid1ooncyxp+CeO7oW6QxA8mNHwSSQB0tbTIZDgionSTBjp0kkxZEnSSSEMkkkgMjJJJJgMmTpIAZCkkgYxQpJJCGSqkkgQBQlJJMYJQlJJAAlJJJAj//2Q==)\n",
        "\n",
        "# **PRONÓSTICO DE VENTAS DE AMAZON**\n",
        " Los siguientes datos representan las ventas promedio diarias de un artefacto electrónico de Amazon. Se tienen 150 datos disponibles. El gerente de ventas está interesado en conocer cuánto serán las ventas diarias en la próxima semana dada la información disponible."
      ],
      "metadata": {
        "id": "pep8IsLHqguC"
      }
    },
    {
      "cell_type": "code",
      "source": [
        "# Instalar Librerías #\n",
        "# Se sugiere cargar previo a la presentación, es demorado #\n",
        "install.packages(\"stats\")\n",
        "install.packages(\"astsa\")\n",
        "install.packages(\"forecast\")\n",
        "install.packages(\"tseries\")\n",
        "install.packages(\"nortest\")\n",
        "install.packages(\"fBasics\")\n",
        "install.packages(\"car\")\n",
        "install.packages(\"MLmetrics\")"
      ],
      "metadata": {
        "id": "KDnlLsjvItEt",
        "collapsed": true
      },
      "execution_count": null,
      "outputs": []
    },
    {
      "cell_type": "code",
      "source": [
        "# Cargar Librerías #\n",
        "library(stats)\n",
        "library(astsa)\n",
        "library(forecast)\n",
        "library(tseries)\n",
        "library(nortest)\n",
        "library(fBasics)\n",
        "library(car)\n",
        "library(MLmetrics)"
      ],
      "metadata": {
        "id": "-xz7cPXgIs7Z",
        "collapsed": true
      },
      "execution_count": null,
      "outputs": []
    },
    {
      "cell_type": "code",
      "source": [
        "# Carga de datos #\n",
        "sales = c(10.01 ,10.07 ,10.32\t,9.75\t,10.33 ,10.13\t,10.36\t,10.32\t,10.13\t,10.16\t,10.58\t,10.62\t,10.86\t,11.2,\n",
        "          10.74 ,10.56\t,10.48\t,10.77\t,11.33\t,10.96\t,11.16\t,11.7\t,11.39\t,11.42\t,11.94\t,11.24\t,11.59\t,10.96,\n",
        "          11.4\t,11.02\t,11.01\t,11.23\t,11.33\t,10.83\t,10.84\t,11.14\t,10.38\t,10.9\t,11.05\t,11.11\t,11.01\t,11.22,\n",
        "          11.21 ,11.91\t,11.69\t,10.93\t,10.99\t,11.01\t,10.84\t,10.76\t,10.77\t,10.88\t,10.49\t,10.5\t,11\t,10.98,\n",
        "          10.61 ,10.48\t,10.53\t,11.07\t,10.61\t,10.86\t,10.34\t,10.78\t,10.8\t,10.33\t,10.44\t,10.5\t,10.75\t,10.4\t,10.4,\n",
        "          10.34 ,10.55\t,10.46\t,10.82\t,10.91\t,10.87\t,10.67\t,11.11\t,10.88\t,11.28\t,11.27\t,11.44\t,11.52\t,12.1,\n",
        "          11.83 ,12.62, 12.41\t,12.43\t,12.73\t,13.01\t,12.74\t,12.73\t,12.76\t,12.92\t,12.64\t,12.79\t,13.05\t,12.69,\n",
        "          13.01 ,12.9\t,13.12, 12.47\t,12.47 ,12.94\t,13.1\t,12.91 ,13.39\t,13.13\t,13.34\t,13.34\t,13.14\t,13.49\t,13.87,\n",
        "          13.39 ,13.59\t,13.27, 13.7\t,13.2\t,13.32\t,13.15\t,13.3\t,12.94\t,13.29\t,13.26\t,13.08\t,13.24\t,13.31\t,13.52,\n",
        "          13.02 ,13.25\t,13.12\t,13.26, 13.11\t,13.3\t,13.06\t,13.32\t,13.1\t,13.27\t,13.64\t,13.58\t,13.87\t,13.53\t,13.41,\n",
        "          13.25 ,13.5\t,13.58\t,13.51\t,13.77\t,13.4\t)"
      ],
      "metadata": {
        "id": "Tekrq-iMqfqi"
      },
      "execution_count": null,
      "outputs": []
    },
    {
      "cell_type": "code",
      "source": [
        "# Cantidad de Observaciones #\n",
        "paste(\"Número de promedios diarios:\",length(sales))"
      ],
      "metadata": {
        "id": "JHfdpaUXczJc"
      },
      "execution_count": null,
      "outputs": []
    },
    {
      "cell_type": "code",
      "source": [
        "# Gráfica de la Serie de Ventas Mensuales #\n",
        "plot.ts(sales, main = \"Serie de Promedios Diarios \", ylab=\"\"); grid()"
      ],
      "metadata": {
        "id": "UYiRCrwG_Zhh"
      },
      "execution_count": null,
      "outputs": []
    },
    {
      "cell_type": "markdown",
      "source": [
        "## Homogeneidad de Varianzas\n"
      ],
      "metadata": {
        "id": "rYPZf1MStX8H"
      }
    },
    {
      "cell_type": "markdown",
      "source": [
        "## Prueba de Levene\n",
        "La prueba de Levene evalúa la igualdad de varianzas para diferentes grupos. Si divides tu serie temporal en segmentos, puedes usar esta prueba.\n",
        "\n",
        "$H_0:$ Las varianzas de los grupos son iguales $\\hspace{0.4cm}$ $vs$ $\\hspace{0.4cm}$ $H_1:$ Al menos un grupo tiene una varianza diferente\n",
        "\n",
        "\n",
        "Si el valor p resultante es menor que el nivel de significancia (por ejemplo, 0.05), se rechaza $H_0$, indicando que las varianzas no son homogéneas."
      ],
      "metadata": {
        "id": "FwKEZd1N7RBZ"
      }
    },
    {
      "cell_type": "code",
      "source": [
        "# División la serie en Ventanas #\n",
        "segmentos <- cut(1:length(sales), breaks = 10)\n",
        "\n",
        "# Prueba de Levene\n",
        "pl = leveneTest(sales ~ segmentos)\n",
        "print(pl)"
      ],
      "metadata": {
        "id": "myt1HNHd7UH1"
      },
      "execution_count": null,
      "outputs": []
    },
    {
      "cell_type": "markdown",
      "source": [
        "## Gráficos de Box-Plot Dinámicos"
      ],
      "metadata": {
        "id": "xO-WB2mD9RsW"
      }
    },
    {
      "cell_type": "code",
      "source": [
        "# Estructuración de los datos con fechas #\n",
        "fechas <- seq(as.Date(\"2024-01-01\"), as.Date(\"2024-05-29\"), by = \"day\")\n",
        "datos <- data.frame(Fecha = fechas, Valor = sales)"
      ],
      "metadata": {
        "id": "_96lXGnd9ZtB"
      },
      "execution_count": null,
      "outputs": []
    },
    {
      "cell_type": "code",
      "source": [
        "# Número de días por ventana\n",
        "tamaño_ventana <- 10"
      ],
      "metadata": {
        "id": "lTnLVv1hAGyo"
      },
      "execution_count": null,
      "outputs": []
    },
    {
      "cell_type": "code",
      "source": [
        "# Librería necesaria para realizar los Box-Plot #\n",
        "install.packages(\"dplyr\")\n",
        "library(dplyr)"
      ],
      "metadata": {
        "collapsed": true,
        "id": "q6bCXyDtA3O0"
      },
      "execution_count": null,
      "outputs": []
    },
    {
      "cell_type": "code",
      "source": [
        "# Crear una columna que indique el número de la ventana\n",
        "datos <- datos %>%\n",
        "  mutate(Ventana = ceiling(as.numeric(Fecha - min(Fecha) + 1) / tamaño_ventana))"
      ],
      "metadata": {
        "id": "3P8t0lysAG1k"
      },
      "execution_count": null,
      "outputs": []
    },
    {
      "cell_type": "code",
      "source": [
        "library(ggplot2)"
      ],
      "metadata": {
        "id": "vu1A0-KuBOCS"
      },
      "execution_count": null,
      "outputs": []
    },
    {
      "cell_type": "code",
      "source": [
        "# Crear el boxplot por ventanas\n",
        "ggplot(datos, aes(x = as.factor(Ventana), y = Valor)) +\n",
        "  geom_boxplot(fill = \"skyblue\", color = \"darkblue\") +\n",
        "  labs(\n",
        "    title = \"Boxplot por Ventana de Ventas en AMAZON\",\n",
        "    x = \"Ventana\",\n",
        "    y = \"Sales\"\n",
        "  ) +\n",
        "  theme_minimal()"
      ],
      "metadata": {
        "id": "mcE4Sp2qAIIL"
      },
      "execution_count": null,
      "outputs": []
    },
    {
      "cell_type": "markdown",
      "source": [
        "## Prueba de Estacionaridad\n",
        "\n",
        "La prueba de Dickey-Fuller es una prueba de raíz unitaria que se utiliza comúnmente para determinar si una serie de tiempo es estacionaria o no.                                                          \n",
        "$H_0$ : No Estacionaria $\\hspace{0.4cm}$ $vs$  $\\hspace{0.4cm}$ $H_a$ : Estacionaria"
      ],
      "metadata": {
        "id": "IEwAM0kHvsTQ"
      }
    },
    {
      "cell_type": "code",
      "source": [
        "# Aplicar la prueba de Dickey-Fuller #\n",
        "adf.test(sales)"
      ],
      "metadata": {
        "id": "x4xd1F1xv0SS"
      },
      "execution_count": null,
      "outputs": []
    },
    {
      "cell_type": "markdown",
      "source": [
        "## Funciones de Autocorrelación y Autocorrelación Parcial"
      ],
      "metadata": {
        "id": "TYRQSKlWvqs9"
      }
    },
    {
      "cell_type": "code",
      "source": [
        "# Gráfica de la ACF y PACF #\n",
        "par(mfrow=c(2,1))\n",
        "acf(sales, main=\"Función de Autocorrelación\")\n",
        "pacf(sales, main=\"Función de Autocorrelación Parcial\", lag.max = 30)"
      ],
      "metadata": {
        "id": "R2WwxBnV_ZfB"
      },
      "execution_count": null,
      "outputs": []
    },
    {
      "cell_type": "code",
      "source": [
        "# Primera diferencia de ventas #\n",
        "dsales<-diff(sales)\n",
        "ts.plot(dsales, ylab=\"\", main = \"Serie de Ventas Diferenciada\"); grid()"
      ],
      "metadata": {
        "id": "c8BJaximIpVi"
      },
      "execution_count": null,
      "outputs": []
    },
    {
      "cell_type": "code",
      "source": [
        "# Gráfica de la ACF y PACF de la serie diferenciada #\n",
        "par(mfrow=c(2,1))\n",
        "acf(dsales, lag.max=25, main=\"ACF de Serie Diferenciada\")\n",
        "pacf(dsales, lag.max=25, main=\"PACF de Serie Diferenciada\")"
      ],
      "metadata": {
        "id": "8vRpyEmPqvjj"
      },
      "execution_count": null,
      "outputs": []
    },
    {
      "cell_type": "markdown",
      "source": [
        "## Búsqueda y selección del mejor modelo con la función ARIMA"
      ],
      "metadata": {
        "id": "3NdNUtsIuKb-"
      }
    },
    {
      "cell_type": "code",
      "source": [
        "# Función que busca el mejor modelo según los criterios AIC Y BIC ##\n",
        "sarima.list = function(datos, p, d = 0, q, P = 0, D = 0, Q = 0, S = NA, include.mean = F, criterio = \"\"){\n",
        "  M <- matrix(ncol = 10,nrow = (p+1)*(q+1)*(P+1)*(Q+1),dimnames=list(NULL,c(\"p\",\"d\",\"q\",\"P\",\"D\",\"Q\",\"S\",\"converge\",\"AIC\", \"BIC\")))\n",
        "  k <- 1\n",
        "  n <- length(datos)\n",
        "  for(i in 0:p){\n",
        "    for(j in 0:q){\n",
        "      for(l in 0:P){\n",
        "        for(m in 0:Q){\n",
        "          if ((i==0)&&(j==0)&&(l==0)&&(m==0)) next #Continua con la siguiente iteracion\n",
        "          fit <- arima(datos, order = c(i, d, j),seasonal = list(order = c(l, D, m), period = S), include.mean = include.mean)\n",
        "          M[k,1]  <- i\n",
        "          M[k,2]  <- d\n",
        "          M[k,3]  <- j\n",
        "          M[k,4]  <- l\n",
        "          M[k,5]  <- D\n",
        "          M[k,6]  <- m\n",
        "          M[k,7]  <- S\n",
        "          M[k,8]  <- fit$code  # 0: Convergencia, 1: No Convergencia\n",
        "          M[k,9]  <- AIC(fit)  # AIC\n",
        "          M[k,10] <- AIC(fit, k = log(length(datos)))  # BIC\n",
        "          k <- k+1\n",
        "        }\n",
        "      }\n",
        "    }\n",
        "  }\n",
        "  if(criterio == \"AIC\"){\n",
        "    M <- M[order(M[,9]),]\n",
        "  }\n",
        "  if(criterio == \"BIC\"){\n",
        "    M <- M[order(M[,10]),]\n",
        "  }\n",
        "  if(criterio == \"\"){\n",
        "    M <- M\n",
        "  }\n",
        "  rownames(M) = rep(\"\", (p+1)*(q+1)*(P+1)*(Q+1))\n",
        "  return(M[1:((p+1)*(q+1)*(P+1)*(Q+1)-1),])\n",
        "}"
      ],
      "metadata": {
        "id": "tUsB8Bg5rq3P"
      },
      "execution_count": null,
      "outputs": []
    },
    {
      "cell_type": "code",
      "source": [
        "# Aplicación de la función a la serie original \"sales\" #\n",
        "sarima.list(sales, p=3, d=1, q=3, P = 0, D = 0, Q = 0, S = NA, include.mean = F, criterio = \"\")"
      ],
      "metadata": {
        "id": "ZiHpKC9gtVCn"
      },
      "execution_count": null,
      "outputs": []
    },
    {
      "cell_type": "markdown",
      "source": [
        "## Búsqueda y selección del mejor modelo con la función SARIMA() (No corre en COLAB, correr en R-Studio directamente)"
      ],
      "metadata": {
        "id": "97WB98CglmxG"
      }
    },
    {
      "cell_type": "code",
      "source": [
        "# Función para calcular todos los criterios para órdenes menores o iguales a los especificados\n",
        "criterios_para_todos_los_ordenes <- function(serie, max_ordenes, S) {\n",
        "  # Verificar si el paquete 'astsa' está instalado\n",
        "  if (!requireNamespace(\"astsa\", quietly = TRUE)) {\n",
        "    install.packages(\"astsa\")\n",
        "  }\n",
        "  library(astsa)\n",
        "\n",
        "  # Desempaquetar los órdenes máximos\n",
        "  max_p <- max_ordenes[1]\n",
        "  max_d <- max_ordenes[2]\n",
        "  max_q <- max_ordenes[3]\n",
        "  max_P <- max_ordenes[4]\n",
        "  max_D <- max_ordenes[5]\n",
        "  max_Q <- max_ordenes[6]\n",
        "\n",
        "  # Crear lista para almacenar resultados\n",
        "  resultados <- data.frame() # Initialize as an empty data frame instead of a list\n",
        "\n",
        "  # Iterar sobre todas las combinaciones de órdenes\n",
        "  for (p in 0:max_p) {\n",
        "    for (d in 0:max_d) {\n",
        "      for (q in 0:max_q) {\n",
        "        for (P in 0:max_P) {\n",
        "          for (D in 0:max_D) {\n",
        "            for (Q in 0:max_Q) {\n",
        "              # Intentar ajustar el modelo SARIMA\n",
        "              modelo <- tryCatch(\n",
        "                {\n",
        "                  sarima(serie, p, d, q, P, D, Q, S, details = FALSE)\n",
        "                },\n",
        "                error = function(e) NULL  # Manejar errores (por ejemplo, combinaciones no válidas)\n",
        "              )\n",
        "\n",
        "              # Si el modelo se ajustó correctamente, guardar los criterios\n",
        "              if (!is.null(modelo)) {\n",
        "                # Append a row to the data frame instead of using rbind\n",
        "                resultados <- rbind(\n",
        "                  resultados,\n",
        "                  data.frame(\n",
        "                    p = p, d = d, q = q, P = P, D = D, Q = Q,\n",
        "                    AIC = modelo$AIC,\n",
        "                    AICc = modelo$AICc,\n",
        "                    BIC = modelo$BIC\n",
        "                  )\n",
        "                )\n",
        "              }\n",
        "            }\n",
        "          }\n",
        "        }\n",
        "      }\n",
        "    }\n",
        "  }\n",
        "resultados\n",
        "}"
      ],
      "metadata": {
        "id": "uz0R46IOln0z"
      },
      "execution_count": null,
      "outputs": []
    },
    {
      "cell_type": "markdown",
      "source": [
        "### Vector de órdenes máximos $p, d, q, P, D, Q$"
      ],
      "metadata": {
        "id": "4hBEpJjTmEOs"
      }
    },
    {
      "cell_type": "code",
      "source": [
        "# Vector de órdenes máximos #\n",
        "max_ordenes <- c(2, 1, 2, 0, 0, 0)"
      ],
      "metadata": {
        "id": "HloffC_hl7ih"
      },
      "execution_count": null,
      "outputs": []
    },
    {
      "cell_type": "code",
      "source": [
        "# Calcular todos los criterios para los órdenes menores o iguales\n",
        "criterios_para_todos_los_ordenes(sales, max_ordenes,S=0)"
      ],
      "metadata": {
        "collapsed": true,
        "id": "nwsPq-3ImOcR"
      },
      "execution_count": null,
      "outputs": []
    },
    {
      "cell_type": "markdown",
      "source": [
        "## Estimación de parámetros para un ARIMA(0,1,1)"
      ],
      "metadata": {
        "id": "l7Ey9rQBuikp"
      }
    },
    {
      "cell_type": "markdown",
      "source": [
        "### Usando la función arima()"
      ],
      "metadata": {
        "id": "pjfcNWnl1CNV"
      }
    },
    {
      "cell_type": "code",
      "source": [
        "# Estimación ML condicional #\n",
        "(mod_1 = arima(sales, c(0, 1, 1), method = c(\"CSS\")))\n",
        " res_1 = residuals(mod_1)"
      ],
      "metadata": {
        "id": "Vdg8yzpGvVqt"
      },
      "execution_count": null,
      "outputs": []
    },
    {
      "cell_type": "code",
      "source": [
        "# Estimación ML exacta #\n",
        "(mod_2 = arima(sales, c(0, 1, 1), method = c(\"ML\")))\n",
        " res_2 = residuals(mod_2)"
      ],
      "metadata": {
        "id": "BEOrL-pJ1M-e"
      },
      "execution_count": null,
      "outputs": []
    },
    {
      "cell_type": "code",
      "source": [
        "# Estimación ML exacta con valores iniciales dados por la estimación condicional #\n",
        "(mod_3=arima(sales, c(0, 1, 1), method = c(\"CSS-ML\")))\n",
        " res_3=residuals(mod_3)"
      ],
      "metadata": {
        "id": "Xtelii0a1M7y"
      },
      "execution_count": null,
      "outputs": []
    },
    {
      "cell_type": "markdown",
      "source": [
        "### Usando la función sarima()"
      ],
      "metadata": {
        "id": "6WD0_sQE13C0"
      }
    },
    {
      "cell_type": "code",
      "source": [
        "mod_sar <- sarima(sales, p=0, d=1, q=1)"
      ],
      "metadata": {
        "id": "icLQrd1d17IZ"
      },
      "execution_count": null,
      "outputs": []
    },
    {
      "cell_type": "code",
      "source": [
        "names(mod_sar) # Valores del Objeto sarima()"
      ],
      "metadata": {
        "id": "zeoNxDSA2IeM"
      },
      "execution_count": null,
      "outputs": []
    },
    {
      "cell_type": "code",
      "source": [
        "print(mod_sar$ttable) # Significancia de los parámetros estimados"
      ],
      "metadata": {
        "id": "sBneXHwy2IZD"
      },
      "execution_count": null,
      "outputs": []
    },
    {
      "cell_type": "code",
      "source": [
        "mod_sar$fit # Valores Estimados"
      ],
      "metadata": {
        "id": "sQ1k33L_2IWA"
      },
      "execution_count": null,
      "outputs": []
    },
    {
      "cell_type": "code",
      "source": [
        "mod_sar$ICs # Todos los Criterios de Información"
      ],
      "metadata": {
        "id": "7R3uwqX82IRm"
      },
      "execution_count": null,
      "outputs": []
    },
    {
      "cell_type": "code",
      "source": [
        "mod_sar$ICs[1] # Criterio de Información Akaike"
      ],
      "metadata": {
        "id": "6m_RjsL-5D_Q"
      },
      "execution_count": null,
      "outputs": []
    },
    {
      "cell_type": "code",
      "source": [
        "mod_sar$ICs[2] # Criterio de Información Akaike Corregido"
      ],
      "metadata": {
        "id": "6TxMdivU2IPC"
      },
      "execution_count": null,
      "outputs": []
    },
    {
      "cell_type": "code",
      "source": [
        "mod_sar$ICs[3] # Criterio de Información de Schwarz Bayesiano"
      ],
      "metadata": {
        "id": "s2dDyMnl2IMP"
      },
      "execution_count": null,
      "outputs": []
    },
    {
      "cell_type": "code",
      "source": [
        "res_sar <- mod_sar$fit$residuals # Residuales"
      ],
      "metadata": {
        "id": "9ButypNI2IJk"
      },
      "execution_count": null,
      "outputs": []
    },
    {
      "cell_type": "code",
      "source": [
        "hist(res_sar, freq = FALSE, main=\"Distribución de los residuales\")\n",
        "dens <- density(res_sar)\n",
        "lines(dens, col = \"red\", lwd = 2)"
      ],
      "metadata": {
        "id": "mG-1Aee32IHG"
      },
      "execution_count": null,
      "outputs": []
    },
    {
      "cell_type": "markdown",
      "source": [
        "## Diagnóstico Residual para el modelo ARIMA(0,1,1)"
      ],
      "metadata": {
        "id": "53VdTEi7a1O1"
      }
    },
    {
      "cell_type": "code",
      "source": [
        "# Diagnóstico residual paso a paso #\n",
        "par(mfrow=c(3,2))\n",
        "plot.ts(res_sar, main=\"Residuales\", ylab=\"\")\n",
        "hist(res_sar, main=\"Histograma de Residuales\")\n",
        "acf(res_sar, lag.max=25, main=\"ACF de Residuales\")\n",
        "pacf(res_sar, lag.max=25, main=\"PACF de Residuales\")\n",
        "\n",
        "# La prueba de Ljung-Box se formula para evaluar la autocorrelación de un conjunto de rezagos en los residuos de un modelo ajustado.\n",
        "# La hipótesis nula (H0) es que no hay autocorrelación en los residuos hasta el rezago especificado, mientras que\n",
        "# la hipótesis alternativa (H1) es que hay autocorrelación en al menos uno de los rezagos.\n",
        "Box.Test = function(x, lag = 25, main = \"p values for Ljung-Box statistic\"){\n",
        "  B<-vector(\"numeric\")\n",
        "  for(i in 1:lag){\n",
        "    B[i]<-Box.test(x, lag = i, type = \"Ljung-Box\")$p.value\n",
        "  }\n",
        "  A<-matrix(cbind(c(1:lag),B), nrow = lag, ncol = 2, byrow=F, dimnames = list(NULL, c(\"lag\", \"p.value\")))\n",
        "  plot(A[,1], A[,2], ylim = c(0, max(0.051,(max(A[,2])+.01))),\n",
        "       ylab = \"p-value\", xlab = \"Lag\", main = main, lwd = 2)\n",
        "  abline(0.05, 0, col = 4, lty = 2)\n",
        "}\n",
        "Box.Test(res_sar)"
      ],
      "metadata": {
        "id": "-USInC9_SuLt"
      },
      "execution_count": null,
      "outputs": []
    },
    {
      "cell_type": "markdown",
      "source": [
        "### Algunas metodologías para probar normalidad"
      ],
      "metadata": {
        "id": "nUpaJ9t6c6Kz"
      }
    },
    {
      "cell_type": "code",
      "source": [
        "# Shapiro Wilk: Prueba de Hipótesis para contrastar normalidad #\n",
        "shapiro.test(res_sar)"
      ],
      "metadata": {
        "id": "uFMN8QeTdBU3"
      },
      "execution_count": null,
      "outputs": []
    },
    {
      "cell_type": "code",
      "source": [
        "# Kolmogorov-Smirnov: Prueba no paramétrica basada en Bondad Ajuste #\n",
        "lillie.test(res_sar)"
      ],
      "metadata": {
        "id": "zMNimDwsdIBT"
      },
      "execution_count": null,
      "outputs": []
    },
    {
      "cell_type": "code",
      "source": [
        "# Jarque Bera: Basado en la Asimetría y Curtosis de una Normal #\n",
        "jarqueberaTest(res_sar)"
      ],
      "metadata": {
        "id": "eWgitXOxdH-w"
      },
      "execution_count": null,
      "outputs": []
    },
    {
      "cell_type": "code",
      "source": [
        "# Gráfico del Q-Q Plot #\n",
        "qqPlot(res_sar, envelope = 0.95, main = \"Q-Q Plot de Residuos con Intervalo\")"
      ],
      "metadata": {
        "id": "Z0Gddt2gZqa-"
      },
      "execution_count": null,
      "outputs": []
    },
    {
      "cell_type": "markdown",
      "source": [
        "## Función alternativa para encontrar modelos preliminares\n",
        "\n",
        "La función auto.arima de la librería forecast de R, proporciona una opción rápida para construir pronósticos con series temporales, debido a que evalúa entre todos los posibles modelos, al mejor modelo considerando diversos criterios: estacionariedad, estacionalidad, diferencias, entre otras.\n",
        "\n"
      ],
      "metadata": {
        "id": "lISkPyZU1Xzv"
      }
    },
    {
      "cell_type": "code",
      "source": [
        "# Función Autoarima #\n",
        "mod_auto = auto.arima(sales)\n",
        "mod_auto"
      ],
      "metadata": {
        "id": "fCxEU7Jmz3rb"
      },
      "execution_count": null,
      "outputs": []
    },
    {
      "cell_type": "code",
      "source": [
        "# Diagnóstico residual #\n",
        "res_auto<-auto.arima(sales)$residuals\n",
        "par(mfrow = c(2,2))\n",
        "hist(res_auto)\n",
        "shapiro.test(res_auto)\n",
        "Box.test(res_auto, type = c(\"Box-Pierce\", \"Ljung-Box\"))\n",
        "Box.Test(res_auto)\n",
        "acf(res_auto, main=\"ACF de Ventas\")\n",
        "pacf(res_auto, main=\"PACF de Ventas\")"
      ],
      "metadata": {
        "id": "tROoPSUwz3or"
      },
      "execution_count": null,
      "outputs": []
    },
    {
      "cell_type": "markdown",
      "source": [
        "## Pronóstico"
      ],
      "metadata": {
        "id": "tsjwo8oV2bc0"
      }
    },
    {
      "cell_type": "code",
      "source": [
        "# Modelo a ser empleado en el pronóstico #\n",
        "mod_sar <- arima(sales, order = c(0, 1, 1), method = c(\"CSS-ML\"))"
      ],
      "metadata": {
        "id": "59WN39-22gw4"
      },
      "execution_count": null,
      "outputs": []
    },
    {
      "cell_type": "code",
      "source": [
        "# Pronósticos para la serie de ventas con horizonte 30 (1 mes) #\n",
        "fc_sar = forecast(sales, model = mod_sar, h = 12)\n",
        "fc_sar"
      ],
      "metadata": {
        "id": "ZHd9NzSZ2gt7"
      },
      "execution_count": null,
      "outputs": []
    },
    {
      "cell_type": "code",
      "source": [
        "# Gráfico de la series de ventas con sus respectivos pronósticos #\n",
        "plot(fc_sar, ylab=\"Ventas Promedio\", xlab=\"Mes\", main=\"Pronósticos de las Ventas Promedio Mensual\")"
      ],
      "metadata": {
        "id": "76gHV_Es2grO"
      },
      "execution_count": null,
      "outputs": []
    },
    {
      "cell_type": "code",
      "source": [
        "# Forma Alternativa #\n",
        "pred_sar = predict(mod_sar, n.ahead = 12, se.fit = TRUE)\n",
        "pred_sar"
      ],
      "metadata": {
        "id": "kYkalbMKgSg7"
      },
      "execution_count": null,
      "outputs": []
    },
    {
      "cell_type": "markdown",
      "source": [
        "## Desempeño del pronóstico\n",
        "\n",
        "#### Para medir el desempeño predictivo del modelo, se divide la serie en datos para entrenar (train) y datos para probar (test) el modelo. Tomando un 80% de los datos para ajustar el modelo y un 20% para testearlo, pues se sabe que entre más datos tenga el modelo podemos obtener mejores predicciones."
      ],
      "metadata": {
        "id": "zRWCODNlhuEb"
      }
    },
    {
      "cell_type": "code",
      "source": [
        "r=0.8 # Tasa de entrenamiento\n",
        "sales_train <- ts(sales[1:floor(r*length(sales))])\n",
        "sales_test <- ts(sales[(length(sales_train)+1): length(sales)])"
      ],
      "metadata": {
        "id": "f009IbmIhzpI"
      },
      "execution_count": null,
      "outputs": []
    },
    {
      "cell_type": "code",
      "source": [
        "# Pronósticos para la serie de ventas con horizonte 30 (1 mes) #\n",
        "fc_r = forecast(sales_train, model = mod_sar, h = length(sales_test))"
      ],
      "metadata": {
        "id": "K9J5-OZujGYg"
      },
      "execution_count": null,
      "outputs": []
    },
    {
      "cell_type": "code",
      "source": [
        "# MAPE (Error de Porcentaje Medio Absoluto) #\n",
        "mape_sales = MAPE(ts(fc_r$mean), ts(sales_test))*100\n",
        "paste('MAPE : ',round(mape_sales,3),\"%\")"
      ],
      "metadata": {
        "id": "YedtF2pPjCnq"
      },
      "execution_count": null,
      "outputs": []
    },
    {
      "cell_type": "code",
      "source": [
        "# Gráfico de las series sales_train, sales_test y fc_r$mean #\n",
        "plot.ts(sales,  lwd=2, main=\"Entrenamiento, Prueba y Pronóstico\"); grid()\n",
        "lines(fc_r$mean, col=\"red\", lwd=2)"
      ],
      "metadata": {
        "id": "iYY9g8R7o7cN"
      },
      "execution_count": null,
      "outputs": []
    },
    {
      "cell_type": "markdown",
      "source": [
        "## Forma alternativa de analizar desempeño por pronóstico"
      ],
      "metadata": {
        "id": "zRA_h1FrSh9W"
      }
    },
    {
      "cell_type": "code",
      "source": [
        "# Con este comando se pueden ver las métricas para evaluar el pronóntico  ME, RMSE, MAE, MPE, MAPE, MASE #\n",
        "# ME (Mean Error)\n",
        "# RMSE (Root Mean Squared Error)\n",
        "# MAE (Mean Absolute Error)\n",
        "# MPE (Mean Percentage Error)\n",
        "# MAPE (Mean Absolute Percentage Error)\n",
        "# MASE (Mean Absolute Scaled Error)\n",
        "summary(mod_sar)"
      ],
      "metadata": {
        "id": "ns4y5bfcSg5a"
      },
      "execution_count": null,
      "outputs": []
    },
    {
      "cell_type": "markdown",
      "source": [
        "## ¡FIN!"
      ],
      "metadata": {
        "id": "ldrpnBA-KnbK"
      }
    }
  ]
}